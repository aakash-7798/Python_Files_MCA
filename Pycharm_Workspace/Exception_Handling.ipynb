{
 "cells": [
  {
   "cell_type": "code",
   "execution_count": 1,
   "outputs": [],
   "source": [
    "# Errors and Exceptions\n",
    "# 1. syntax errors\n",
    "# 2. exceptions"
   ],
   "metadata": {
    "collapsed": false,
    "pycharm": {
     "name": "#%%\n"
    }
   }
  },
  {
   "cell_type": "code",
   "execution_count": 5,
   "outputs": [
    {
     "ename": "SyntaxError",
     "evalue": "invalid syntax (767394959.py, line 4)",
     "output_type": "error",
     "traceback": [
      "\u001B[1;36m  Input \u001B[1;32mIn [5]\u001B[1;36m\u001B[0m\n\u001B[1;33m    if 2<3 print(2)  # --> I am missing colon (:)\u001B[0m\n\u001B[1;37m           ^\u001B[0m\n\u001B[1;31mSyntaxError\u001B[0m\u001B[1;31m:\u001B[0m invalid syntax\n"
     ]
    }
   ],
   "source": [
    "# 1. Syntax Errors\n",
    "# they are also called compile time errors or parsing errors\n",
    "# let's see one example\n",
    "if 2<3 print(2)  # --> I am missing colon (:)"
   ],
   "metadata": {
    "collapsed": false,
    "pycharm": {
     "name": "#%%\n"
    }
   }
  },
  {
   "cell_type": "code",
   "execution_count": 6,
   "outputs": [],
   "source": [
    "# Exceptions\n",
    "# Even if a statement or expression is syntactically correct, it may cause an error when an attempt is made to execute it.\n",
    "# Errors detected during execution are called exceptions and are not unconditionally fatal:\n",
    "# Most exceptions are not handled by programs, however, and result in error messages are shown"
   ],
   "metadata": {
    "collapsed": false,
    "pycharm": {
     "name": "#%%\n"
    }
   }
  },
  {
   "cell_type": "code",
   "execution_count": 7,
   "outputs": [],
   "source": [
    "# Built-in Exceptions\n",
    "# In Python, all exceptions must be instances of a class that derives from BaseException\n",
    "# Following are some builtin exceptions"
   ],
   "metadata": {
    "collapsed": false,
    "pycharm": {
     "name": "#%%\n"
    }
   }
  },
  {
   "cell_type": "code",
   "execution_count": 8,
   "outputs": [
    {
     "ename": "ZeroDivisionError",
     "evalue": "division by zero",
     "output_type": "error",
     "traceback": [
      "\u001B[1;31m---------------------------------------------------------------------------\u001B[0m",
      "\u001B[1;31mZeroDivisionError\u001B[0m                         Traceback (most recent call last)",
      "Input \u001B[1;32mIn [8]\u001B[0m, in \u001B[0;36m<cell line: 2>\u001B[1;34m()\u001B[0m\n\u001B[0;32m      1\u001B[0m \u001B[38;5;66;03m# 1. ZeroDivisionError\u001B[39;00m\n\u001B[1;32m----> 2\u001B[0m \u001B[38;5;28mprint\u001B[39m(\u001B[38;5;241;43m12\u001B[39;49m\u001B[38;5;241;43m/\u001B[39;49m\u001B[38;5;241;43m0\u001B[39;49m)\n",
      "\u001B[1;31mZeroDivisionError\u001B[0m: division by zero"
     ]
    }
   ],
   "source": [
    "# ArithmeticError -> Base class for all errors that occur for numeric calculation.\n",
    "# Ar_1. ZeroDivisionError  -> Raised when division or modulo by zero takes place for all numeric types.\n",
    "print(12/0)"
   ],
   "metadata": {
    "collapsed": false,
    "pycharm": {
     "name": "#%%\n"
    }
   }
  },
  {
   "cell_type": "code",
   "execution_count": 22,
   "outputs": [
    {
     "name": "stdout",
     "output_type": "stream",
     "text": [
      "0.1999999999999993\n"
     ]
    }
   ],
   "source": [
    "# Ar_2 Floating Point Error -> Raised when a floating point calculation fails.\n",
    "print(8.2-8.0)"
   ],
   "metadata": {
    "collapsed": false,
    "pycharm": {
     "name": "#%%\n"
    }
   }
  },
  {
   "cell_type": "code",
   "execution_count": 11,
   "outputs": [
    {
     "ename": "NameError",
     "evalue": "name 'b' is not defined",
     "output_type": "error",
     "traceback": [
      "\u001B[1;31m---------------------------------------------------------------------------\u001B[0m",
      "\u001B[1;31mNameError\u001B[0m                                 Traceback (most recent call last)",
      "Input \u001B[1;32mIn [11]\u001B[0m, in \u001B[0;36m<cell line: 4>\u001B[1;34m()\u001B[0m\n\u001B[0;32m      1\u001B[0m \u001B[38;5;66;03m# 2. NameError ->  Raised when an identifier is not found in the local or global namespace.\u001B[39;00m\n\u001B[0;32m      2\u001B[0m \n\u001B[0;32m      3\u001B[0m \u001B[38;5;66;03m# prit(20)\u001B[39;00m\n\u001B[1;32m----> 4\u001B[0m \u001B[38;5;28mprint\u001B[39m(\u001B[43mb\u001B[49m)\n",
      "\u001B[1;31mNameError\u001B[0m: name 'b' is not defined"
     ]
    }
   ],
   "source": [
    "# 2. NameError ->  Raised when an identifier is not found in the local or global namespace.\n",
    "# prit(20)  -> spelling\n",
    "print(b)  #-> variable not defined"
   ],
   "metadata": {
    "collapsed": false,
    "pycharm": {
     "name": "#%%\n"
    }
   }
  },
  {
   "cell_type": "code",
   "execution_count": 14,
   "outputs": [
    {
     "name": "stdout",
     "output_type": "stream",
     "text": [
      "1 a b 2 3 5 "
     ]
    }
   ],
   "source": [
    "# 3. StopIteration  -> Raised when the next() method of an iterator does not point to any object.\n",
    "# before understanding the error let's iter does .\n",
    "lt = [1,\"a\",\"b\",2,3,5]\n",
    "a = iter(lt)\n",
    "for i in range(len(lt)):\n",
    "    print(a.__next__(),end=' ')  # --> this printed me all elements in list lt with help of iter function and next function"
   ],
   "metadata": {
    "collapsed": false,
    "pycharm": {
     "name": "#%%\n"
    }
   }
  },
  {
   "cell_type": "code",
   "execution_count": 16,
   "outputs": [
    {
     "ename": "StopIteration",
     "evalue": "",
     "output_type": "error",
     "traceback": [
      "\u001B[1;31m---------------------------------------------------------------------------\u001B[0m",
      "\u001B[1;31mStopIteration\u001B[0m                             Traceback (most recent call last)",
      "Input \u001B[1;32mIn [16]\u001B[0m, in \u001B[0;36m<cell line: 1>\u001B[1;34m()\u001B[0m\n\u001B[0;32m      1\u001B[0m \u001B[38;5;28;01mfor\u001B[39;00m i \u001B[38;5;129;01min\u001B[39;00m \u001B[38;5;28mrange\u001B[39m(\u001B[38;5;28mlen\u001B[39m(lt)\u001B[38;5;241m+\u001B[39m\u001B[38;5;241m1\u001B[39m):   \u001B[38;5;66;03m# -> here I increased the length by 1 so iter does not know which to point out next  \u001B[39;00m\n\u001B[1;32m----> 2\u001B[0m     \u001B[38;5;28mprint\u001B[39m(\u001B[43ma\u001B[49m\u001B[38;5;241;43m.\u001B[39;49m\u001B[38;5;21;43m__next__\u001B[39;49m\u001B[43m(\u001B[49m\u001B[43m)\u001B[49m,end\u001B[38;5;241m=\u001B[39m\u001B[38;5;124m'\u001B[39m\u001B[38;5;124m \u001B[39m\u001B[38;5;124m'\u001B[39m)\n",
      "\u001B[1;31mStopIteration\u001B[0m: "
     ]
    }
   ],
   "source": [
    "for i in range(len(lt)+1):   # -> here I increased the length by 1 so iter does not know which to point out next\n",
    "    print(a.__next__(),end=' ')  # so exception is raised"
   ],
   "metadata": {
    "collapsed": false,
    "pycharm": {
     "name": "#%%\n"
    }
   }
  },
  {
   "cell_type": "code",
   "execution_count": 23,
   "outputs": [
    {
     "ename": "IndexError",
     "evalue": "list index out of range",
     "output_type": "error",
     "traceback": [
      "\u001B[1;31m---------------------------------------------------------------------------\u001B[0m",
      "\u001B[1;31mIndexError\u001B[0m                                Traceback (most recent call last)",
      "Input \u001B[1;32mIn [23]\u001B[0m, in \u001B[0;36m<cell line: 2>\u001B[1;34m()\u001B[0m\n\u001B[0;32m      1\u001B[0m \u001B[38;5;66;03m# 4. IndexError  -> Raised when an index is not found in a sequence.\u001B[39;00m\n\u001B[1;32m----> 2\u001B[0m \u001B[43mlt\u001B[49m\u001B[43m[\u001B[49m\u001B[38;5;241;43m6\u001B[39;49m\u001B[43m]\u001B[49m\n",
      "\u001B[1;31mIndexError\u001B[0m: list index out of range"
     ]
    }
   ],
   "source": [
    "# 4 and 5 are lookup errors  -> Lookup error is the base class for key error and index error\n",
    "# 4. IndexError  -> Raised when an index is not found in a sequence.\n",
    "lt[6]   # In above created list I have only 6 elements which means last index is 5 as index starts from zero\n",
    "        # I have mentioned 6 so list index out of range"
   ],
   "metadata": {
    "collapsed": false,
    "pycharm": {
     "name": "#%%\n"
    }
   }
  },
  {
   "cell_type": "code",
   "execution_count": 24,
   "outputs": [
    {
     "ename": "KeyError",
     "evalue": "3",
     "output_type": "error",
     "traceback": [
      "\u001B[1;31m---------------------------------------------------------------------------\u001B[0m",
      "\u001B[1;31mKeyError\u001B[0m                                  Traceback (most recent call last)",
      "Input \u001B[1;32mIn [24]\u001B[0m, in \u001B[0;36m<cell line: 3>\u001B[1;34m()\u001B[0m\n\u001B[0;32m      1\u001B[0m \u001B[38;5;66;03m# 5. KeyError -> Raised when the specified key is not found in the dictionary.\u001B[39;00m\n\u001B[0;32m      2\u001B[0m dt \u001B[38;5;241m=\u001B[39m {\u001B[38;5;241m1\u001B[39m:\u001B[38;5;124m\"\u001B[39m\u001B[38;5;124ma\u001B[39m\u001B[38;5;124m\"\u001B[39m,\u001B[38;5;241m2\u001B[39m:\u001B[38;5;124m\"\u001B[39m\u001B[38;5;124mb\u001B[39m\u001B[38;5;124m\"\u001B[39m}\n\u001B[1;32m----> 3\u001B[0m \u001B[38;5;28mprint\u001B[39m(\u001B[43mdt\u001B[49m\u001B[43m[\u001B[49m\u001B[38;5;241;43m3\u001B[39;49m\u001B[43m]\u001B[49m)\n",
      "\u001B[1;31mKeyError\u001B[0m: 3"
     ]
    }
   ],
   "source": [
    "# 5. KeyError -> Raised when the specified key is not found in the dictionary.\n",
    "dt = {1:\"a\",2:\"b\"}\n",
    "print(dt[3])   # key 3 is not found  so key error"
   ],
   "metadata": {
    "collapsed": false,
    "pycharm": {
     "name": "#%%\n"
    }
   }
  },
  {
   "cell_type": "code",
   "execution_count": 25,
   "outputs": [
    {
     "ename": "IndentationError",
     "evalue": "expected an indented block after 'for' statement on line 2 (2560875236.py, line 3)",
     "output_type": "error",
     "traceback": [
      "\u001B[1;36m  Input \u001B[1;32mIn [25]\u001B[1;36m\u001B[0m\n\u001B[1;33m    print(i)\u001B[0m\n\u001B[1;37m    ^\u001B[0m\n\u001B[1;31mIndentationError\u001B[0m\u001B[1;31m:\u001B[0m expected an indented block after 'for' statement on line 2\n"
     ]
    }
   ],
   "source": [
    "# 6. IndentationError  -> Raised when indentation is not specified properly.\n",
    "for i in range(5):\n",
    "print(i)"
   ],
   "metadata": {
    "collapsed": false,
    "pycharm": {
     "name": "#%%\n"
    }
   }
  },
  {
   "cell_type": "code",
   "execution_count": 31,
   "outputs": [
    {
     "ename": "TypeError",
     "evalue": "unsupported operand type(s) for /: 'str' and 'int'",
     "output_type": "error",
     "traceback": [
      "\u001B[1;31m---------------------------------------------------------------------------\u001B[0m",
      "\u001B[1;31mTypeError\u001B[0m                                 Traceback (most recent call last)",
      "Input \u001B[1;32mIn [31]\u001B[0m, in \u001B[0;36m<cell line: 2>\u001B[1;34m()\u001B[0m\n\u001B[0;32m      1\u001B[0m \u001B[38;5;66;03m# 7. TypeError -> Raised when an operation or function is attempted that is invalid for the specified data type.\u001B[39;00m\n\u001B[1;32m----> 2\u001B[0m \u001B[38;5;28mprint\u001B[39m(\u001B[38;5;124;43m\"\u001B[39;49m\u001B[38;5;124;43ma\u001B[39;49m\u001B[38;5;124;43m\"\u001B[39;49m\u001B[43m \u001B[49m\u001B[38;5;241;43m/\u001B[39;49m\u001B[43m \u001B[49m\u001B[38;5;241;43m2\u001B[39;49m)\n",
      "\u001B[1;31mTypeError\u001B[0m: unsupported operand type(s) for /: 'str' and 'int'"
     ]
    }
   ],
   "source": [
    "# 7. TypeError -> Raised when an operation or function is attempted that is invalid for the specified data type.\n",
    "print(\"a\" / 2)"
   ],
   "metadata": {
    "collapsed": false,
    "pycharm": {
     "name": "#%%\n"
    }
   }
  },
  {
   "cell_type": "code",
   "execution_count": 34,
   "outputs": [
    {
     "ename": "ModuleNotFoundError",
     "evalue": "No module named 'print'",
     "output_type": "error",
     "traceback": [
      "\u001B[1;31m---------------------------------------------------------------------------\u001B[0m",
      "\u001B[1;31mModuleNotFoundError\u001B[0m                       Traceback (most recent call last)",
      "Input \u001B[1;32mIn [34]\u001B[0m, in \u001B[0;36m<cell line: 2>\u001B[1;34m()\u001B[0m\n\u001B[0;32m      1\u001B[0m \u001B[38;5;66;03m# 8. ImportError  -> Raised when an import statement fails.\u001B[39;00m\n\u001B[1;32m----> 2\u001B[0m \u001B[38;5;28;01mimport\u001B[39;00m \u001B[38;5;21;01mprint\u001B[39;00m\n",
      "\u001B[1;31mModuleNotFoundError\u001B[0m: No module named 'print'"
     ]
    }
   ],
   "source": [
    "# 8. ModuleNotFoundError  -> Raised when a module not found\n",
    "import print"
   ],
   "metadata": {
    "collapsed": false,
    "pycharm": {
     "name": "#%%\n"
    }
   }
  },
  {
   "cell_type": "code",
   "execution_count": null,
   "outputs": [],
   "source": [
    "## The above are so far enough for basic understanding"
   ],
   "metadata": {
    "collapsed": false,
    "pycharm": {
     "name": "#%%\n"
    }
   }
  },
  {
   "cell_type": "code",
   "execution_count": 35,
   "outputs": [],
   "source": [
    "## let's see how to handle exceptions"
   ],
   "metadata": {
    "collapsed": false,
    "pycharm": {
     "name": "#%%\n"
    }
   }
  },
  {
   "cell_type": "code",
   "execution_count": null,
   "outputs": [],
   "source": [
    "# To handle exceptions, Python has four major defined components: try, except, else, and finally.\n",
    "# try      ->  run this code\n",
    "# except   ->  execute this code when there is exception\n",
    "# else     ->  no exceptions run this code\n",
    "# finally  ->  always run this code"
   ],
   "metadata": {
    "collapsed": false,
    "pycharm": {
     "name": "#%%\n"
    }
   }
  },
  {
   "cell_type": "code",
   "execution_count": 24,
   "outputs": [
    {
     "name": "stdout",
     "output_type": "stream",
     "text": [
      "5\n",
      "2\n",
      "2\n",
      "You are dividing a number by zero.... integer division or modulo by zero\n",
      "No matter what  i will print that's it\n"
     ]
    }
   ],
   "source": [
    "# Example to handle ZeroDivisionError\n",
    "try:\n",
    "    ct=0\n",
    "    for (i,j) in zip([10,8,6,4],[2,4,3,0]):\n",
    "        print(i//j)\n",
    "        ct+=1\n",
    "except Exception as e:\n",
    "    print(\"You are dividing a number by zero....\",e)   # --> here e is the exception object\n",
    "else:\n",
    "    print(f\"All operations done successfully -> so i will print  \")  # this will not run as there is exception\n",
    "finally:\n",
    "    print(\"No matter what  i will print that's it\")"
   ],
   "metadata": {
    "collapsed": false,
    "pycharm": {
     "name": "#%%\n"
    }
   }
  },
  {
   "cell_type": "code",
   "execution_count": 23,
   "outputs": [
    {
     "name": "stdout",
     "output_type": "stream",
     "text": [
      "2\n",
      "2\n",
      "2\n",
      "2\n",
      "All operations done successfully -> so i will print  \n",
      "No matter what  i will print that's it\n"
     ]
    }
   ],
   "source": [
    "try:\n",
    "    for (i, j) in zip([10, 8, 6, 4], [5, 4, 3,2]):\n",
    "        print(i//j)\n",
    "except Exception as e:\n",
    "    print(\"You are dividing a number by zero....\", e)  # --> here e is the exception object\n",
    "else:\n",
    "    print(f\"All operations done successfully -> so i will print  \")  # this will not run as there is exception\n",
    "finally:\n",
    "    print(\"No matter what  i will print that's it\")"
   ],
   "metadata": {
    "collapsed": false,
    "pycharm": {
     "name": "#%%\n"
    }
   }
  },
  {
   "cell_type": "code",
   "execution_count": 26,
   "outputs": [
    {
     "name": "stdout",
     "output_type": "stream",
     "text": [
      "2\n",
      "2\n",
      "You are dividing a number by zero....\n",
      "No matter what  i will print that's it\n"
     ]
    }
   ],
   "source": [
    "try:\n",
    "    for (i, j) in zip([10, 8, 6, 4], [5, 4, 0,0]):\n",
    "        print(i//j)\n",
    "except ZeroDivisionError:     ## here you can specify as many exceptions as you want\n",
    "    print(\"You are dividing a number by zero....\",)  # --> here e is the exception object\n",
    "else:\n",
    "    print(f\"All operations done successfully -> so i will print  \")  # this will not run as there is exception\n",
    "finally:\n",
    "    print(\"No matter what  i will print that's it\")"
   ],
   "metadata": {
    "collapsed": false,
    "pycharm": {
     "name": "#%%\n"
    }
   }
  },
  {
   "cell_type": "code",
   "execution_count": 8,
   "outputs": [
    {
     "name": "stdout",
     "output_type": "stream",
     "text": [
      "file opened\n",
      "file closed\n"
     ]
    }
   ],
   "source": [
    "## Suppose If a file is opened then It should always be closed\n",
    "## What if file is opened and exception is caught    ->  that will never be closed\n",
    "# then how to handle that\n",
    "\n",
    "print(\"file opened\")\n",
    "print('file closed')    # this is normal scenario assuming no exceptions"
   ],
   "metadata": {
    "collapsed": false,
    "pycharm": {
     "name": "#%%\n"
    }
   }
  },
  {
   "cell_type": "code",
   "execution_count": 27,
   "outputs": [
    {
     "name": "stdout",
     "output_type": "stream",
     "text": [
      "File Opened\n",
      "Type Error -> check the type as you are dividing with string\n"
     ]
    }
   ],
   "source": [
    "# Assuming exception might occur as I want to perform some operation so I need to make use of try and except blocks\n",
    "try:\n",
    "    print(\"File Opened\")\n",
    "    lst = [1,2,3,4,5]\n",
    "    print(lst[0]/'a')\n",
    "    print(\"File Closed\")     # this will not print because there is exception\n",
    "                             # so that will move to except block making last statement waiting forever\n",
    "except:\n",
    "    print(\"Type Error -> check the type as you are dividing with string\")"
   ],
   "metadata": {
    "collapsed": false,
    "pycharm": {
     "name": "#%%\n"
    }
   }
  },
  {
   "cell_type": "code",
   "execution_count": 29,
   "outputs": [
    {
     "name": "stdout",
     "output_type": "stream",
     "text": [
      "File Opened\n",
      "Type Error -> check the type as you are dividing with string  (can only perform on integers or floating)\n",
      "File Closed\n"
     ]
    }
   ],
   "source": [
    "# what if you want to close the file  can I close that by keeping it in except block let's see\n",
    "try:\n",
    "    print(\"File Opened\")\n",
    "    lst = [1, 2, 3, 4, 5]\n",
    "    print(lst[0] / 'a')\n",
    "except:\n",
    "    print(\"Type Error -> check the type as you are dividing with string  (can only perform on integers or floating)\")\n",
    "    print(\"File Closed\")    # now file is closed"
   ],
   "metadata": {
    "collapsed": false,
    "pycharm": {
     "name": "#%%\n"
    }
   }
  },
  {
   "cell_type": "code",
   "execution_count": 30,
   "outputs": [
    {
     "name": "stdout",
     "output_type": "stream",
     "text": [
      "File Opened\n",
      "1.5\n"
     ]
    }
   ],
   "source": [
    "## see in above example we assumed that there is exception and kept that in except block\n",
    "## What if there is no exception    will the file close\n",
    "## let's see\n",
    "try:\n",
    "    print(\"File Opened\")\n",
    "    lst = [1, 2, 3, 4, 5]\n",
    "    print(lst[2] /2)\n",
    "except:\n",
    "    print(\"Type Error -> check the type as you are dividing with string  (can only perform on integers or floating)\")\n",
    "    print(\"File Closed\")  # now file is not closed  as there is no exception\n",
    "\n",
    "    ## how to resolve the above problem   ..   I want to close the file no matter it has exception or not\n",
    "    ## don't specify two print statements in try and except    -> bad practice\n",
    "    ## here comes the finally   -> as discussed earlier"
   ],
   "metadata": {
    "collapsed": false,
    "pycharm": {
     "name": "#%%\n"
    }
   }
  },
  {
   "cell_type": "code",
   "execution_count": 32,
   "outputs": [
    {
     "name": "stdout",
     "output_type": "stream",
     "text": [
      "File Opened\n",
      "Type Error -> check the type as you are dividing with string  (can only perform on integers or floating)\n",
      "File Closed\n"
     ]
    }
   ],
   "source": [
    "# finally\n",
    "try:\n",
    "    print(\"File Opened\")\n",
    "    lst = [1, 2, 3, 4, 5]\n",
    "    print(lst[2] /\"a\")\n",
    "except:\n",
    "    print(\"Type Error -> check the type as you are dividing with string  (can only perform on integers or floating)\")\n",
    "finally:\n",
    "    print(\"File Closed\")  # now file will be closed   no matter what.."
   ],
   "metadata": {
    "collapsed": false,
    "pycharm": {
     "name": "#%%\n"
    }
   }
  },
  {
   "cell_type": "code",
   "execution_count": 44,
   "outputs": [
    {
     "name": "stdout",
     "output_type": "stream",
     "text": [
      "x v d s 1 2 3 0 \n",
      "An Error occurred\n",
      "I don't care try block\n"
     ]
    }
   ],
   "source": [
    "## Multiple except and exceptions\n",
    "a = [\"x\",\"v\",\"d\",\"s\",1,2,3,0]\n",
    "b = iter(a)\n",
    "try:\n",
    "    for i in range(len(a)+1):\n",
    "        print(b.__next__(),end=' ')\n",
    "    print(a[0]/a[-2])   #  this will not print\n",
    "    print(a[-3]/0)\n",
    "except(TypeError,ZeroDivisionError,StopIteration):\n",
    "    print(\"\\nAn Error occurred\")\n",
    "finally:\n",
    "    print(\"I don't care try block\")"
   ],
   "metadata": {
    "collapsed": false,
    "pycharm": {
     "name": "#%%\n"
    }
   }
  },
  {
   "cell_type": "code",
   "execution_count": 45,
   "outputs": [
    {
     "name": "stdout",
     "output_type": "stream",
     "text": [
      "x v d s 1 2 3 0 \n",
      "StopIteration -> Length Exceed while iterating... \n",
      "I don't care no one\n"
     ]
    }
   ],
   "source": [
    "## the above can also be written as\n",
    "a = [\"x\", \"v\", \"d\", \"s\", 1, 2, 3, 0]\n",
    "b = iter(a)\n",
    "try:\n",
    "    for i in range(len(a) + 1):\n",
    "        print(b.__next__(), end=' ')\n",
    "    print(a[0] / a[-2])  #  this will not print\n",
    "    print(a[-3] / 0)\n",
    "except TypeError:\n",
    "    print(\"\\nTypeError -> you are dividing with a string ...\")\n",
    "except ZeroDivisionError:\n",
    "    print(\"\\nZeroDivisionError -> you are dividing with a zero... \")\n",
    "except StopIteration:\n",
    "    print(\"\\nStopIteration -> Length Exceed while iterating... \")\n",
    "finally:\n",
    "    print(\"I don't care no one\")"
   ],
   "metadata": {
    "collapsed": false,
    "pycharm": {
     "name": "#%%\n"
    }
   }
  },
  {
   "cell_type": "code",
   "execution_count": 55,
   "outputs": [
    {
     "ename": "ZeroDivisionError",
     "evalue": "Intha nerchkunna kooda errors vasthunnaya naaku  ..  concentrate",
     "output_type": "error",
     "traceback": [
      "\u001B[1;31m---------------------------------------------------------------------------\u001B[0m",
      "\u001B[1;31mZeroDivisionError\u001B[0m                         Traceback (most recent call last)",
      "Input \u001B[1;32mIn [55]\u001B[0m, in \u001B[0;36m<cell line: 6>\u001B[1;34m()\u001B[0m\n\u001B[0;32m      6\u001B[0m \u001B[38;5;28;01mtry\u001B[39;00m:\n\u001B[1;32m----> 7\u001B[0m     \u001B[38;5;28mprint\u001B[39m(\u001B[43ma\u001B[49m\u001B[43m[\u001B[49m\u001B[38;5;241;43m-\u001B[39;49m\u001B[38;5;241;43m2\u001B[39;49m\u001B[43m]\u001B[49m\u001B[38;5;241;43m/\u001B[39;49m\u001B[43ma\u001B[49m\u001B[43m[\u001B[49m\u001B[38;5;241;43m-\u001B[39;49m\u001B[38;5;241;43m1\u001B[39;49m\u001B[43m]\u001B[49m)\n\u001B[0;32m      8\u001B[0m \u001B[38;5;28;01mexcept\u001B[39;00m \u001B[38;5;167;01mZeroDivisionError\u001B[39;00m:\n",
      "\u001B[1;31mZeroDivisionError\u001B[0m: division by zero",
      "\nDuring handling of the above exception, another exception occurred:\n",
      "\u001B[1;31mZeroDivisionError\u001B[0m                         Traceback (most recent call last)",
      "Input \u001B[1;32mIn [55]\u001B[0m, in \u001B[0;36m<cell line: 6>\u001B[1;34m()\u001B[0m\n\u001B[0;32m      7\u001B[0m     \u001B[38;5;28mprint\u001B[39m(a[\u001B[38;5;241m-\u001B[39m\u001B[38;5;241m2\u001B[39m]\u001B[38;5;241m/\u001B[39ma[\u001B[38;5;241m-\u001B[39m\u001B[38;5;241m1\u001B[39m])\n\u001B[0;32m      8\u001B[0m \u001B[38;5;28;01mexcept\u001B[39;00m \u001B[38;5;167;01mZeroDivisionError\u001B[39;00m:\n\u001B[1;32m----> 9\u001B[0m     \u001B[38;5;28;01mraise\u001B[39;00m \u001B[38;5;167;01mZeroDivisionError\u001B[39;00m(\u001B[38;5;124m\"\u001B[39m\u001B[38;5;124mIntha nerchkunna kooda errors vasthunnaya naaku  ..  concentrate\u001B[39m\u001B[38;5;124m\"\u001B[39m)\n",
      "\u001B[1;31mZeroDivisionError\u001B[0m: Intha nerchkunna kooda errors vasthunnaya naaku  ..  concentrate"
     ]
    }
   ],
   "source": [
    "# Raising Exceptions\n",
    "# The raise statement allows the programmer to force a specified exception to occur.\n",
    "\n",
    "## If you don't now what might be the exception then use Exception otherwise specify exception name\n",
    "# Let's see the example\n",
    "try:\n",
    "    print(a[-2]/a[-1])\n",
    "except ZeroDivisionError:\n",
    "    raise ZeroDivisionError(\"Intha nerchkunna kooda errors vasthunnaya naaku  ..  concentrate\")\n"
   ],
   "metadata": {
    "collapsed": false,
    "pycharm": {
     "name": "#%%\n"
    }
   }
  },
  {
   "cell_type": "code",
   "execution_count": 57,
   "outputs": [
    {
     "ename": "Exception",
     "evalue": "Paina anni built in functions cheppina kuda nenu identify cheyyalekapothunna .. matti burra naadhi",
     "output_type": "error",
     "traceback": [
      "\u001B[1;31m---------------------------------------------------------------------------\u001B[0m",
      "\u001B[1;31mTypeError\u001B[0m                                 Traceback (most recent call last)",
      "Input \u001B[1;32mIn [57]\u001B[0m, in \u001B[0;36m<cell line: 1>\u001B[1;34m()\u001B[0m\n\u001B[0;32m      1\u001B[0m \u001B[38;5;28;01mtry\u001B[39;00m:\n\u001B[1;32m----> 2\u001B[0m     \u001B[38;5;28mprint\u001B[39m(\u001B[43ma\u001B[49m\u001B[43m[\u001B[49m\u001B[38;5;241;43m0\u001B[39;49m\u001B[43m]\u001B[49m\u001B[38;5;241;43m/\u001B[39;49m\u001B[43ma\u001B[49m\u001B[43m[\u001B[49m\u001B[38;5;241;43m1\u001B[39;49m\u001B[43m]\u001B[49m)\n\u001B[0;32m      3\u001B[0m \u001B[38;5;28;01mexcept\u001B[39;00m \u001B[38;5;167;01mException\u001B[39;00m:\n",
      "\u001B[1;31mTypeError\u001B[0m: unsupported operand type(s) for /: 'str' and 'str'",
      "\nDuring handling of the above exception, another exception occurred:\n",
      "\u001B[1;31mException\u001B[0m                                 Traceback (most recent call last)",
      "Input \u001B[1;32mIn [57]\u001B[0m, in \u001B[0;36m<cell line: 1>\u001B[1;34m()\u001B[0m\n\u001B[0;32m      2\u001B[0m     \u001B[38;5;28mprint\u001B[39m(a[\u001B[38;5;241m0\u001B[39m]\u001B[38;5;241m/\u001B[39ma[\u001B[38;5;241m1\u001B[39m])\n\u001B[0;32m      3\u001B[0m \u001B[38;5;28;01mexcept\u001B[39;00m \u001B[38;5;167;01mException\u001B[39;00m:\n\u001B[1;32m----> 4\u001B[0m     \u001B[38;5;28;01mraise\u001B[39;00m \u001B[38;5;167;01mException\u001B[39;00m(\u001B[38;5;124m\"\u001B[39m\u001B[38;5;124mPaina anni built in functions cheppina kuda nenu identify cheyyalekapothunna .. matti burra naadhi\u001B[39m\u001B[38;5;124m\"\u001B[39m)\n",
      "\u001B[1;31mException\u001B[0m: Paina anni built in functions cheppina kuda nenu identify cheyyalekapothunna .. matti burra naadhi"
     ]
    }
   ],
   "source": [
    "try:\n",
    "    print(a[0]/a[1])\n",
    "except Exception:\n",
    "    raise Exception(\"Paina anni built in functions cheppina kuda nenu identify cheyyalekapothunna .. matti burra naadhi\")"
   ],
   "metadata": {
    "collapsed": false,
    "pycharm": {
     "name": "#%%\n"
    }
   }
  },
  {
   "cell_type": "code",
   "execution_count": 58,
   "outputs": [],
   "source": [
    "# User-defined Exceptions\n",
    "# Programs may name their own exceptions by creating a new exception class\n",
    "# Exceptions should typically be derived from the Exception class, either directly or indirectly.\n",
    "# so Exception class is always a super class to the exception you are created"
   ],
   "metadata": {
    "collapsed": false,
    "pycharm": {
     "name": "#%%\n"
    }
   }
  },
  {
   "cell_type": "code",
   "execution_count": null,
   "outputs": [],
   "source": [
    "# Different Ways of Printing Message"
   ],
   "metadata": {
    "collapsed": false,
    "pycharm": {
     "name": "#%%\n"
    }
   }
  },
  {
   "cell_type": "code",
   "execution_count": 66,
   "outputs": [
    {
     "ename": "NotEligibletoVote",
     "evalue": "Your are not eligible to vote.. as your age is less than 18 years",
     "output_type": "error",
     "traceback": [
      "\u001B[1;31m---------------------------------------------------------------------------\u001B[0m",
      "\u001B[1;31mNotEligibletoVote\u001B[0m                         Traceback (most recent call last)",
      "Input \u001B[1;32mIn [66]\u001B[0m, in \u001B[0;36m<cell line: 5>\u001B[1;34m()\u001B[0m\n\u001B[0;32m      4\u001B[0m Age \u001B[38;5;241m=\u001B[39m \u001B[38;5;28mint\u001B[39m(\u001B[38;5;28minput\u001B[39m(\u001B[38;5;124m\"\u001B[39m\u001B[38;5;124mEnter Your Age : \u001B[39m\u001B[38;5;124m\"\u001B[39m))\n\u001B[0;32m      5\u001B[0m \u001B[38;5;28;01mif\u001B[39;00m Age\u001B[38;5;241m<\u001B[39m\u001B[38;5;241m18\u001B[39m:\n\u001B[1;32m----> 6\u001B[0m     \u001B[38;5;28;01mraise\u001B[39;00m NotEligibletoVote\n",
      "\u001B[1;31mNotEligibletoVote\u001B[0m: Your are not eligible to vote.. as your age is less than 18 years"
     ]
    }
   ],
   "source": [
    "class NotEligibleToVote(Exception):\n",
    "    def __init__(self):\n",
    "        super().__init__(\"Your are not eligible to vote.. as your age is less than 18 years\")\n",
    "Age = int(input(\"Enter Your Age : \"))\n",
    "if Age<18:\n",
    "    raise NotEligibleToVote"
   ],
   "metadata": {
    "collapsed": false,
    "pycharm": {
     "name": "#%%\n"
    }
   }
  },
  {
   "cell_type": "code",
   "execution_count": 104,
   "outputs": [
    {
     "ename": "InvalidAge",
     "evalue": "Age you are entering is either negative or exceeding maximum lifespan of a person...",
     "output_type": "error",
     "traceback": [
      "\u001B[1;31m---------------------------------------------------------------------------\u001B[0m",
      "\u001B[1;31mInvalidAge\u001B[0m                                Traceback (most recent call last)",
      "Input \u001B[1;32mIn [104]\u001B[0m, in \u001B[0;36m<cell line: 7>\u001B[1;34m()\u001B[0m\n\u001B[0;32m      6\u001B[0m a \u001B[38;5;241m=\u001B[39m \u001B[38;5;241m-\u001B[39m\u001B[38;5;241m2\u001B[39m\n\u001B[0;32m      7\u001B[0m \u001B[38;5;28;01mif\u001B[39;00m  a\u001B[38;5;241m<\u001B[39m\u001B[38;5;241m0\u001B[39m \u001B[38;5;129;01mor\u001B[39;00m a\u001B[38;5;241m>\u001B[39m\u001B[38;5;241m110\u001B[39m:    \u001B[38;5;66;03m## Assuming person can only survive upto 110 years\u001B[39;00m\n\u001B[1;32m----> 8\u001B[0m     \u001B[38;5;28;01mraise\u001B[39;00m InvalidAge\n",
      "\u001B[1;31mInvalidAge\u001B[0m: Age you are entering is either negative or exceeding maximum lifespan of a person..."
     ]
    }
   ],
   "source": [
    "class InvalidAge(Exception):\n",
    "    def __init__(self):\n",
    "        self.message = \"Age you are entering is either negative or exceeding maximum lifespan of a person...\"\n",
    "    def __str__(self):\n",
    "        return self.message\n",
    "a = -2\n",
    "if  a<0 or a>110:    ## Assuming person can only survive upto 110 years\n",
    "    raise InvalidAge"
   ],
   "metadata": {
    "collapsed": false,
    "pycharm": {
     "name": "#%%\n"
    }
   }
  },
  {
   "cell_type": "code",
   "execution_count": 91,
   "outputs": [
    {
     "ename": "ValueError",
     "evalue": "invalid literal for int() with base 10: ''",
     "output_type": "error",
     "traceback": [
      "\u001B[1;31m---------------------------------------------------------------------------\u001B[0m",
      "\u001B[1;31mValueError\u001B[0m                                Traceback (most recent call last)",
      "Input \u001B[1;32mIn [91]\u001B[0m, in \u001B[0;36m<cell line: 6>\u001B[1;34m()\u001B[0m\n\u001B[0;32m      4\u001B[0m     \u001B[38;5;28;01mdef\u001B[39;00m \u001B[38;5;21m__str__\u001B[39m(\u001B[38;5;28mself\u001B[39m):     \u001B[38;5;66;03m# this returns string\u001B[39;00m\n\u001B[0;32m      5\u001B[0m         \u001B[38;5;28;01mreturn\u001B[39;00m \u001B[38;5;28mself\u001B[39m\u001B[38;5;241m.\u001B[39mmessage\n\u001B[1;32m----> 6\u001B[0m Age \u001B[38;5;241m=\u001B[39m \u001B[38;5;28;43mint\u001B[39;49m\u001B[43m(\u001B[49m\u001B[38;5;28;43minput\u001B[39;49m\u001B[43m(\u001B[49m\u001B[38;5;124;43m\"\u001B[39;49m\u001B[38;5;124;43mEnter Your Age : \u001B[39;49m\u001B[38;5;124;43m\"\u001B[39;49m\u001B[43m)\u001B[49m\u001B[43m)\u001B[49m\n\u001B[0;32m      7\u001B[0m \u001B[38;5;28;01mif\u001B[39;00m Age\u001B[38;5;241m<\u001B[39m\u001B[38;5;241m18\u001B[39m:\n\u001B[0;32m      8\u001B[0m     \u001B[38;5;28;01mraise\u001B[39;00m NotEligibleToVote1\n",
      "\u001B[1;31mValueError\u001B[0m: invalid literal for int() with base 10: ''"
     ]
    }
   ],
   "source": [
    "class NotEligibleToVote1(Exception):\n",
    "    def __init__(self):\n",
    "        self.message = \"Your are not eligible to vote.. as your age is less than 18 years\"\n",
    "    def __str__(self):     # this returns string\n",
    "        return self.message\n",
    "Age = int(input(\"Enter Your Age : \"))\n",
    "if Age<18:\n",
    "    raise NotEligibleToVote1"
   ],
   "metadata": {
    "collapsed": false,
    "pycharm": {
     "name": "#%%\n"
    }
   }
  },
  {
   "cell_type": "code",
   "execution_count": 72,
   "outputs": [
    {
     "ename": "NotEligibleToVote2",
     "evalue": "Your are not eligible to vote.. as your age is less than 18 years",
     "output_type": "error",
     "traceback": [
      "\u001B[1;31m---------------------------------------------------------------------------\u001B[0m",
      "\u001B[1;31mNotEligibleToVote2\u001B[0m                        Traceback (most recent call last)",
      "Input \u001B[1;32mIn [72]\u001B[0m, in \u001B[0;36m<cell line: 5>\u001B[1;34m()\u001B[0m\n\u001B[0;32m      4\u001B[0m Age \u001B[38;5;241m=\u001B[39m \u001B[38;5;28mint\u001B[39m(\u001B[38;5;28minput\u001B[39m(\u001B[38;5;124m\"\u001B[39m\u001B[38;5;124mEnter Your Age : \u001B[39m\u001B[38;5;124m\"\u001B[39m))\n\u001B[0;32m      5\u001B[0m \u001B[38;5;28;01mif\u001B[39;00m Age\u001B[38;5;241m<\u001B[39m\u001B[38;5;241m18\u001B[39m:\n\u001B[1;32m----> 6\u001B[0m     \u001B[38;5;28;01mraise\u001B[39;00m NotEligibleToVote2\n",
      "\u001B[1;31mNotEligibleToVote2\u001B[0m: Your are not eligible to vote.. as your age is less than 18 years"
     ]
    }
   ],
   "source": [
    "class NotEligibleToVote2(Exception):\n",
    "    def __str__(self):\n",
    "        return \"Your are not eligible to vote.. as your age is less than 18 years\"\n",
    "Age = int(input(\"Enter Your Age : \"))\n",
    "if Age<18:\n",
    "    raise NotEligibleToVote2"
   ],
   "metadata": {
    "collapsed": false,
    "pycharm": {
     "name": "#%%\n"
    }
   }
  },
  {
   "cell_type": "code",
   "execution_count": 80,
   "outputs": [
    {
     "ename": "NotEligibleToVote3",
     "evalue": "Your are not eligible to vote.. as your age is 5  ..  Minimum age to cast a vote is 18 years",
     "output_type": "error",
     "traceback": [
      "\u001B[1;31m---------------------------------------------------------------------------\u001B[0m",
      "\u001B[1;31mNotEligibleToVote3\u001B[0m                        Traceback (most recent call last)",
      "Input \u001B[1;32mIn [80]\u001B[0m, in \u001B[0;36m<cell line: 8>\u001B[1;34m()\u001B[0m\n\u001B[0;32m      7\u001B[0m Age \u001B[38;5;241m=\u001B[39m \u001B[38;5;28mint\u001B[39m(\u001B[38;5;28minput\u001B[39m(\u001B[38;5;124m\"\u001B[39m\u001B[38;5;124mEnter Your Age : \u001B[39m\u001B[38;5;124m\"\u001B[39m))\n\u001B[0;32m      8\u001B[0m \u001B[38;5;28;01mif\u001B[39;00m Age\u001B[38;5;241m<\u001B[39m\u001B[38;5;241m18\u001B[39m:\n\u001B[1;32m----> 9\u001B[0m     \u001B[38;5;28;01mraise\u001B[39;00m NotEligibleToVote3(age\u001B[38;5;241m=\u001B[39mAge)\n",
      "\u001B[1;31mNotEligibleToVote3\u001B[0m: Your are not eligible to vote.. as your age is 5  ..  Minimum age to cast a vote is 18 years"
     ]
    }
   ],
   "source": [
    "class NotEligibleToVote3(Exception):\n",
    "    def __init__(self, age):\n",
    "        self.age = age\n",
    "        self.message = f\"Your are not eligible to vote.. as your age is { self.age }  ..  Minimum age to cast a vote is 18 years\"\n",
    "    def __str__(self):\n",
    "        return self.message\n",
    "Age = int(input(\"Enter Your Age : \"))\n",
    "if Age<18:\n",
    "    raise NotEligibleToVote3(age=Age)"
   ],
   "metadata": {
    "collapsed": false,
    "pycharm": {
     "name": "#%%\n"
    }
   }
  },
  {
   "cell_type": "code",
   "execution_count": 108,
   "outputs": [
    {
     "name": "stdout",
     "output_type": "stream",
     "text": [
      "Your are not eligible to vote.. as your age is 15  ..  Minimum age to cast a vote is 18 years\n",
      "Wait for 3 Year/s to cast your vote\n"
     ]
    }
   ],
   "source": [
    "## Now using try and except block\n",
    "class Am_I_Eligible_to_vote:\n",
    "    def __init__(self,age):\n",
    "        self.age = age\n",
    "        if age<18:\n",
    "            raise NotEligibleToVote3(age)\n",
    "        else:\n",
    "            print(\"You are Eligible to vote..  do cast your vote\")\n",
    "Age = int(input(\"Enter Your age : \"))\n",
    "try:\n",
    "    Am_I_Eligible_to_vote(Age)\n",
    "except Exception as e:   # this just takes the message statement and print\n",
    "    print(e)\n",
    "finally:\n",
    "    if Age<18:\n",
    "        print(f\"Wait for {18-Age} Year/s to cast your vote\")\n",
    "    else:\n",
    "        print(f\"did you cast your vote  ?.. \")"
   ],
   "metadata": {
    "collapsed": false,
    "pycharm": {
     "name": "#%%\n"
    }
   }
  },
  {
   "cell_type": "code",
   "execution_count": 87,
   "outputs": [
    {
     "ename": "NotEligibleToVote3",
     "evalue": "Your are not eligible to vote.. as your age is 15  ..  Minimum age to cast a vote is 18 years",
     "output_type": "error",
     "traceback": [
      "\u001B[1;31m---------------------------------------------------------------------------\u001B[0m",
      "\u001B[1;31mNotEligibleToVote3\u001B[0m                        Traceback (most recent call last)",
      "Input \u001B[1;32mIn [87]\u001B[0m, in \u001B[0;36m<cell line: 9>\u001B[1;34m()\u001B[0m\n\u001B[0;32m      7\u001B[0m             \u001B[38;5;28;01mraise\u001B[39;00m NotEligibleToVote3(age)\n\u001B[0;32m      8\u001B[0m Age \u001B[38;5;241m=\u001B[39m \u001B[38;5;28mint\u001B[39m(\u001B[38;5;28minput\u001B[39m(\u001B[38;5;124m\"\u001B[39m\u001B[38;5;124mEnter Your age : \u001B[39m\u001B[38;5;124m\"\u001B[39m))\n\u001B[1;32m----> 9\u001B[0m \u001B[43mAm_I_Eligible_to_vote\u001B[49m\u001B[43m(\u001B[49m\u001B[43mAge\u001B[49m\u001B[43m)\u001B[49m\n",
      "Input \u001B[1;32mIn [87]\u001B[0m, in \u001B[0;36mAm_I_Eligible_to_vote.__init__\u001B[1;34m(self, age)\u001B[0m\n\u001B[0;32m      5\u001B[0m     \u001B[38;5;28mprint\u001B[39m(\u001B[38;5;124m\"\u001B[39m\u001B[38;5;124mYou are Eligible to vote..  do cast your vote\u001B[39m\u001B[38;5;124m\"\u001B[39m)\n\u001B[0;32m      6\u001B[0m \u001B[38;5;28;01melse\u001B[39;00m:\n\u001B[1;32m----> 7\u001B[0m     \u001B[38;5;28;01mraise\u001B[39;00m NotEligibleToVote3(age)\n",
      "\u001B[1;31mNotEligibleToVote3\u001B[0m: Your are not eligible to vote.. as your age is 15  ..  Minimum age to cast a vote is 18 years"
     ]
    }
   ],
   "source": [
    "class Am_I_Eligible_to_vote:\n",
    "    def __init__(self,age):\n",
    "        self.age = age\n",
    "        if age>=18:\n",
    "            print(\"You are Eligible to vote..  do cast your vote\")\n",
    "        else:\n",
    "            raise NotEligibleToVote3(age)\n",
    "Age = int(input(\"Enter Your age : \"))\n",
    "Am_I_Eligible_to_vote(Age)"
   ],
   "metadata": {
    "collapsed": false,
    "pycharm": {
     "name": "#%%\n"
    }
   }
  },
  {
   "cell_type": "code",
   "execution_count": 110,
   "outputs": [
    {
     "ename": "InvalidAge",
     "evalue": "Age you are entering is either negative or exceeding maximum lifespan of a person...",
     "output_type": "error",
     "traceback": [
      "\u001B[1;31m---------------------------------------------------------------------------\u001B[0m",
      "\u001B[1;31mInvalidAge\u001B[0m                                Traceback (most recent call last)",
      "Input \u001B[1;32mIn [110]\u001B[0m, in \u001B[0;36m<cell line: 11>\u001B[1;34m()\u001B[0m\n\u001B[0;32m      9\u001B[0m             \u001B[38;5;28;01mraise\u001B[39;00m NotEligibleToVote3(age)\n\u001B[0;32m     10\u001B[0m Age \u001B[38;5;241m=\u001B[39m \u001B[38;5;28mint\u001B[39m(\u001B[38;5;28minput\u001B[39m(\u001B[38;5;124m\"\u001B[39m\u001B[38;5;124mEnter Your age : \u001B[39m\u001B[38;5;124m\"\u001B[39m))\n\u001B[1;32m---> 11\u001B[0m \u001B[43mAm_I_Eligible_to_vote\u001B[49m\u001B[43m(\u001B[49m\u001B[43mAge\u001B[49m\u001B[43m)\u001B[49m\n",
      "Input \u001B[1;32mIn [110]\u001B[0m, in \u001B[0;36mAm_I_Eligible_to_vote.__init__\u001B[1;34m(self, age)\u001B[0m\n\u001B[0;32m      5\u001B[0m     \u001B[38;5;28mprint\u001B[39m(\u001B[38;5;124m\"\u001B[39m\u001B[38;5;124mYou are Eligible to vote..  do cast your vote\u001B[39m\u001B[38;5;124m\"\u001B[39m)\n\u001B[0;32m      6\u001B[0m \u001B[38;5;28;01melif\u001B[39;00m age\u001B[38;5;241m<\u001B[39m\u001B[38;5;241m0\u001B[39m \u001B[38;5;129;01mor\u001B[39;00m age\u001B[38;5;241m>\u001B[39m\u001B[38;5;241m110\u001B[39m:\n\u001B[1;32m----> 7\u001B[0m     \u001B[38;5;28;01mraise\u001B[39;00m InvalidAge\n\u001B[0;32m      8\u001B[0m \u001B[38;5;28;01melse\u001B[39;00m:\n\u001B[0;32m      9\u001B[0m     \u001B[38;5;28;01mraise\u001B[39;00m NotEligibleToVote3(age)\n",
      "\u001B[1;31mInvalidAge\u001B[0m: Age you are entering is either negative or exceeding maximum lifespan of a person..."
     ]
    }
   ],
   "source": [
    "class Am_I_Eligible_to_vote:\n",
    "    def __init__(self,age):\n",
    "        self.age = age\n",
    "        if age>=18:\n",
    "            print(\"You are Eligible to vote..  do cast your vote\")\n",
    "        elif age<0 or age>110:\n",
    "            raise InvalidAge\n",
    "        else:\n",
    "            raise NotEligibleToVote3(age)\n",
    "Age = int(input(\"Enter Your age : \"))\n",
    "Am_I_Eligible_to_vote(Age)"
   ],
   "metadata": {
    "collapsed": false,
    "pycharm": {
     "name": "#%%\n"
    }
   }
  },
  {
   "cell_type": "code",
   "execution_count": 127,
   "outputs": [
    {
     "name": "stdout",
     "output_type": "stream",
     "text": [
      "You are Eligible to vote..  do cast your vote\n",
      "did you cast your vote  ?.. \n"
     ]
    }
   ],
   "source": [
    "## Now Handling Created Exceptions using try and except block\n",
    "class Am_I_Eligible_to_vote:\n",
    "    def __init__(self,age):\n",
    "        self.age = age\n",
    "        if age>0:\n",
    "            if age<18:\n",
    "                raise NotEligibleToVote3(Age)\n",
    "            if age>18:\n",
    "                if age<110:\n",
    "                    print(\"You are Eligible to vote..  do cast your vote\")\n",
    "                elif age>110:\n",
    "                    raise InvalidAge\n",
    "        else:\n",
    "            raise InvalidAge\n",
    "Age = int(input(\"Enter Your age : \"))\n",
    "try:\n",
    "    Am_I_Eligible_to_vote(Age)\n",
    "except InvalidAge as Ia:\n",
    "    print(Ia)\n",
    "except NotEligibleToVote3 as Netv:\n",
    "    print(Netv)\n",
    "finally:\n",
    "    if Age>0:\n",
    "        if Age<18:\n",
    "            print(f\"Wait for {18-Age} Year/s to cast your vote\")\n",
    "        elif Age>18:\n",
    "            if Age<110:\n",
    "                print(f\"did you cast your vote  ?.. \")\n",
    "            else:\n",
    "                print(\"Invalid  Age....\")\n",
    "    else:\n",
    "        print(\"Invalid  Age....\")"
   ],
   "metadata": {
    "collapsed": false,
    "pycharm": {
     "name": "#%%\n"
    }
   }
  },
  {
   "cell_type": "code",
   "execution_count": null,
   "outputs": [],
   "source": [],
   "metadata": {
    "collapsed": false,
    "pycharm": {
     "name": "#%%\n"
    }
   }
  }
 ],
 "metadata": {
  "kernelspec": {
   "display_name": "Python 3",
   "language": "python",
   "name": "python3"
  },
  "language_info": {
   "codemirror_mode": {
    "name": "ipython",
    "version": 2
   },
   "file_extension": ".py",
   "mimetype": "text/x-python",
   "name": "python",
   "nbconvert_exporter": "python",
   "pygments_lexer": "ipython2",
   "version": "2.7.6"
  }
 },
 "nbformat": 4,
 "nbformat_minor": 0
}