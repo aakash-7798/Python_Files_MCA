{
 "cells": [
  {
   "cell_type": "code",
   "execution_count": 1,
   "id": "9daf36a9",
   "metadata": {
    "ExecuteTime": {
     "end_time": "2022-10-06T10:14:54.595528Z",
     "start_time": "2022-10-06T10:14:54.586547Z"
    }
   },
   "outputs": [],
   "source": [
    "# 1. Implement the data link layer framing methods such as character count, character stuffing and bit stuffing"
   ]
  },
  {
   "cell_type": "code",
   "execution_count": 10,
   "id": "8d34b82c",
   "metadata": {
    "ExecuteTime": {
     "end_time": "2022-10-20T06:06:14.473825Z",
     "start_time": "2022-10-20T06:06:14.454875Z"
    }
   },
   "outputs": [
    {
     "name": "stdout",
     "output_type": "stream",
     "text": [
      "01111110-111110111011111010001111100-01111110\n",
      "01111110-111111110111111000111110-01111110\n"
     ]
    }
   ],
   "source": [
    "# arr = list('1111101111')\n",
    "# arr = list('1111101111101')\n",
    "arr = list('111111110111111000111110')\n",
    "def bitstuffing(array):\n",
    "    i,j=0,5\n",
    "    while i<len(array):\n",
    "        if array[i:j].count('1')==5:\n",
    "            array.insert(j,'0')\n",
    "            i=j\n",
    "            j+=5\n",
    "        else:\n",
    "            j+=1\n",
    "            i+=1\n",
    "    return list('01111110-')+array+list('-01111110')\n",
    "\n",
    "def bitDestuffing(array):\n",
    "    i,j=0,5\n",
    "    while i<len(array):\n",
    "        if array[i:j].count('1')==5:\n",
    "            array.pop(j)\n",
    "            i=j\n",
    "            j+=5\n",
    "        else:\n",
    "            j+=1\n",
    "            i+=1\n",
    "    return list('01111110-')+array+list('-01111110')\n",
    "print(''.join(bitstuffing(arr)))\n",
    "print(''.join(bitDestuffing(arr)))"
   ]
  },
  {
   "cell_type": "code",
   "execution_count": 63,
   "id": "403a0632",
   "metadata": {
    "ExecuteTime": {
     "end_time": "2022-10-20T06:52:57.982368Z",
     "start_time": "2022-10-20T06:52:57.962423Z"
    }
   },
   "outputs": [
    {
     "data": {
      "text/plain": [
       "'ABCDEFGHIJKLMNOPQRSTUVWXYZ'"
      ]
     },
     "execution_count": 63,
     "metadata": {},
     "output_type": "execute_result"
    }
   ],
   "source": [
    "## Character Stuffing\n",
    "def Character_Stuffing(lst,esc_char,flg_char):\n",
    "    stuffed = []\n",
    "    for i in lst:\n",
    "        if esc_char in i or flg_char in i:\n",
    "            stuffed.append(esc_char)\n",
    "        stuffed.append(i)\n",
    "    return stuffed\n",
    "\n",
    "def Character_DeStuffing(lt,esc_char):\n",
    "    try:\n",
    "        ioe = lt.index(esc_char)\n",
    "        return lt[:ioe]+[lt[ioe+1]]+Character_DeStuffing(lt[ioe+2:],esc_char)\n",
    "    except:\n",
    "        return lt\n",
    "    \n",
    "cs = Character_Stuffing(list('abcdefghijklmnopqrstuvwxyz'.upper()),'W','R')\n",
    "''.join(Character_DeStuffing(cs,'W'))"
   ]
  },
  {
   "cell_type": "code",
   "execution_count": 100,
   "id": "27291990",
   "metadata": {
    "ExecuteTime": {
     "end_time": "2022-10-20T07:28:03.988425Z",
     "start_time": "2022-10-20T07:28:03.962502Z"
    }
   },
   "outputs": [
    {
     "data": {
      "text/plain": [
       "[[1, 2, 3, 4], [5, 6, 7, 8], [9, 0, 1, 2, 3]]"
      ]
     },
     "execution_count": 100,
     "metadata": {},
     "output_type": "execute_result"
    }
   ],
   "source": [
    "def split(n,size):\n",
    "    arry = []\n",
    "    while len(n) > size+2:\n",
    "        par = n[:size+1]\n",
    "        arry.append(par)\n",
    "        n = n[size+1:]\n",
    "    arry.append(n)\n",
    "    return arry\n",
    "split([1,2,3,4,5,6,7,8,9,0,1,2,3],3)"
   ]
  },
  {
   "cell_type": "code",
   "execution_count": 101,
   "id": "f38fab0a",
   "metadata": {
    "ExecuteTime": {
     "end_time": "2022-10-20T07:28:14.113843Z",
     "start_time": "2022-10-20T07:28:14.104866Z"
    }
   },
   "outputs": [
    {
     "data": {
      "text/plain": [
       "[5, 1, 2, 3, 4, 5, 5, 6, 7, 8, 6, 9, 0, 1, 2, 3]"
      ]
     },
     "execution_count": 101,
     "metadata": {},
     "output_type": "execute_result"
    }
   ],
   "source": [
    "## Character Count\n",
    "def Character_Count(lst,no_of_frames):\n",
    "    final_lst = []\n",
    "    for i in split(lst,no_of_frames):\n",
    "        final_lst+=[len(i)+1]+i\n",
    "    return final_lst\n",
    "Character_Count([1,2,3,4,5,6,7,8,9,0,1,2,3],3)"
   ]
  },
  {
   "cell_type": "code",
   "execution_count": null,
   "id": "89fa0593",
   "metadata": {},
   "outputs": [],
   "source": []
  },
  {
   "cell_type": "code",
   "execution_count": 8,
   "id": "631d26af",
   "metadata": {
    "ExecuteTime": {
     "end_time": "2022-10-20T05:59:28.241646Z",
     "start_time": "2022-10-20T05:59:28.221699Z"
    }
   },
   "outputs": [
    {
     "name": "stdout",
     "output_type": "stream",
     "text": [
      "['A', 'B', 'C', 'D', 'E', 'F', 'G', 'H', 'I', 'J', 'K', 'L', 'M', 'N', 'O', 'P', 'Q', 'R', 'S', 'T', 'U', 'V', 'W', 'X', 'Y', 'Z']\n",
      "['A', 'B', 'C', 'D', 'E', 'E', 'E', 'F', 'G', 'H', 'I', 'J', 'K', 'L', 'M', 'N', 'O', 'P', 'Q', 'R', 'S', 'T', 'U', 'V', 'W', 'X', 'Y', 'Z']\n",
      "['A', 'B', 'C', 'D', 'E', 'F', 'G', 'H', 'I', 'J', 'K', 'L', 'M', 'N', 'O', 'P', 'Q', 'R', 'S', 'T', 'U', 'V', 'W', 'X', 'Y', 'Z']\n"
     ]
    }
   ],
   "source": [
    "from pyStuffing import ByteStuffing\n",
    "bys = ByteStuffing(list(\"abcdefghijklmnopqrstuvwxyz\".upper()), escape_character=\"E\", flag_character=\"F\")\n",
    "bys.startStuffing()\n",
    "print(bys.sequence)\n",
    "print(bys.stuffed)\n",
    "bys.startUnStuffing()\n",
    "print(bys.unStuffed)"
   ]
  },
  {
   "cell_type": "code",
   "execution_count": null,
   "id": "5557266e",
   "metadata": {},
   "outputs": [],
   "source": [
    "# 2. Implement on a data set of characters the three CRC polynomials CRC 12, CRC 16 and CRC CCIP"
   ]
  },
  {
   "cell_type": "code",
   "execution_count": 70,
   "id": "b5148874",
   "metadata": {
    "ExecuteTime": {
     "end_time": "2022-09-19T08:05:09.300265Z",
     "start_time": "2022-09-19T08:05:09.282314Z"
    }
   },
   "outputs": [],
   "source": [
    "# ## Print this if you want to know how we are calculating binary division \n",
    "# def binary_division(dividend,divisor):\n",
    "#     length_of_divisor = len(divisor)\n",
    "#     temporary_dividend = dividend[:length_of_divisor]\n",
    "#     print(\"Initally Temperory Dividend = \",temporary_dividend)\n",
    "#     print()\n",
    "#     while length_of_divisor<len(dividend):\n",
    "#         if temporary_dividend[0]=='1':\n",
    "#             print(f\"Iteration {length_of_divisor-len(divisor)}\")\n",
    "#             print(f\"Performing XOR for {temporary_dividend},{divisor} \")\n",
    "#             temporary_dividend = xor(divisor,temporary_dividend)+dividend[length_of_divisor]\n",
    "#             print(\"After XOR Temperory Dividend\",temporary_dividend)\n",
    "#             print()\n",
    "#         else:\n",
    "#             print(f\"Iteration {length_of_divisor-len(divisor)}\")\n",
    "#             print(f\"Performing XOR for ({temporary_dividend}) -- > In this first digit is zero so divisor = {'0'*len(divisor)} \")\n",
    "#             temporary_dividend = xor('0'*length_of_divisor,temporary_dividend)+dividend[length_of_divisor]\n",
    "#             print(\"After XOR Temperory Dividend\",temporary_dividend)\n",
    "#             print()\n",
    "#         length_of_divisor+=1\n",
    "#     if temporary_dividend[0]=='1':\n",
    "#         temporary_dividend = xor(divisor,temporary_dividend)\n",
    "#     else:\n",
    "#         temporary_dividend = xor('0'*length_of_divisor,temporary_dividend)\n",
    "#     print(\"Final Temperory Dividend\",temporary_dividend)\n",
    "#     return temporary_dividend\n",
    "# # binary_division('101010110000','00101')\n",
    "# binary_division('011110100000','11011')"
   ]
  },
  {
   "cell_type": "code",
   "execution_count": 102,
   "id": "320d9805",
   "metadata": {
    "ExecuteTime": {
     "end_time": "2022-10-20T07:41:02.067338Z",
     "start_time": "2022-10-20T07:40:58.994701Z"
    }
   },
   "outputs": [
    {
     "name": "stdout",
     "output_type": "stream",
     "text": [
      "Enter Data Stream : 100100\n",
      "Enter Polynomial : 1101\n",
      "Sender Data =  100100001\n"
     ]
    },
    {
     "data": {
      "text/plain": [
       "' Message Received.. Accepted'"
      ]
     },
     "execution_count": 102,
     "metadata": {},
     "output_type": "execute_result"
    }
   ],
   "source": [
    "def xor(a,b):\n",
    "    return ''.join(['0' if a[i]==b[i] else '1' for i in range(1,len(b))])\n",
    "\n",
    "\n",
    "def binary_division(dividend,divisor):\n",
    "    length_of_divisor = len(divisor)\n",
    "    temporary_dividend = dividend[:length_of_divisor]\n",
    "    while length_of_divisor<len(dividend):\n",
    "        if temporary_dividend[0]=='1':\n",
    "            temporary_dividend = xor(divisor,temporary_dividend)+dividend[length_of_divisor]\n",
    "        else:\n",
    "            temporary_dividend = xor('0'*length_of_divisor,temporary_dividend)+dividend[length_of_divisor]\n",
    "        length_of_divisor+=1\n",
    "    if temporary_dividend[0]=='1':\n",
    "        temporary_dividend = xor(divisor,temporary_dividend)\n",
    "    else:\n",
    "        temporary_dividend = xor('0'*length_of_divisor,temporary_dividend)\n",
    "    return temporary_dividend\n",
    "\n",
    "def generate_CRC(Data_Frame,Polynomial):\n",
    "    New_Data_Frame = Data_Frame+'0'*(len(Polynomial)-1)\n",
    "    remainder = binary_division(New_Data_Frame,Polynomial)\n",
    "    return Data_Frame+remainder\n",
    "    \n",
    "def verfiy_CRC(dividend,divisor):\n",
    "    if binary_division(dividend,divisor)==''.join(['0']*(len(divisor)-1)):\n",
    "        return f\" Message Received.. Accepted\"\n",
    "    else:\n",
    "        return f\" Message Received.. but Rejected !!\"\n",
    "\n",
    "Data_Frame = input(\"Enter Data Stream : \")\n",
    "Polynomial = input(\"Enter Polynomial : \")\n",
    "Sender_data = generate_CRC(Data_Frame,Polynomial)\n",
    "print(\"Sender Data = \",Sender_data)\n",
    "Receiver_takes = Sender_data\n",
    "verfiy_CRC(Sender_data,Polynomial)"
   ]
  },
  {
   "cell_type": "code",
   "execution_count": 104,
   "id": "d4e4c600",
   "metadata": {
    "ExecuteTime": {
     "end_time": "2022-10-20T08:23:36.128672Z",
     "start_time": "2022-10-20T08:23:36.099979Z"
    }
   },
   "outputs": [],
   "source": [
    "3. # Implement Dijkstra’s algorithm to compute the shortest path through a graph\n",
    "from queue import PriorityQueue"
   ]
  },
  {
   "cell_type": "code",
   "execution_count": 105,
   "id": "cec2b80f",
   "metadata": {
    "ExecuteTime": {
     "end_time": "2022-10-20T08:23:37.141923Z",
     "start_time": "2022-10-20T08:23:37.114996Z"
    }
   },
   "outputs": [],
   "source": [
    "def Get_Dijkstra_Shortest_path(adj_mtr,start_vertex):\n",
    "    total_vertices = len(adj_mtr)\n",
    "    Distances = {i:(0 if i==start_vertex else float('inf')) for i in range(total_vertices)}\n",
    "    Visited = []\n",
    "    pq = PriorityQueue()\n",
    "    pq.put((0,start_vertex))\n",
    "    while not pq.empty():\n",
    "        (a,current_vertex) = pq.get()\n",
    "        Visited.append(current_vertex)\n",
    "        for i in range(total_vertices):\n",
    "            if adj_mtr[current_vertex][i]!=-1:\n",
    "                present_distance = adj_mtr[current_vertex][i]\n",
    "                if i not in Visited:\n",
    "                    old_distance = Distances[i]\n",
    "                    new_distance = present_distance + Distances[current_vertex]\n",
    "                    if new_distance<old_distance:\n",
    "                        pq.put((new_distance,i))\n",
    "                        Distances[i] = new_distance\n",
    "    return Distances"
   ]
  },
  {
   "cell_type": "code",
   "execution_count": 106,
   "id": "ea1df555",
   "metadata": {
    "ExecuteTime": {
     "end_time": "2022-10-20T08:23:38.298698Z",
     "start_time": "2022-10-20T08:23:38.282744Z"
    }
   },
   "outputs": [
    {
     "name": "stdout",
     "output_type": "stream",
     "text": [
      "{0: 0, 1: 4, 2: 11, 3: 17, 4: 9, 5: 22, 6: 7, 7: 8, 8: 11}\n",
      "{0: 0, 1: 4, 2: 4, 3: 7, 4: 5, 5: 8}\n",
      "{0: 0, 1: 4, 2: 12, 3: 19, 4: 21, 5: 11, 6: 9, 7: 8, 8: 14}\n",
      "{0: 0, 1: 1, 2: 4}\n",
      "{0: 0, 1: 5, 2: 8, 3: 7}\n",
      "{0: 0, 1: 2, 2: 6, 3: 7, 4: 17, 5: 22, 6: 19}\n"
     ]
    }
   ],
   "source": [
    "with open('Dijkstra_Test_Cases_new.txt','r') as f:\n",
    "    tt = int(f.readline().strip())\n",
    "    for t in range(tt):\n",
    "        nv,ne = list(map(int,f.readline().strip().split()))\n",
    "        adjacency_matrix = [[-1]*(nv+1) for i in range(nv+1)]\n",
    "        for i in range(ne):\n",
    "            v,e,w = list(map(int,f.readline().strip().split()))\n",
    "            adjacency_matrix[v][e] = w\n",
    "            adjacency_matrix[e][v] = w\n",
    "        print(Get_Dijkstra_Shortest_path(adjacency_matrix,0))"
   ]
  },
  {
   "cell_type": "code",
   "execution_count": 1,
   "id": "5d76d12e",
   "metadata": {
    "ExecuteTime": {
     "end_time": "2022-10-19T18:07:31.551475Z",
     "start_time": "2022-10-19T18:06:26.187086Z"
    }
   },
   "outputs": [
    {
     "name": "stdout",
     "output_type": "stream",
     "text": [
      "Enter Number of Vertices : 5\n",
      "Enter Number of Edges : 5\n",
      "Enter Vertex , Edge , Weight \n",
      "0 1 2\n",
      "1 2 4\n",
      "1 4 3\n",
      "2 3 6\n",
      "3 4 5\n",
      "Adjacency_Matrix = \n",
      "     0   1   2   3   4 \n",
      "0   [-1, 2, -1, -1, -1]\n",
      "1   [2, -1, 4, -1, 3]\n",
      "2   [-1, 4, -1, 6, -1]\n",
      "3   [-1, -1, 6, -1, 5]\n",
      "4   [-1, 3, -1, 5, -1]\n",
      "\n",
      "Routing Tables for Each Node as Follows : \n",
      "\n",
      "Routing Table 0\n",
      "   Destination Distance Next\n",
      "0            0        -    0\n",
      "1            1        2    1\n",
      "2            2      inf    -\n",
      "3            3      inf    -\n",
      "4            4      inf    -\n",
      "\n",
      "Routing Table 1\n",
      "   Destination Distance Next\n",
      "0            0        2    0\n",
      "1            1        -    1\n",
      "2            2        4    2\n",
      "3            3      inf    -\n",
      "4            4        3    4\n",
      "\n",
      "Routing Table 2\n",
      "   Destination Distance Next\n",
      "0            0      inf    -\n",
      "1            1        4    1\n",
      "2            2        -    2\n",
      "3            3        6    3\n",
      "4            4      inf    -\n",
      "\n",
      "Routing Table 3\n",
      "   Destination Distance Next\n",
      "0            0      inf    -\n",
      "1            1      inf    -\n",
      "2            2        6    2\n",
      "3            3        -    3\n",
      "4            4        5    4\n",
      "\n",
      "Routing Table 4\n",
      "   Destination Distance Next\n",
      "0            0      inf    -\n",
      "1            1        3    1\n",
      "2            2      inf    -\n",
      "3            3        5    3\n",
      "4            4        -    4\n"
     ]
    }
   ],
   "source": [
    "4 and 5. ## Distance Vector Routing Algorithm\n",
    "\n",
    "import pandas as pd\n",
    "\n",
    "vertices = int(input(\"Enter Number of Vertices : \"))\n",
    "edges = int(input(\"Enter Number of Edges : \"))\n",
    "Adjacency_Matrix = [[-1]*vertices for i in range(vertices)]\n",
    "print(\"Enter Vertex , Edge , Weight \")\n",
    "for i in range(vertices):\n",
    "    v,e,w = list(map(int,input().split()))\n",
    "    Adjacency_Matrix[v][e] = w\n",
    "    Adjacency_Matrix[e][v] = w\n",
    "\n",
    "print(\"Adjacency_Matrix = \")\n",
    "print(\"  \",end=\" \")\n",
    "for i in range(vertices):\n",
    "    print(\" \",i,end = \" \")\n",
    "print()\n",
    "for i in range(len(Adjacency_Matrix)):\n",
    "    print(i,\" \",Adjacency_Matrix[i])\n",
    "\n",
    "frt = {i:{\"Destination\":[],\"Distance\":[],\"Next\":[]} for i in range(vertices)}\n",
    "\n",
    "for i in range(len(Adjacency_Matrix)):\n",
    "    for j in range(len(Adjacency_Matrix)):\n",
    "        if i==j:\n",
    "            frt[i][\"Destination\"]+=[j]\n",
    "            frt[i][\"Distance\"] += ['-']\n",
    "            frt[i][\"Next\"] += [j]\n",
    "\n",
    "        elif Adjacency_Matrix[i][j]!=-1:\n",
    "            frt[i][\"Destination\"] += [j]\n",
    "            frt[i][\"Distance\"] += [Adjacency_Matrix[i][j]]\n",
    "            frt[i][\"Next\"] += [j]\n",
    "\n",
    "        else:\n",
    "            frt[i][\"Destination\"] += [j]\n",
    "            frt[i][\"Distance\"] += [float('inf')]\n",
    "            frt[i][\"Next\"] += ['-']\n",
    "\n",
    "print()\n",
    "print(\"Routing Tables for Each Node as Follows : \")\n",
    "for i in range(len(frt)):\n",
    "    print()\n",
    "    print(f\"Routing Table {i}\")\n",
    "    # print(frt[i])\n",
    "    print(pd.DataFrame(frt[i]))\n",
    "\n",
    "\n",
    "# 0 1 2\n",
    "# 1 2 4\n",
    "# 1 4 3\n",
    "# 2 3 6\n",
    "# 3 4 5"
   ]
  },
  {
   "cell_type": "code",
   "execution_count": 333,
   "id": "435a4e00",
   "metadata": {
    "ExecuteTime": {
     "end_time": "2022-10-20T15:13:05.713926Z",
     "start_time": "2022-10-20T15:13:05.686002Z"
    }
   },
   "outputs": [
    {
     "name": "stdout",
     "output_type": "stream",
     "text": [
      "BroadCast Address ->  192.168.2.39\n"
     ]
    }
   ],
   "source": [
    "6. # Take an Example subnet of hosts obtain broadcast tree for it\n",
    "# ip,sn = '172.18.166.193','255.255.240.0'\n",
    "# ip,sn = '172.16.20.19','255.255.240.0'\n",
    "ip,sn = '192.168.2.33','255.255.255.248'\n",
    "# ip,sn = '172.16.20.20','255.255.255.0'\n",
    "# ip,sn = '172.16.20.20','235.155.55.125'\n",
    "def generate_broadcast_address(ip_address,subnet_address):\n",
    "    broadcast_address = []\n",
    "    for (i,j) in zip(ip_address.split(\".\"),subnet_address.split(\".\")):\n",
    "        if j=='255':\n",
    "            broadcast_address.append(i)\n",
    "        elif j==\"0\":\n",
    "            broadcast_address.append('255')\n",
    "        else:\n",
    "            if int(j)>0 and int(j)<256:\n",
    "                multiplier = (256-int(j))\n",
    "                broadcast_address.append(str((multiplier)*((int(i)//multiplier)+1)-1))\n",
    "            else:\n",
    "                print(\"Invalid Address...\")\n",
    "                broadcast_address.clear()\n",
    "                break    \n",
    "    return '.'.join(broadcast_address)\n",
    "print(\"BroadCast Address -> \",generate_broadcast_address(ip,sn))"
   ]
  },
  {
   "cell_type": "code",
   "execution_count": 308,
   "id": "f6122056",
   "metadata": {
    "ExecuteTime": {
     "end_time": "2022-10-20T14:35:37.897571Z",
     "start_time": "2022-10-20T14:35:37.870644Z"
    }
   },
   "outputs": [
    {
     "name": "stdout",
     "output_type": "stream",
     "text": [
      "i= 172\n",
      "i= 18\n",
      "i= 175\n",
      "i= 255\n"
     ]
    },
    {
     "data": {
      "text/plain": [
       "'172.18.175.193'"
      ]
     },
     "execution_count": 308,
     "metadata": {},
     "output_type": "execute_result"
    }
   ],
   "source": [
    "ip = '172.18.166.193'\n",
    "sn = '255.255.240.0'\n",
    "bt = []\n",
    "for (i,j) in zip(ip.split(\".\"),sn.split(\".\")):\n",
    "    if j=='255':\n",
    "        print(\"i=\",i)\n",
    "        bt.append(i)\n",
    "    elif j==\"0\":\n",
    "        print(\"i=\",'255')\n",
    "        bt.append(i)\n",
    "    else:\n",
    "        if int(j)>0 and int(j)<256:\n",
    "            multiplier = (256-int(j))\n",
    "            print('i=',(multiplier)*((int(i)//multiplier)+1)-1)\n",
    "            bt.append(str((multiplier)*((int(i)//multiplier)+1)-1))\n",
    "        else:\n",
    "            print(\"Invalid Address...\")\n",
    "            bt.clear()\n",
    "            break\n",
    "'.'.join(bt)"
   ]
  },
  {
   "cell_type": "code",
   "execution_count": 130,
   "id": "ff78bd86",
   "metadata": {
    "ExecuteTime": {
     "end_time": "2022-10-20T10:23:47.059953Z",
     "start_time": "2022-10-20T10:23:47.040008Z"
    }
   },
   "outputs": [],
   "source": [
    "# from Crypto.Cipher import DES\n",
    "# def pad(text):\n",
    "#     n = len(text)%8\n",
    "#     return text + (b' ' * n)"
   ]
  },
  {
   "cell_type": "code",
   "execution_count": 272,
   "id": "ff4f7224",
   "metadata": {
    "ExecuteTime": {
     "end_time": "2022-10-20T13:26:55.469208Z",
     "start_time": "2022-10-20T13:26:55.463224Z"
    }
   },
   "outputs": [],
   "source": [
    "# key = b'hello123'\n",
    "# text = b\"Pythonisabestprogramminglanguage\"\n",
    "# e_cipher = DES.new(key,DES.MODE_ECB)\n",
    "# d_cipher = DES.new(key,DES.MODE_ECB)\n",
    "# encrypted_text = e_cipher.encrypt(text)\n",
    "# decrypted_text = d_cipher.decrypt(encrypted_text)\n",
    "# print(\"Encrypted Text = \",encrypted_text)\n",
    "# print(\"Decrypted Text = \",decrypted_text)"
   ]
  },
  {
   "cell_type": "code",
   "execution_count": 273,
   "id": "deac6058",
   "metadata": {
    "ExecuteTime": {
     "end_time": "2022-10-20T13:34:36.510577Z",
     "start_time": "2022-10-20T13:34:36.494619Z"
    }
   },
   "outputs": [
    {
     "name": "stdout",
     "output_type": "stream",
     "text": [
      "Encrypted Text =  b'N\\xdb\\xb4<\\x06b\\x98\\xa9\\xf6\\x1b\\xb1\\x9e\\xd5\\x85\\xeb\\xc0\\x06\\xaav\\xf2\\x1bM\\xfa2\\xd0\\xdaY\\x83=4q\\xa8\\x04\\t\\xf6\\xe6\\xdb&\\xb5&'\n",
      "Decrypted Text =  b'Python is the best Programming Language'\n"
     ]
    }
   ],
   "source": [
    "7. ## DES Algorithm\n",
    "from Crypto.Cipher import DES\n",
    "from Crypto.Util.Padding import pad\n",
    "key = b'MCA21031'    ## Should be exactly 8 bits\n",
    "plaintext = b'Python is the best Programming Language'\n",
    "encrypted_text = DES.new(key, DES.MODE_ECB).encrypt(pad(plaintext,DES.block_size))\n",
    "decrypted_text = DES.new(key, DES.MODE_ECB).decrypt(encrypted_text)\n",
    "print(\"Encrypted Text = \",encrypted_text)\n",
    "print(\"Decrypted Text = \",decrypted_text[:len(plaintext)])"
   ]
  },
  {
   "cell_type": "code",
   "execution_count": 330,
   "id": "2b7d9249",
   "metadata": {
    "ExecuteTime": {
     "end_time": "2022-10-20T14:58:31.991722Z",
     "start_time": "2022-10-20T14:58:12.190648Z"
    }
   },
   "outputs": [
    {
     "name": "stdout",
     "output_type": "stream",
     "text": [
      "Enter key : MCA21031\n",
      "Enter Text : Python is the best Programming Language\n",
      "Encrypted Text =  b'N\\xdb\\xb4<\\x06b\\x98\\xa9\\xf6\\x1b\\xb1\\x9e\\xd5\\x85\\xeb\\xc0\\x06\\xaav\\xf2\\x1bM\\xfa2\\xd0\\xdaY\\x83=4q\\xa8\\x04\\t\\xf6\\xe6\\xdb&\\xb5&'\n",
      "Decrypted Text =  b'Python is the best Programming Language'\n"
     ]
    }
   ],
   "source": [
    "7. ## DES Algorithm\n",
    "from Crypto.Cipher import DES\n",
    "from Crypto.Util.Padding import pad\n",
    "key = bytes(input(\"Enter key : \"),'utf-8')    ## Should be exactly 8 bits\n",
    "plaintext = bytes(input(\"Enter Text : \"),'utf-8')  #b'Python is the best Programming Language'\n",
    "encrypted_text = DES.new(key, DES.MODE_ECB).encrypt(pad(plaintext,DES.block_size))\n",
    "decrypted_text = DES.new(key, DES.MODE_ECB).decrypt(encrypted_text)\n",
    "print(\"Encrypted Text = \",encrypted_text)\n",
    "print(\"Decrypted Text = \",decrypted_text[:len(plaintext)])"
   ]
  },
  {
   "cell_type": "code",
   "execution_count": 328,
   "id": "d0b1f90b",
   "metadata": {
    "ExecuteTime": {
     "end_time": "2022-10-20T14:55:45.431055Z",
     "start_time": "2022-10-20T14:55:45.411109Z"
    }
   },
   "outputs": [
    {
     "data": {
      "text/plain": [
       "b'MCA21031'"
      ]
     },
     "execution_count": 328,
     "metadata": {},
     "output_type": "execute_result"
    }
   ],
   "source": [
    "bytes(b'MCA21031')"
   ]
  },
  {
   "cell_type": "code",
   "execution_count": 388,
   "id": "0125abe6",
   "metadata": {
    "ExecuteTime": {
     "end_time": "2022-10-20T16:44:24.679617Z",
     "start_time": "2022-10-20T16:44:24.663659Z"
    }
   },
   "outputs": [
    {
     "data": {
      "text/plain": [
       "1"
      ]
     },
     "execution_count": 388,
     "metadata": {},
     "output_type": "execute_result"
    }
   ],
   "source": [
    "def gcd(a, b):\n",
    "    if(b == 0):\n",
    "        return abs(a)\n",
    "    else:\n",
    "        return gcd(b, a % b)\n",
    "gcd(2,5)"
   ]
  },
  {
   "cell_type": "code",
   "execution_count": 539,
   "id": "bddc61e7",
   "metadata": {
    "ExecuteTime": {
     "end_time": "2022-10-20T17:52:15.625773Z",
     "start_time": "2022-10-20T17:52:15.619789Z"
    }
   },
   "outputs": [
    {
     "name": "stdout",
     "output_type": "stream",
     "text": [
      "phi =  10200\n",
      "n =  10403\n"
     ]
    }
   ],
   "source": [
    "# 9. RSA Algorithm\n",
    "# x,y = 3,5\n",
    "x,y = 101,103\n",
    "n = x*y\n",
    "phi = (x-1)*(y-1)\n",
    "print(\"phi = \",phi)\n",
    "print(\"n = \",n)"
   ]
  },
  {
   "cell_type": "code",
   "execution_count": 540,
   "id": "39fafd68",
   "metadata": {
    "ExecuteTime": {
     "end_time": "2022-10-20T17:52:16.352216Z",
     "start_time": "2022-10-20T17:52:16.340267Z"
    }
   },
   "outputs": [
    {
     "data": {
      "text/plain": [
       "7"
      ]
     },
     "execution_count": 540,
     "metadata": {},
     "output_type": "execute_result"
    }
   ],
   "source": [
    "public_key = 2\n",
    "while public_key<phi:\n",
    "    if(gcd(public_key,phi)==1):\n",
    "        break\n",
    "    else:\n",
    "        public_key=public_key+1\n",
    "public_key"
   ]
  },
  {
   "cell_type": "code",
   "execution_count": 541,
   "id": "41e02f6c",
   "metadata": {
    "ExecuteTime": {
     "end_time": "2022-10-20T17:52:16.980288Z",
     "start_time": "2022-10-20T17:52:16.973305Z"
    }
   },
   "outputs": [],
   "source": [
    "# def egcd(a,b):\n",
    "#     x,y,u,v = 0,1,1,0\n",
    "#     while a!=0:\n",
    "#         q,r = b//a,b%a\n",
    "#         m,n = x-u*q,y-v*q\n",
    "#         b,a,x,y,u,v = a,r,u,v,m,n\n",
    "#     gcd = b\n",
    "#     return gcd,x,y\n",
    "# egcd(11,26)"
   ]
  },
  {
   "cell_type": "code",
   "execution_count": 542,
   "id": "e41bb476",
   "metadata": {
    "ExecuteTime": {
     "end_time": "2022-10-20T17:52:17.544162Z",
     "start_time": "2022-10-20T17:52:17.531195Z"
    }
   },
   "outputs": [
    {
     "data": {
      "text/plain": [
       "(1, -1457, 1)"
      ]
     },
     "execution_count": 542,
     "metadata": {},
     "output_type": "execute_result"
    }
   ],
   "source": [
    "def gcdExtended(a,b):\n",
    "    if a==0:\n",
    "        return b,0,1\n",
    "    gcd,x1,y1 = gcdExtended(b%a,a)\n",
    "    x = y1-(b//a)*x1\n",
    "    y = x1\n",
    "    return gcd,x,y\n",
    "gcdExtended(public_key,phi)"
   ]
  },
  {
   "cell_type": "code",
   "execution_count": 543,
   "id": "c5166dd6",
   "metadata": {
    "ExecuteTime": {
     "end_time": "2022-10-20T17:52:18.141910Z",
     "start_time": "2022-10-20T17:52:18.118997Z"
    }
   },
   "outputs": [
    {
     "data": {
      "text/plain": [
       "8743"
      ]
     },
     "execution_count": 543,
     "metadata": {},
     "output_type": "execute_result"
    }
   ],
   "source": [
    "def get_multiplicative_inverse(gt,phi):\n",
    "    gcd,t1 = gt[0],gt[1]\n",
    "    if gcd==1:\n",
    "        if t1<0:\n",
    "            return t1+phi\n",
    "        else:\n",
    "            return t1\n",
    "get_multiplicative_inverse(gcdExtended(public_key,phi),phi)"
   ]
  },
  {
   "cell_type": "code",
   "execution_count": 544,
   "id": "c6683f9d",
   "metadata": {
    "ExecuteTime": {
     "end_time": "2022-10-20T17:52:20.133262Z",
     "start_time": "2022-10-20T17:52:20.110323Z"
    }
   },
   "outputs": [
    {
     "data": {
      "text/plain": [
       "8743"
      ]
     },
     "execution_count": 544,
     "metadata": {},
     "output_type": "execute_result"
    }
   ],
   "source": [
    "#     private_key = (1+(k*phi))/public_key\n",
    "k,private_key = 0,0\n",
    "while k<e:\n",
    "    private_key = get_multiplicative_inverse(gcdExtended(public_key,phi),phi)\n",
    "    if gcd(private_key,phi)==1:\n",
    "        break\n",
    "    else:\n",
    "        k+=1\n",
    "private_key = int(private_key)\n",
    "private_key"
   ]
  },
  {
   "cell_type": "code",
   "execution_count": 550,
   "id": "6ceb4d96",
   "metadata": {
    "ExecuteTime": {
     "end_time": "2022-10-20T17:52:37.725862Z",
     "start_time": "2022-10-20T17:52:37.713839Z"
    }
   },
   "outputs": [
    {
     "name": "stdout",
     "output_type": "stream",
     "text": [
      "Encrypted Text =  10333\n",
      "Decrytped Text =  258\n"
     ]
    }
   ],
   "source": [
    "message = 258\n",
    "encrypted_msg = (message**public_key)%n\n",
    "print(\"Encrypted Text = \",encrypted_msg)\n",
    "decrypted_msg = (encrypted_msg**private_key)%n\n",
    "print(\"Decrytped Text = \",decrypted_msg)"
   ]
  },
  {
   "cell_type": "code",
   "execution_count": 549,
   "id": "1ab49591",
   "metadata": {
    "ExecuteTime": {
     "end_time": "2022-10-20T17:52:33.453198Z",
     "start_time": "2022-10-20T17:52:33.371067Z"
    }
   },
   "outputs": [
    {
     "data": {
      "text/plain": [
       "[101, 103, 107, 109]"
      ]
     },
     "execution_count": 549,
     "metadata": {},
     "output_type": "execute_result"
    }
   ],
   "source": [
    "def get_primes_from(x,y):\n",
    "    primes = []\n",
    "    for i in range(x,y):\n",
    "        for j in range(2,i):\n",
    "            if i%j==0:\n",
    "                break\n",
    "        else:\n",
    "            primes.append(i)\n",
    "    return primes\n",
    "get_primes_from(100,110)"
   ]
  },
  {
   "cell_type": "code",
   "execution_count": null,
   "id": "b9dc72cb",
   "metadata": {},
   "outputs": [],
   "source": []
  }
 ],
 "metadata": {
  "hide_input": false,
  "kernelspec": {
   "display_name": "Python 3 (ipykernel)",
   "language": "python",
   "name": "python3"
  },
  "language_info": {
   "codemirror_mode": {
    "name": "ipython",
    "version": 3
   },
   "file_extension": ".py",
   "mimetype": "text/x-python",
   "name": "python",
   "nbconvert_exporter": "python",
   "pygments_lexer": "ipython3",
   "version": "3.9.7"
  },
  "nbTranslate": {
   "displayLangs": [
    "*"
   ],
   "hotkey": "alt-t",
   "langInMainMenu": true,
   "sourceLang": "en",
   "targetLang": "fr",
   "useGoogleTranslate": true
  },
  "varInspector": {
   "cols": {
    "lenName": 16,
    "lenType": 16,
    "lenVar": 40
   },
   "kernels_config": {
    "python": {
     "delete_cmd_postfix": "",
     "delete_cmd_prefix": "del ",
     "library": "var_list.py",
     "varRefreshCmd": "print(var_dic_list())"
    },
    "r": {
     "delete_cmd_postfix": ") ",
     "delete_cmd_prefix": "rm(",
     "library": "var_list.r",
     "varRefreshCmd": "cat(var_dic_list()) "
    }
   },
   "types_to_exclude": [
    "module",
    "function",
    "builtin_function_or_method",
    "instance",
    "_Feature"
   ],
   "window_display": false
  }
 },
 "nbformat": 4,
 "nbformat_minor": 5
}
