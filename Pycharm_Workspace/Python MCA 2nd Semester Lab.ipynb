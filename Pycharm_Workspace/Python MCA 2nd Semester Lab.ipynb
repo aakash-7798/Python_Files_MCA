{
 "cells": [
  {
   "cell_type": "code",
   "execution_count": 4,
   "id": "6ce8d0bd",
   "metadata": {
    "ExecuteTime": {
     "end_time": "2022-07-13T14:41:57.616762Z",
     "start_time": "2022-07-13T14:41:40.440355Z"
    }
   },
   "outputs": [
    {
     "name": "stdout",
     "output_type": "stream",
     "text": [
      "Enter how many records you want to read : 4\n",
      "Enter Name and Age for Person 1 : a 43\n",
      "Enter Name and Age for Person 2 : b 34\n",
      "Enter Name and Age for Person 3 : c 56\n",
      "Enter Name and Age for Person 4 : d 21\n"
     ]
    },
    {
     "data": {
      "text/plain": [
       "[['d', 21], ['b', 34], ['a', 43], ['c', 56]]"
      ]
     },
     "execution_count": 4,
     "metadata": {},
     "output_type": "execute_result"
    }
   ],
   "source": [
    "# 1.Write a Python program that reads a list of names and ages, then prints the list sorted by age.\n",
    "\n",
    "# from operator import itemgetter\n",
    "\n",
    "li = []\n",
    "for i in range(int(input(\"Enter how many records you want to read : \"))):\n",
    "    li.append(list(map(str,input(f\"Enter Name and Age for Person {i+1} : \").split())))\n",
    "    li[i][1] = int(li[i][1])\n",
    "sorted(li,key=lambda x:x[1])\n",
    "# sorted(li,key=itemgetter(1))"
   ]
  },
  {
   "cell_type": "code",
   "execution_count": 4,
   "id": "6e9d7904",
   "metadata": {
    "ExecuteTime": {
     "end_time": "2022-07-22T11:56:52.929224Z",
     "start_time": "2022-07-22T11:56:51.210924Z"
    }
   },
   "outputs": [
    {
     "name": "stdout",
     "output_type": "stream",
     "text": [
      "Enter File Name : ghy\n",
      "The File not present in the directory .....\n"
     ]
    }
   ],
   "source": [
    "# 2. Write a Python program that will prompt the user for a file name, read all the lines\n",
    "# from the file into a list, sort the list, and then print the lines in sorted order.\n",
    "\n",
    "from fnmatch import fnmatch\n",
    "import os\n",
    "\n",
    "fl_name = input(\"Enter File Name : \")\n",
    "bl_file_match = False\n",
    "bl_extension_match = False\n",
    "for i in os.listdir('.'):\n",
    "    if fnmatch(i,'*.txt'):\n",
    "        bl_extension_match = True\n",
    "        if fl_name in i:\n",
    "            bl_file_match = True\n",
    "            with open(i,encoding='utf8') as f:\n",
    "                f_contents =f.read().split() \n",
    "                print(\"Sorted List : \",sorted(f_contents))\n",
    "if not bl_extension_match:\n",
    "    print(\"The File you are trying is not text file .....\")\n",
    "if not bl_file_match:\n",
    "    print(\"The File not present in the directory .....\")            "
   ]
  },
  {
   "cell_type": "code",
   "execution_count": 187,
   "id": "ba1aae31",
   "metadata": {
    "ExecuteTime": {
     "end_time": "2022-06-06T13:56:05.663258Z",
     "start_time": "2022-06-06T13:56:02.673663Z"
    }
   },
   "outputs": [
    {
     "name": "stdout",
     "output_type": "stream",
     "text": [
      "Enter File Name : File\n",
      "['MCA', 'First', 'Year', '21031F0005', 'Hi', 'Iam', 'Aakash', 'Nadupalli', 'I', 'am', 'Pursuing', 'MCA', 'FirstYear', 'Now', 'I', 'have', 'completed', '1st', 'Semester', 'Thank', 'you', 'Nory', 'was', 'a', 'Catholic', 'because', 'her', 'mother', 'was', 'a', 'Catholic', 'and', 'Norys', 'mother', 'was', 'a', 'Catholic', 'because', 'her', 'father', 'was', 'a', 'Catholic', 'and', 'her', 'father', 'was', 'a', 'Catholic', 'because', 'his', 'mother', 'was', 'a', 'Catholic', 'or', 'had', 'been']\n",
      " Number of Lines :  13\n",
      " Number of Words :  58\n",
      " Number of Characters :  260\n"
     ]
    }
   ],
   "source": [
    "# 3. Write a Python program that asks the user for a file name, and then prints the number\n",
    "# of characters, words, and lines in the file.\n",
    "\n",
    "from fnmatch import fnmatch\n",
    "import os\n",
    "import re\n",
    "\n",
    "fl_name = input(\"Enter File Name : \")\n",
    "\n",
    "for i in os.listdir('.'):\n",
    "    if fnmatch(i,'*.txt'):\n",
    "        if fl_name in i:\n",
    "            with open(i,encoding='utf8') as f:\n",
    "                f_contents = re.split(\"[, \\n.\\-!?:]+\", open(i,encoding='utf8').read())\n",
    "                print(f_contents)\n",
    "                print(\" Number of Lines : \",len(open(i,encoding='utf8').read().splitlines()))\n",
    "                print(\" Number of Words : \",len(f_contents))\n",
    "                ct = 0\n",
    "                for fc in open(i,encoding='utf8').read().split():\n",
    "                    ct+=len(fc)\n",
    "                print(\" Number of Characters : \",ct)"
   ]
  },
  {
   "cell_type": "code",
   "execution_count": 2,
   "id": "480ea27f",
   "metadata": {
    "ExecuteTime": {
     "end_time": "2022-07-22T11:55:04.901742Z",
     "start_time": "2022-07-22T11:55:00.560361Z"
    }
   },
   "outputs": [
    {
     "name": "stdout",
     "output_type": "stream",
     "text": [
      "Enter File Name : gi\n",
      "Enter String : efs\n"
     ]
    }
   ],
   "source": [
    "# 4. Write a Python program that will prompt the user for a string and a file name, and then\n",
    "# print all lines in the file that contain the string.\n",
    "from fnmatch import fnmatch\n",
    "import os\n",
    "\n",
    "fl_name = input(\"Enter File Name : \")\n",
    "string_match = input(\"Enter String : \") \n",
    "\n",
    "for i in os.listdir('.'):\n",
    "    if fnmatch(i,'*.txt'):\n",
    "        if fl_name in i:\n",
    "            with open(i,encoding='utf8') as f:\n",
    "                f_contents =f.read().splitlines()\n",
    "                print(\"  \")\n",
    "                for sm in f_contents:\n",
    "                    if string_match in sm:\n",
    "                        print(sm)\n",
    "#                 print([sm for sm in f_contents if string_match in sm])"
   ]
  },
  {
   "cell_type": "code",
   "execution_count": 205,
   "id": "24881c90",
   "metadata": {
    "ExecuteTime": {
     "end_time": "2022-06-06T14:19:56.872564Z",
     "start_time": "2022-06-06T14:19:56.860597Z"
    }
   },
   "outputs": [
    {
     "name": "stdout",
     "output_type": "stream",
     "text": [
      "   Area of Rectangle   :  200\n",
      "Perimeter of Rectangle :  60\n"
     ]
    }
   ],
   "source": [
    "# 5. Create a class Rectangle. The constructor for this class should take two numeric\n",
    "# arguments, which are the length and breadth. Add methods to compute the area and\n",
    "# perimeter of the rectangle, as well as methods that simply return the length and\n",
    "# breadth. Add a method isSquare that returns a Boolean value if the Rectangle is a\n",
    "# Square.\n",
    "\n",
    "\n",
    "class Rectangle:\n",
    "    def __init__(self,length,breadth):\n",
    "        self.length = length\n",
    "        self.breadth = breadth\n",
    "    def Area_and_Perimeter_of_Rectangle(self):\n",
    "        print(\"   Area of Rectangle   : \",self.length*self.breadth)\n",
    "        print(\"Perimeter of Rectangle : \",2*(self.length+self.breadth))\n",
    "Rct = Rectangle(10,20)\n",
    "Rct.Area_and_Perimeter_of_Rectangle()"
   ]
  },
  {
   "cell_type": "code",
   "execution_count": 36,
   "id": "e82dbdc5",
   "metadata": {
    "ExecuteTime": {
     "end_time": "2022-07-13T15:30:41.091901Z",
     "start_time": "2022-07-13T15:30:41.067996Z"
    }
   },
   "outputs": [
    {
     "name": "stdout",
     "output_type": "stream",
     "text": [
      "[1, 4, 14, 23, 25, 35, 65, 68, 69, 78, 98]\n"
     ]
    },
    {
     "data": {
      "text/plain": [
       "3"
      ]
     },
     "execution_count": 36,
     "metadata": {},
     "output_type": "execute_result"
    }
   ],
   "source": [
    "# 9. Write a Python program that implements binary search method to search for a key in\n",
    "# a sorted list.\n",
    "n = [78,25,14,98,35,65,68,1,4,23,69]\n",
    "n = sorted(n)\n",
    "print(n)\n",
    "\n",
    "# with Recursion\n",
    "# def Binary_Search(n,lb,ub,key):\n",
    "#     if lb<=ub:\n",
    "#         mid = lb+((ub-lb)//2)\n",
    "#         if n[mid] == key:\n",
    "#             return mid\n",
    "#         elif key<n[mid]:\n",
    "#             return Binary_Search(n,lb,mid-1,key)\n",
    "#         else:\n",
    "#             return Binary_Search(n,mid+1,ub,key)\n",
    "#     return -1\n",
    "# Binary_Search(n,0,len(n),78)\n",
    "\n",
    "## without recursion\n",
    "def binary_search(n,key):\n",
    "    lb = 0\n",
    "    ub = len(n)-1\n",
    "    while(lb<=ub):\n",
    "        mid = (lb+ub)//2\n",
    "        if n[mid]==key:\n",
    "            return mid\n",
    "        elif key<n[mid]:\n",
    "            ub = mid-1\n",
    "        else:\n",
    "            lb = mid+1\n",
    "    return -1\n",
    "binary_search(n,23)"
   ]
  },
  {
   "cell_type": "code",
   "execution_count": null,
   "id": "8d6d5ebb",
   "metadata": {},
   "outputs": [],
   "source": []
  },
  {
   "cell_type": "code",
   "execution_count": null,
   "id": "d83ef66b",
   "metadata": {},
   "outputs": [],
   "source": []
  },
  {
   "cell_type": "code",
   "execution_count": 41,
   "id": "1a0a4d3f",
   "metadata": {
    "ExecuteTime": {
     "end_time": "2022-07-13T14:59:57.764361Z",
     "start_time": "2022-07-13T14:59:57.737432Z"
    }
   },
   "outputs": [
    {
     "name": "stdout",
     "output_type": "stream",
     "text": [
      "Words In File : \n",
      " ['MCA', 'First', 'Year', '21031F0005', 'Hi', 'Iam', 'Aakash', 'Nadupalli', 'I', 'am', 'Pursuing', 'MCA', 'FirstYear', 'Now', 'I', 'have', 'completed', '1st', 'Semester', 'Thank', 'you', 'Nory', 'was', 'a', 'Catholic', 'because', 'her', 'mother', 'was', 'a', 'Catholic', 'and', 'Norys', 'mother', 'was', 'a', 'Catholic', 'because', 'her', 'father', 'was', 'a', 'Catholic', 'and', 'her', 'father', 'was', 'a', 'Catholic', 'because', 'his', 'mother', 'was', 'a', 'Catholic', 'or', 'had', 'been'] \n",
      "\n",
      "Occurrences of Each Word : \n",
      " {'MCA': 2, 'First': 1, 'Year': 1, '21031F0005': 1, 'Hi': 1, 'Iam': 1, 'Aakash': 1, 'Nadupalli': 1, 'I': 2, 'am': 1, 'Pursuing': 1, 'FirstYear': 1, 'Now': 1, 'have': 1, 'completed': 1, '1st': 1, 'Semester': 1, 'Thank': 1, 'you': 1, 'Nory': 1, 'was': 6, 'a': 6, 'Catholic': 6, 'because': 3, 'her': 3, 'mother': 3, 'and': 2, 'Norys': 1, 'father': 2, 'his': 1, 'or': 1, 'had': 1, 'been': 1} \n",
      "\n",
      "Displays the words in decreasing order of their occurrence counts. : \n",
      "  [('was', 6), ('a', 6), ('Catholic', 6), ('because', 3), ('her', 3), ('mother', 3), ('MCA', 2), ('I', 2), ('and', 2), ('father', 2), ('First', 1), ('Year', 1), ('21031F0005', 1), ('Hi', 1), ('Iam', 1), ('Aakash', 1), ('Nadupalli', 1), ('am', 1), ('Pursuing', 1), ('FirstYear', 1), ('Now', 1), ('have', 1), ('completed', 1), ('1st', 1), ('Semester', 1), ('Thank', 1), ('you', 1), ('Nory', 1), ('Norys', 1), ('his', 1), ('or', 1), ('had', 1), ('been', 1)]\n"
     ]
    }
   ],
   "source": [
    "# 12.Write a Python program that counts the occurrences of words in a text file and\n",
    "# displays the words in decreasing order of their occurrence counts.\n",
    "\n",
    "OC = {}\n",
    "for i in  ' '.join([open('File.txt').read().split('\\n')][0]).split():\n",
    "    if i not in OC:\n",
    "        OC[i] = 0\n",
    "    if i in OC:\n",
    "        OC[i]+=1\n",
    "print(\"Words In File : \\n\",' '.join([open('File.txt').read().split('\\n')][0]).split(),end=' ')\n",
    "print(\"\\n\")\n",
    "print(\"Occurrences of Each Word : \\n\",OC,end=' ')\n",
    "print(\"\\n\")\n",
    "print(\"Displays the words in decreasing order of their occurrence counts. : \\n \",sorted(OC.items(),key=lambda x:x[1],reverse=True))\n"
   ]
  },
  {
   "cell_type": "code",
   "execution_count": 52,
   "id": "2a28c873",
   "metadata": {
    "ExecuteTime": {
     "end_time": "2022-07-13T15:06:20.830485Z",
     "start_time": "2022-07-13T15:06:20.803556Z"
    }
   },
   "outputs": [
    {
     "name": "stdout",
     "output_type": "stream",
     "text": [
      "Unsorted Elements :  [78, 25, 14, 98, 35, 65, 78, 68, 1, 4, 23, 65, 69, 77, 12, 15, 35, 36, 78, 42, 48, 75, 98, 21, 24, 54, 11]\n",
      " Sorted Elements  :  [1, 4, 11, 12, 14, 15, 21, 23, 24, 25, 35, 35, 36, 42, 48, 54, 65, 65, 68, 69, 75, 77, 78, 78, 78, 98, 98] "
     ]
    }
   ],
   "source": [
    "# 13.Write a Python program that implements insertion sort for sorting a list of elements\n",
    "# in ascending order.\n",
    "n = [78,25,14,98,35,65,78,68,1,4,23,65,69,77,12,15,35,36,78,42,48,75,98,21,24,54,11]\n",
    "print(\"Unsorted Elements : \",n)\n",
    "def Insertion_Sort(n):\n",
    "    for i in range(len(n)):\n",
    "        j = i-1\n",
    "        while(j>=0):\n",
    "            if n[j]>n[j+1]:\n",
    "                n[j],n[j+1] = n[j+1],n[j]\n",
    "            j-=1\n",
    "    return n\n",
    "print(\" Sorted Elements  : \",Insertion_Sort(n),end=' ')"
   ]
  },
  {
   "cell_type": "code",
   "execution_count": null,
   "id": "0c990a3f",
   "metadata": {},
   "outputs": [],
   "source": []
  }
 ],
 "metadata": {
  "hide_input": false,
  "kernelspec": {
   "display_name": "Python 3 (ipykernel)",
   "language": "python",
   "name": "python3"
  },
  "language_info": {
   "codemirror_mode": {
    "name": "ipython",
    "version": 3
   },
   "file_extension": ".py",
   "mimetype": "text/x-python",
   "name": "python",
   "nbconvert_exporter": "python",
   "pygments_lexer": "ipython3",
   "version": "3.9.7"
  },
  "nbTranslate": {
   "displayLangs": [
    "*"
   ],
   "hotkey": "alt-t",
   "langInMainMenu": true,
   "sourceLang": "en",
   "targetLang": "fr",
   "useGoogleTranslate": true
  },
  "varInspector": {
   "cols": {
    "lenName": 16,
    "lenType": 16,
    "lenVar": 40
   },
   "kernels_config": {
    "python": {
     "delete_cmd_postfix": "",
     "delete_cmd_prefix": "del ",
     "library": "var_list.py",
     "varRefreshCmd": "print(var_dic_list())"
    },
    "r": {
     "delete_cmd_postfix": ") ",
     "delete_cmd_prefix": "rm(",
     "library": "var_list.r",
     "varRefreshCmd": "cat(var_dic_list()) "
    }
   },
   "types_to_exclude": [
    "module",
    "function",
    "builtin_function_or_method",
    "instance",
    "_Feature"
   ],
   "window_display": false
  }
 },
 "nbformat": 4,
 "nbformat_minor": 5
}
