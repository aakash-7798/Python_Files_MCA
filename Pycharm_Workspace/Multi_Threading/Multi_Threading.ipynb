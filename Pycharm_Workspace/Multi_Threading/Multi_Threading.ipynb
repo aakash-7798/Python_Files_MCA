{
 "cells": [
  {
   "cell_type": "code",
   "execution_count": 2,
   "outputs": [],
   "source": [
    "import threading\n",
    "import time"
   ],
   "metadata": {
    "collapsed": false,
    "pycharm": {
     "name": "#%%\n"
    }
   }
  },
  {
   "cell_type": "code",
   "execution_count": 12,
   "outputs": [],
   "source": [
    "# time.localtime()"
   ],
   "metadata": {
    "collapsed": false,
    "pycharm": {
     "name": "#%%\n"
    }
   }
  },
  {
   "cell_type": "code",
   "execution_count": 34,
   "outputs": [
    {
     "data": {
      "text/plain": "47511.3486674"
     },
     "execution_count": 34,
     "metadata": {},
     "output_type": "execute_result"
    }
   ],
   "source": [
    "time.perf_counter()"
   ],
   "metadata": {
    "collapsed": false,
    "pycharm": {
     "name": "#%%\n"
    }
   }
  },
  {
   "cell_type": "code",
   "execution_count": 52,
   "outputs": [],
   "source": [
    "def take_rest():\n",
    "    print('Sleeping for 1 second..')\n",
    "    time.sleep(1)\n",
    "    print('Done sleeping......')"
   ],
   "metadata": {
    "collapsed": false,
    "pycharm": {
     "name": "#%%\n"
    }
   }
  },
  {
   "cell_type": "code",
   "execution_count": 45,
   "outputs": [
    {
     "name": "stdout",
     "output_type": "stream",
     "text": [
      "Sleeping for 1 second\n",
      "Done sleeping\n",
      "Process finished in 1 second(s)\n"
     ]
    }
   ],
   "source": [
    "start = time.perf_counter()\n",
    "take_rest()\n",
    "finish = time.perf_counter()\n",
    "print(f\"Process finished in {int(finish-start)} second(s)\")"
   ],
   "metadata": {
    "collapsed": false,
    "pycharm": {
     "name": "#%%\n"
    }
   }
  },
  {
   "cell_type": "code",
   "execution_count": 44,
   "outputs": [
    {
     "name": "stdout",
     "output_type": "stream",
     "text": [
      "Sleeping for 1 second\n",
      "Done sleeping\n",
      "Sleeping for 1 second\n",
      "Done sleeping\n",
      "Sleeping for 1 second\n",
      "Done sleeping\n",
      "Process finished in 3 second(s)\n"
     ]
    }
   ],
   "source": [
    "# What if I run function three times\n",
    "start = time.perf_counter()\n",
    "take_rest()\n",
    "take_rest()\n",
    "take_rest()\n",
    "finish = time.perf_counter()\n",
    "print(f\"Process finished in {int(finish-start)} second(s)\")"
   ],
   "metadata": {
    "collapsed": false,
    "pycharm": {
     "name": "#%%\n"
    }
   }
  },
  {
   "cell_type": "code",
   "execution_count": 64,
   "outputs": [
    {
     "name": "stdout",
     "output_type": "stream",
     "text": [
      "Process finished in 0 second(s)\n"
     ]
    }
   ],
   "source": [
    "## Lets do the above task using multi threading\n",
    "# Below I have just created thread object but not running the code\n",
    "# see in target i just want to pass the function not execute the function so don't keep put parentheses for function\n",
    "start = time.perf_counter()\n",
    "t1 = threading.Thread(target=take_rest)\n",
    "t2 = threading.Thread(target=take_rest)\n",
    "finish = time.perf_counter()\n",
    "print(f\"Process finished in {int(finish-start)} second(s)\")"
   ],
   "metadata": {
    "collapsed": false,
    "pycharm": {
     "name": "#%%\n"
    }
   }
  },
  {
   "cell_type": "code",
   "execution_count": 65,
   "outputs": [
    {
     "name": "stdout",
     "output_type": "stream",
     "text": [
      "Sleeping for 1 second..\n",
      "Sleeping for 1 second..\n",
      "Process finished in 0 second(s)\n"
     ]
    }
   ],
   "source": [
    "# Inorder to run the funtion we need to use the start method on each thread\n",
    "# below code might not actually do exactly what we think it will do\n",
    "start = time.perf_counter()\n",
    "t1 = threading.Thread(target=take_rest)\n",
    "t2 = threading.Thread(target=take_rest)\n",
    "t1.start()\n",
    "t2.start()\n",
    "finish = time.perf_counter()\n",
    "print(f\"Process finished in {int(finish-start)} second(s)\")"
   ],
   "metadata": {
    "collapsed": false,
    "pycharm": {
     "name": "#%%\n"
    }
   }
  },
  {
   "cell_type": "code",
   "execution_count": 66,
   "outputs": [
    {
     "name": "stdout",
     "output_type": "stream",
     "text": [
      "Done sleeping......\n",
      "Done sleeping......\n",
      "Sleeping for 1 second..\n",
      "Sleeping for 1 second..\n",
      "Done sleeping......\n",
      "Done sleeping......\n",
      "Process finished in 1 second(s)\n"
     ]
    }
   ],
   "source": [
    "## what if we wanted the threads to finish before we calculated the finish time then use join method\n",
    "start = time.perf_counter()\n",
    "t1 = threading.Thread(target=take_rest)\n",
    "t2 = threading.Thread(target=take_rest)\n",
    "t1.start()\n",
    "t2.start()\n",
    "t1.join()\n",
    "t2.join()\n",
    "finish = time.perf_counter()\n",
    "print(f\"Process finished in {int(finish-start)} second(s)\")"
   ],
   "metadata": {
    "collapsed": false,
    "pycharm": {
     "name": "#%%\n"
    }
   }
  },
  {
   "cell_type": "code",
   "execution_count": 67,
   "outputs": [
    {
     "name": "stdout",
     "output_type": "stream",
     "text": [
      "Sleeping for 1 second..\n",
      "Sleeping for 1 second..\n",
      "Sleeping for 1 second..\n",
      "Sleeping for 1 second..\n",
      "Sleeping for 1 second..\n",
      "Sleeping for 1 second..\n",
      "Sleeping for 1 second..\n",
      "Sleeping for 1 second..\n",
      "Sleeping for 1 second..\n",
      "Sleeping for 1 second..\n",
      "Done sleeping......\n",
      "Done sleeping......\n",
      "Done sleeping......\n",
      "Done sleeping......\n",
      "Done sleeping......\n",
      "Done sleeping......\n",
      "Done sleeping......\n",
      "Done sleeping......\n",
      "Done sleeping......\n",
      "Done sleeping......\n",
      "Process finished in 1 second(s)\n"
     ]
    }
   ],
   "source": [
    "# Note  we cannot create join in loop because it would join on the thread before looping through and creating and starting next thread so it would be same as running the code synchronously so what we do is we first start all of these threads in one loop and creating another loop for joining\n",
    "\n",
    "start = time.perf_counter()\n",
    "threads = []\n",
    "for _ in range(10):\n",
    "    t = threading.Thread(target=take_rest)\n",
    "    t.start()\n",
    "    threads.append(t)\n",
    "for thread in threads:\n",
    "    thread.join()\n",
    "finish = time.perf_counter()\n",
    "print(f\"Process finished in {int(finish-start)} second(s)\")"
   ],
   "metadata": {
    "collapsed": false,
    "pycharm": {
     "name": "#%%\n"
    }
   }
  },
  {
   "cell_type": "code",
   "execution_count": 70,
   "outputs": [
    {
     "name": "stdout",
     "output_type": "stream",
     "text": [
      "Sleeping for 1.5 second(s)..\n",
      "Sleeping for 1.5 second(s)..\n",
      "Sleeping for 1.5 second(s)..\n",
      "Sleeping for 1.5 second(s)..\n",
      "Sleeping for 1.5 second(s)..\n",
      "Sleeping for 1.5 second(s)..\n",
      "Sleeping for 1.5 second(s)..\n",
      "Sleeping for 1.5 second(s)..\n",
      "Sleeping for 1.5 second(s)..\n",
      "Sleeping for 1.5 second(s)..\n",
      "Done sleeping......Done sleeping......\n",
      "Done sleeping......\n",
      "Done sleeping......\n",
      "Done sleeping......\n",
      "Done sleeping......\n",
      "Done sleeping......\n",
      "Done sleeping......\n",
      "Done sleeping......\n",
      "Done sleeping......\n",
      "\n",
      "Process finished in 1.53 second(s)\n"
     ]
    }
   ],
   "source": [
    "def take_rest(seconds):\n",
    "    print(f'Sleeping for {seconds} second(s)..')\n",
    "    time.sleep(seconds)\n",
    "    print('Done sleeping......')\n",
    "start = time.perf_counter()\n",
    "threads = []\n",
    "for _ in range(10):\n",
    "    t = threading.Thread(target=take_rest,args=[1.5])\n",
    "    t.start()\n",
    "    threads.append(t)\n",
    "for thread in threads:\n",
    "    thread.join()\n",
    "finish = time.perf_counter()\n",
    "print(f\"Process finished in {round(finish-start,2)} second(s)\")"
   ],
   "metadata": {
    "collapsed": false,
    "pycharm": {
     "name": "#%%\n"
    }
   }
  },
  {
   "cell_type": "code",
   "execution_count": 71,
   "outputs": [],
   "source": [
    "# It's better to learn manual way first to understand a little bit better of what's going on in the background\n",
    "# ThreadPoolExecutor --> Helps in running these thread in more efficient way and easily switch over to using multiple processes instead od threads\n",
    "# From now it's better to use thread pool executing module\n",
    "# ThreadPoolExecutor resides in concurrent.futures module"
   ],
   "metadata": {
    "collapsed": false,
    "pycharm": {
     "name": "#%%\n"
    }
   }
  },
  {
   "cell_type": "code",
   "execution_count": 87,
   "outputs": [],
   "source": [
    "from concurrent.futures import ThreadPoolExecutor,as_completed"
   ],
   "metadata": {
    "collapsed": false,
    "pycharm": {
     "name": "#%%\n"
    }
   }
  },
  {
   "cell_type": "code",
   "execution_count": 81,
   "outputs": [],
   "source": [
    "# Performing the same thing above using concurrent.futures module\n",
    "# there are couple of methods that we want to use\n",
    "# if we want to execute the function once at a time then we use submit method\n",
    "# submit method schedules a function to be executed and returns future object\n",
    "# result method will wait around until function completes"
   ],
   "metadata": {
    "collapsed": false,
    "pycharm": {
     "name": "#%%\n"
    }
   }
  },
  {
   "cell_type": "code",
   "execution_count": 107,
   "outputs": [],
   "source": [
    "def take_rest1(seconds):\n",
    "    print(f'Sleeping for {seconds} second(s)..')\n",
    "    time.sleep(seconds)\n",
    "    return 'Done sleeping...'"
   ],
   "metadata": {
    "collapsed": false,
    "pycharm": {
     "name": "#%%\n"
    }
   }
  },
  {
   "cell_type": "code",
   "execution_count": 108,
   "outputs": [
    {
     "name": "stdout",
     "output_type": "stream",
     "text": [
      "Sleeping for 1 second(s)..\n",
      "Sleeping for 1 second(s)..\n",
      "Done sleeping...\n",
      "Done sleeping...\n",
      "Process finished in 1.01 second(s)\n"
     ]
    }
   ],
   "source": [
    "start = time.perf_counter()\n",
    "with ThreadPoolExecutor() as executor:\n",
    "    f1 = executor.submit(take_rest1,1)\n",
    "    f2 = executor.submit(take_rest1,1)\n",
    "    print(f1.result())\n",
    "    print(f2.result())\n",
    "finish = time.perf_counter()\n",
    "print(f\"Process finished in {round(finish-start,2)} second(s)\")"
   ],
   "metadata": {
    "collapsed": false,
    "pycharm": {
     "name": "#%%\n"
    }
   }
  },
  {
   "cell_type": "code",
   "execution_count": 109,
   "outputs": [
    {
     "name": "stdout",
     "output_type": "stream",
     "text": [
      "Sleeping for 1 second(s)..\n",
      "Sleeping for 1 second(s)..\n",
      "Sleeping for 1 second(s)..\n",
      "Sleeping for 1 second(s)..\n",
      "Sleeping for 1 second(s)..\n",
      "Sleeping for 1 second(s)..\n",
      "Sleeping for 1 second(s)..\n",
      "Sleeping for 1 second(s)..\n",
      "Sleeping for 1 second(s)..Done sleeping...\n",
      "Sleeping for 1 second(s)..\n",
      "Done sleeping...\n",
      "Done sleeping...\n",
      "Done sleeping...\n",
      "Done sleeping...\n",
      "Done sleeping...\n",
      "Done sleeping...\n",
      "Done sleeping...\n",
      "\n",
      "Done sleeping...\n",
      "Done sleeping...\n",
      "Process finished in 2.03 second(s)\n"
     ]
    }
   ],
   "source": [
    "# What if we want to run for many then use list comprehensions\n",
    "# as_completed is a method that will yeild the results of threads as completed\n",
    "start = time.perf_counter()\n",
    "with ThreadPoolExecutor() as executor:\n",
    "    results = [executor.submit(take_rest1,1) for _ in range(10)]\n",
    "    for f in as_completed(results):\n",
    "        print(f.result())\n",
    "finish = time.perf_counter()\n",
    "print(f\"Process finished in {round(finish-start,2)} second(s)\")"
   ],
   "metadata": {
    "collapsed": false,
    "pycharm": {
     "name": "#%%\n"
    }
   }
  },
  {
   "cell_type": "code",
   "execution_count": 112,
   "outputs": [],
   "source": [
    "def take_rest2(seconds):\n",
    "    print(f'Sleeping for {seconds} second(s)..')\n",
    "    time.sleep(seconds)\n",
    "    return f'Done sleeping... for second = {seconds}'"
   ],
   "metadata": {
    "collapsed": false,
    "pycharm": {
     "name": "#%%\n"
    }
   }
  },
  {
   "cell_type": "code",
   "execution_count": 113,
   "outputs": [
    {
     "name": "stdout",
     "output_type": "stream",
     "text": [
      "Sleeping for 5 second(s)..\n",
      "Sleeping for 4 second(s)..\n",
      "Sleeping for 3 second(s)..\n",
      "Sleeping for 2 second(s)..\n",
      "Sleeping for 1 second(s)..\n",
      "Done sleeping... for second = 1\n",
      "Done sleeping... for second = 2\n",
      "Done sleeping... for second = 3\n",
      "Done sleeping... for second = 4\n",
      "Done sleeping... for second = 5\n",
      "Process finished in 5.02 second(s)\n"
     ]
    }
   ],
   "source": [
    "start = time.perf_counter()\n",
    "with ThreadPoolExecutor() as executor:\n",
    "    secs = [5,4,3,2,1]\n",
    "    results = [executor.submit(take_rest2, sec) for sec in secs]\n",
    "    for f in as_completed(results):\n",
    "        print(f.result())\n",
    "finish = time.perf_counter()\n",
    "print(f\"Process finished in {round(finish - start, 2)} second(s)\")"
   ],
   "metadata": {
    "collapsed": false,
    "pycharm": {
     "name": "#%%\n"
    }
   }
  },
  {
   "cell_type": "code",
   "execution_count": 114,
   "outputs": [
    {
     "name": "stdout",
     "output_type": "stream",
     "text": [
      "Sleeping for 5 second(s)..\n",
      "Sleeping for 4 second(s)..\n",
      "Sleeping for 3 second(s)..\n",
      "Sleeping for 2 second(s)..\n",
      "Sleeping for 1 second(s)..\n",
      "Done sleeping... for second = 5\n",
      "Done sleeping... for second = 4\n",
      "Done sleeping... for second = 3\n",
      "Done sleeping... for second = 2\n",
      "Done sleeping... for second = 1\n",
      "Process finished in 5.01 second(s)\n"
     ]
    }
   ],
   "source": [
    "## using map method\n",
    "start = time.perf_counter()\n",
    "with ThreadPoolExecutor() as executor:\n",
    "    secs = [5,4,3,2,1]\n",
    "    results = executor.map(take_rest2,secs)\n",
    "    for r in results:\n",
    "        print(r)\n",
    "finish = time.perf_counter()\n",
    "print(f\"Process finished in {round(finish - start, 2)} second(s)\")"
   ],
   "metadata": {
    "collapsed": false,
    "pycharm": {
     "name": "#%%\n"
    }
   }
  },
  {
   "cell_type": "code",
   "execution_count": null,
   "outputs": [],
   "source": [],
   "metadata": {
    "collapsed": false,
    "pycharm": {
     "name": "#%%\n"
    }
   }
  }
 ],
 "metadata": {
  "kernelspec": {
   "display_name": "Python 3",
   "language": "python",
   "name": "python3"
  },
  "language_info": {
   "codemirror_mode": {
    "name": "ipython",
    "version": 2
   },
   "file_extension": ".py",
   "mimetype": "text/x-python",
   "name": "python",
   "nbconvert_exporter": "python",
   "pygments_lexer": "ipython2",
   "version": "2.7.6"
  }
 },
 "nbformat": 4,
 "nbformat_minor": 0
}