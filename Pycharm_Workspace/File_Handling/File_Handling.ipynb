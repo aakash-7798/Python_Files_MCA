{
 "cells": [
  {
   "cell_type": "code",
   "execution_count": 1,
   "outputs": [],
   "source": [
    "                                              # File Handling\n",
    "# So, what is a file?\n",
    "# A file is a named location on a secondary storage media where data are permanently stored for later access."
   ],
   "metadata": {
    "collapsed": false,
    "pycharm": {
     "name": "#%%\n"
    }
   }
  },
  {
   "cell_type": "code",
   "execution_count": 2,
   "outputs": [],
   "source": [
    "# TYPES OF FILES\n",
    "#  There are mainly two types of data files\n",
    "# 1. text file  ->  A text file consists of human-readable characters, which can be opened by any text editor\n",
    "# 2. binary file -> they are made up of non-human readable characters and symbols, which require specific programs to access its contents."
   ],
   "metadata": {
    "collapsed": false,
    "pycharm": {
     "name": "#%%\n"
    }
   }
  },
  {
   "cell_type": "code",
   "execution_count": 3,
   "outputs": [],
   "source": [
    "# Text File\n",
    "# A text file can be understood as a sequence of characters consisting of alphabets, numbers and other special symbols.\n",
    "# Files with extensions like .txt, .py, .csv, etc. are some examples of text files.\n",
    "# When we open a text file using a text editor (e.g., Notepad), we see several lines of text.\n",
    "# However, the file contents are not stored in such a way internally.\n",
    "# they are stored in sequence of bytes consisting of 0s and 1s. In ASCII, UNICODE or any other encoding scheme,\n",
    "# the value of each character of the text file is stored as bytes.\n",
    "# So, while opening a text file, the text editor translates each ASCII value and shows us the equivalent character\n",
    "# that is readable by the human being.\n",
    "# For example, the ASCII value 65 (binary equivalent 1000001) will be displayed by a text editor as the letter ‘A’\n",
    "# since the number 65 in ASCII character set represents ‘A’.\n",
    "# Each line of a text file is terminated by a special character, called the End of Line (EOL).\n",
    "# Contents in a text file are usually separated by whitespace,\n",
    "# but comma (,) and tab (\\t) are also commonly used to separate values in a text file."
   ],
   "metadata": {
    "collapsed": false,
    "pycharm": {
     "name": "#%%\n"
    }
   }
  },
  {
   "cell_type": "code",
   "execution_count": 5,
   "outputs": [],
   "source": [
    "# Binary Files\n",
    "# They are also stored in terms of bytes (0s and 1s), but unlike text files, these bytes do not represent the ASCII values of characters.\n",
    "# Rather, they represent the actual content such as image, audio, video, compressed versions of other files, executable files, etc.\n",
    "# These files are not human-readable. Thus, trying to open a binary file using a text editor will show some garbage values.\n",
    "# We need specific software to read or write the contents of a binary file.\n",
    "# Binary files are stored in a computer in a sequence of bytes.\n",
    "# Even a single bit change can corrupt the file and make it unreadable to the supporting application.\n",
    "# Also, it is difficult to remove any error which may occur in the binary file as the stored contents are not human-readable.\n",
    "# We can read and write both text and binary files through Python programs."
   ],
   "metadata": {
    "collapsed": false,
    "pycharm": {
     "name": "#%%\n"
    }
   }
  },
  {
   "cell_type": "code",
   "execution_count": 104,
   "outputs": [],
   "source": [
    "# Before Performing the operations firstly we need to open a file\n",
    "# so let's see how to open a file\n",
    "# To open a file in Python, we use the open() function. The syntax of open()\n",
    "# file_object = open(file_name,access_mode)     --> Don't run this you won't get anything\n",
    "# if file_name is current working directory then fine no problem but if it is not there\n",
    "# then mention the absolute path   e.g.C/abcd/filename.txt    --> mentioned r before path\n",
    "# e.g. open(r\"C/abcd/filename.txt\",r)  --> if you do not mention then you need to write open(\"C//abcd//filename.txt\",r)\n",
    "# if your path is so long enough then it is time taking"
   ],
   "metadata": {
    "collapsed": false,
    "pycharm": {
     "name": "#%%\n"
    }
   }
  },
  {
   "cell_type": "code",
   "execution_count": 8,
   "outputs": [],
   "source": [
    "# # File Open Modes\n",
    "# <r>     Opens the file in read-only mode.            Beginning of the file\n",
    "# <rb>    Opens the file in binary and read-only mode.      Beginning of the file\n",
    "# <r+> or <+r>    Opens the file in both read and write mode.   Beginning of the file\n",
    "# <w>    Opens the file in write mode. If the file already exists, all the contents will be overwritten.\n",
    "# If the file does not exist, then a new file will be created. Beginning of the file\n",
    "# <wb+> or <+wb>   Opens the file in read,write and binary mode. If the file already exists, the contents will be overwritten.\n",
    "# If the file does not exist, then a new file will be created. Beginning of the file\n",
    "# <a>     Opens the file in append mode. If the file does not exist, then a new file will be created. End of the file\n",
    "# <a+> or <+a>    Opens the file in append and read mode. If the file does not exist, then it will create a new file. End of the file"
   ],
   "metadata": {
    "collapsed": false,
    "pycharm": {
     "name": "#%%\n"
    }
   }
  },
  {
   "cell_type": "code",
   "execution_count": 11,
   "outputs": [],
   "source": [
    "# # Closing a file\n",
    "# Once we are done with the read/write operations on a file, it is a good practice to close the file.\n",
    "# Python provides a close() method to do so. While closing a file, the system frees the memory allocated to it.\n",
    "# The syntax of close() is  ->  file_object.close()"
   ],
   "metadata": {
    "collapsed": false,
    "pycharm": {
     "name": "#%%\n"
    }
   }
  },
  {
   "cell_type": "code",
   "execution_count": 12,
   "outputs": [],
   "source": [
    "#  Opening a file using with clause In Python\n",
    "# we can also open a file using with clause.\n",
    "#         The syntax of with clause is  ->  with open (file_name, access_mode) as file_ object:\n",
    "# The advantage of using with clause is\n",
    "# that any file that is opened using this clause is closed automatically, once the control comes outside the with clause.\n",
    "# In case the user forgets to close the file explicitly or if an exception occurs, the file is closed automatically.\n",
    "# Also, it provides a simpler syntax.\n",
    "# with open('file.txt','r+') as myObject:\n",
    "#     content = myObject.read()\n",
    "# Here, we don’t have to close the file explicitly  using close() statement. Python will automatically close the file."
   ],
   "metadata": {
    "collapsed": false,
    "pycharm": {
     "name": "#%%\n"
    }
   }
  },
  {
   "cell_type": "code",
   "execution_count": 13,
   "outputs": [],
   "source": [
    "#  # WRITING TO A TEXT FILE\n",
    "# For writing to a file, we first need to open it in write or append mode.\n",
    "# If we open an existing file in write mode, the previous data will be erased,\n",
    "# and the file object will be positioned at the beginning of the file.\n",
    "# On the other hand, in append mode, new data will be added at the end of the previous data as the file object is at the end of the file.\n",
    "# After opening the file, we can use the following methods to write data in the file. •\n",
    "# write() - for writing a single string •\n",
    "# writelines() - for writing a sequence of strings"
   ],
   "metadata": {
    "collapsed": false,
    "pycharm": {
     "name": "#%%\n"
    }
   }
  },
  {
   "cell_type": "code",
   "execution_count": 53,
   "outputs": [
    {
     "data": {
      "text/plain": "49"
     },
     "execution_count": 53,
     "metadata": {},
     "output_type": "execute_result"
    }
   ],
   "source": [
    "file_write = open(\"file_write.txt\",\"w\")\n",
    "file_write.write(\"Hey I have started using files in python version \")\n",
    "## if you can see that write method is returning number of characters you have specified..."
   ],
   "metadata": {
    "collapsed": false,
    "pycharm": {
     "name": "#%%\n"
    }
   }
  },
  {
   "cell_type": "code",
   "execution_count": 54,
   "outputs": [],
   "source": [
    "# if we want to write integer to file then we need to convert that to str and send\n",
    "file_write.write(str(3.9))\n",
    "## Closing the file\n",
    "file_write.close()"
   ],
   "metadata": {
    "collapsed": false,
    "pycharm": {
     "name": "#%%\n"
    }
   }
  },
  {
   "cell_type": "code",
   "execution_count": 92,
   "outputs": [],
   "source": [
    "# Unlike For a newly created file, the writelines() method does not return the number of characters written in the file.\n",
    "# The following code explains the use of writelines().\n",
    "file_writelines = open(\"file_writelines.txt\",\"w\")\n",
    "file_writelines.writelines([\"Hey hi \\n\",\"Entha chadhivina mind loki ekkani vallake idhi \\n\",\n",
    "                            \"so ippudaina concentrate\",\"\\n\",\"Chadhuvu kondi firstu..\"]) # any datastructure is accepted\n",
    "file_writelines.close()"
   ],
   "metadata": {
    "collapsed": false,
    "pycharm": {
     "name": "#%%\n"
    }
   }
  },
  {
   "cell_type": "code",
   "execution_count": 93,
   "outputs": [
    {
     "ename": "TypeError",
     "evalue": "write() argument must be str, not int",
     "output_type": "error",
     "traceback": [
      "\u001B[1;31m---------------------------------------------------------------------------\u001B[0m",
      "\u001B[1;31mTypeError\u001B[0m                                 Traceback (most recent call last)",
      "Input \u001B[1;32mIn [93]\u001B[0m, in \u001B[0;36m<cell line: 3>\u001B[1;34m()\u001B[0m\n\u001B[0;32m      1\u001B[0m \u001B[38;5;66;03m# Can we pass a tuple of numbers as an argument to writelines()? Will it be written to the file or an error will be generated?\u001B[39;00m\n\u001B[0;32m      2\u001B[0m file_writelines1\u001B[38;5;241m=\u001B[39m \u001B[38;5;28mopen\u001B[39m(\u001B[38;5;124m\"\u001B[39m\u001B[38;5;124mfile_writelines1.txt\u001B[39m\u001B[38;5;124m\"\u001B[39m, \u001B[38;5;124m\"\u001B[39m\u001B[38;5;124mw\u001B[39m\u001B[38;5;124m\"\u001B[39m)\n\u001B[1;32m----> 3\u001B[0m \u001B[43mfile_writelines1\u001B[49m\u001B[38;5;241;43m.\u001B[39;49m\u001B[43mwritelines\u001B[49m\u001B[43m(\u001B[49m\u001B[43m(\u001B[49m\u001B[38;5;241;43m1\u001B[39;49m\u001B[43m,\u001B[49m\u001B[38;5;124;43m\"\u001B[39;49m\u001B[38;5;130;43;01m\\n\u001B[39;49;00m\u001B[38;5;124;43m\"\u001B[39;49m\u001B[43m,\u001B[49m\u001B[38;5;241;43m2\u001B[39;49m\u001B[43m,\u001B[49m\u001B[38;5;124;43m\"\u001B[39;49m\u001B[38;5;130;43;01m\\n\u001B[39;49;00m\u001B[38;5;124;43m\"\u001B[39;49m\u001B[43m,\u001B[49m\u001B[38;5;241;43m3\u001B[39;49m\u001B[43m,\u001B[49m\u001B[38;5;124;43m\"\u001B[39;49m\u001B[38;5;130;43;01m\\n\u001B[39;49;00m\u001B[38;5;124;43m\"\u001B[39;49m\u001B[43m,\u001B[49m\u001B[38;5;241;43m4\u001B[39;49m\u001B[43m,\u001B[49m\u001B[38;5;124;43m\"\u001B[39;49m\u001B[38;5;130;43;01m\\n\u001B[39;49;00m\u001B[38;5;124;43m\"\u001B[39;49m\u001B[43m,\u001B[49m\u001B[38;5;241;43m5\u001B[39;49m\u001B[43m,\u001B[49m\u001B[38;5;124;43m\"\u001B[39;49m\u001B[38;5;130;43;01m\\n\u001B[39;49;00m\u001B[38;5;124;43m\"\u001B[39;49m\u001B[43m,\u001B[49m\u001B[38;5;241;43m6\u001B[39;49m\u001B[43m)\u001B[49m\u001B[43m)\u001B[49m\n\u001B[0;32m      4\u001B[0m file_writelines1\u001B[38;5;241m.\u001B[39mclose()\n",
      "\u001B[1;31mTypeError\u001B[0m: write() argument must be str, not int"
     ]
    }
   ],
   "source": [
    "# Can we pass a tuple of numbers as an argument to writelines()? Will it be written to the file or an error will be generated?\n",
    "file_writelines1= open(\"file_writelines1.txt\", \"w\")\n",
    "file_writelines1.writelines((1,\"\\n\",2,\"\\n\",3,\"\\n\",4,\"\\n\",5,\"\\n\",6))\n",
    "file_writelines1.close()"
   ],
   "metadata": {
    "collapsed": false,
    "pycharm": {
     "name": "#%%\n"
    }
   }
  },
  {
   "cell_type": "code",
   "execution_count": 94,
   "outputs": [
    {
     "ename": "TypeError",
     "evalue": "write() argument must be str, not int",
     "output_type": "error",
     "traceback": [
      "\u001B[1;31m---------------------------------------------------------------------------\u001B[0m",
      "\u001B[1;31mTypeError\u001B[0m                                 Traceback (most recent call last)",
      "Input \u001B[1;32mIn [94]\u001B[0m, in \u001B[0;36m<cell line: 3>\u001B[1;34m()\u001B[0m\n\u001B[0;32m      1\u001B[0m \u001B[38;5;66;03m# As already discussed we need to convert to str . let's see below\u001B[39;00m\n\u001B[0;32m      2\u001B[0m file_writelines1\u001B[38;5;241m=\u001B[39m \u001B[38;5;28mopen\u001B[39m(\u001B[38;5;124m\"\u001B[39m\u001B[38;5;124mfile_writelines1.txt\u001B[39m\u001B[38;5;124m\"\u001B[39m, \u001B[38;5;124m\"\u001B[39m\u001B[38;5;124mw\u001B[39m\u001B[38;5;124m\"\u001B[39m)\n\u001B[1;32m----> 3\u001B[0m \u001B[43mfile_writelines1\u001B[49m\u001B[38;5;241;43m.\u001B[39;49m\u001B[43mwritelines\u001B[49m\u001B[43m(\u001B[49m\u001B[43m(\u001B[49m\u001B[38;5;241;43m1\u001B[39;49m\u001B[43m,\u001B[49m\u001B[38;5;124;43m\"\u001B[39;49m\u001B[38;5;130;43;01m\\n\u001B[39;49;00m\u001B[38;5;124;43m\"\u001B[39;49m\u001B[43m,\u001B[49m\u001B[38;5;241;43m2\u001B[39;49m\u001B[43m,\u001B[49m\u001B[38;5;124;43m\"\u001B[39;49m\u001B[38;5;130;43;01m\\n\u001B[39;49;00m\u001B[38;5;124;43m\"\u001B[39;49m\u001B[43m,\u001B[49m\u001B[38;5;241;43m3\u001B[39;49m\u001B[43m,\u001B[49m\u001B[38;5;124;43m\"\u001B[39;49m\u001B[38;5;130;43;01m\\n\u001B[39;49;00m\u001B[38;5;124;43m\"\u001B[39;49m\u001B[43m,\u001B[49m\u001B[38;5;241;43m4\u001B[39;49m\u001B[43m,\u001B[49m\u001B[38;5;124;43m\"\u001B[39;49m\u001B[38;5;130;43;01m\\n\u001B[39;49;00m\u001B[38;5;124;43m\"\u001B[39;49m\u001B[43m,\u001B[49m\u001B[38;5;241;43m5\u001B[39;49m\u001B[43m,\u001B[49m\u001B[38;5;124;43m\"\u001B[39;49m\u001B[38;5;130;43;01m\\n\u001B[39;49;00m\u001B[38;5;124;43m\"\u001B[39;49m\u001B[43m,\u001B[49m\u001B[38;5;241;43m6\u001B[39;49m\u001B[43m)\u001B[49m\u001B[43m)\u001B[49m\n\u001B[0;32m      4\u001B[0m file_writelines1\u001B[38;5;241m.\u001B[39mclose()\n",
      "\u001B[1;31mTypeError\u001B[0m: write() argument must be str, not int"
     ]
    }
   ],
   "source": [
    "# As already discussed we need to convert to str . let's see below\n",
    "file_writelines1= open(\"file_writelines1.txt\", \"w\")\n",
    "file_writelines1.writelines((1,\"\\n\",2,\"\\n\",3,\"\\n\",4,\"\\n\",5,\"\\n\",6))\n",
    "file_writelines1.close()"
   ],
   "metadata": {
    "collapsed": false,
    "pycharm": {
     "name": "#%%\n"
    }
   }
  },
  {
   "cell_type": "code",
   "execution_count": 95,
   "outputs": [],
   "source": [
    "## See in above example I have to specify str 6 times .  what if there are 10 or above.. so don't follow that approach\n",
    "# I will tell you simple approach using comprehensions"
   ],
   "metadata": {
    "collapsed": false,
    "pycharm": {
     "name": "#%%\n"
    }
   }
  },
  {
   "cell_type": "code",
   "execution_count": 96,
   "outputs": [
    {
     "name": "stdout",
     "output_type": "stream",
     "text": [
      "['1', '2', '3', '4', '5', '6']\n"
     ]
    }
   ],
   "source": [
    "# for converting them to str I use comprehensions\n",
    "ct = [str(i) for i in range(1,7)]\n",
    "print(ct)"
   ],
   "metadata": {
    "collapsed": false,
    "pycharm": {
     "name": "#%%\n"
    }
   }
  },
  {
   "cell_type": "code",
   "execution_count": 97,
   "outputs": [
    {
     "data": {
      "text/plain": "'1\\n2\\n3\\n4\\n5\\n6'"
     },
     "execution_count": 97,
     "metadata": {},
     "output_type": "execute_result"
    }
   ],
   "source": [
    "# What if I want to display integers in every line then i need to specify \\n after every integer\n",
    "# there is ''.join  function which joins the list or string seperated with the delimiter that we mention in inverted comma\n",
    "# eg.  ','.join() comma seperator    '\\n'.join() newline seperator    '#'.join()  hash seperator\n",
    "'\\n'.join(ct)"
   ],
   "metadata": {
    "collapsed": false,
    "pycharm": {
     "name": "#%%\n"
    }
   }
  },
  {
   "cell_type": "code",
   "execution_count": 98,
   "outputs": [
    {
     "name": "stdout",
     "output_type": "stream",
     "text": [
      "['1', '\\n', '2', '\\n', '3', '\\n', '4', '\\n', '5', '\\n', '6']\n"
     ]
    }
   ],
   "source": [
    "## The above is string but we need them to be list so convert using list function\n",
    "it = list('\\n'.join(ct))\n",
    "print(it)"
   ],
   "metadata": {
    "collapsed": false,
    "pycharm": {
     "name": "#%%\n"
    }
   }
  },
  {
   "cell_type": "code",
   "execution_count": 99,
   "outputs": [],
   "source": [
    "# Now send variable name -  (it)   to writelines method open and see the contents\n",
    "file_writelines1= open(\"file_writelines1.txt\", \"w\")\n",
    "file_writelines1.writelines(it)\n",
    "file_writelines1.close()"
   ],
   "metadata": {
    "collapsed": false,
    "pycharm": {
     "name": "#%%\n"
    }
   }
  },
  {
   "cell_type": "code",
   "execution_count": 100,
   "outputs": [
    {
     "name": "stdout",
     "output_type": "stream",
     "text": [
      "Hey I have started using files in python version 3.9\n"
     ]
    }
   ],
   "source": [
    "# From above created-files are --> file_write.txt  , file_writelines.txt   ,file_writelines1.txt\n",
    "# let's see the contents of above created files using read() methods\n",
    "file_read1 = open('file_write.txt','r')\n",
    "print(file_read1.read())  # --> If no argument or a negative number is specified in read(), the entire file content is read\n",
    "file_read1.close()"
   ],
   "metadata": {
    "collapsed": false,
    "pycharm": {
     "name": "#%%\n"
    }
   }
  },
  {
   "cell_type": "code",
   "execution_count": 101,
   "outputs": [
    {
     "name": "stdout",
     "output_type": "stream",
     "text": [
      "Hey I have star\n"
     ]
    }
   ],
   "source": [
    "# I want only part of data    then I need to specify argument\n",
    "file_read1 = open('file_write.txt', 'r')\n",
    "print(file_read1.read(15))  # --> If argument which is positive number is mentioned then from starting to n characters are mentioned\n",
    "file_read1.close()                                              # including spaces and everything"
   ],
   "metadata": {
    "collapsed": false,
    "pycharm": {
     "name": "#%%\n"
    }
   }
  },
  {
   "cell_type": "code",
   "execution_count": 102,
   "outputs": [
    {
     "name": "stdout",
     "output_type": "stream",
     "text": [
      "Hey hi \n",
      "\n"
     ]
    }
   ],
   "source": [
    "# second created file  -> writelines.txt\n",
    "file_read2 = open('file_writelines.txt', 'r')\n",
    "print(file_read2.read(8))\n",
    "file_read2.close()"
   ],
   "metadata": {
    "collapsed": false,
    "pycharm": {
     "name": "#%%\n"
    }
   }
  },
  {
   "cell_type": "code",
   "execution_count": 103,
   "outputs": [
    {
     "name": "stdout",
     "output_type": "stream",
     "text": [
      "Hey hi \n",
      "Entha chadhivina mind loki ekkani vallake idhi \n",
      "so ippudaina concentrate\n",
      "Chadhuvu kondi firstu..\n"
     ]
    }
   ],
   "source": [
    "# printing full contents\n",
    "file_read2 = open('file_writelines.txt', 'r')\n",
    "print(file_read2.read())\n",
    "file_read2.close()"
   ],
   "metadata": {
    "collapsed": false,
    "pycharm": {
     "name": "#%%\n"
    }
   }
  },
  {
   "cell_type": "code",
   "execution_count": 105,
   "outputs": [
    {
     "name": "stdout",
     "output_type": "stream",
     "text": [
      "1\n",
      "2\n",
      "3\n",
      "4\n",
      "5\n",
      "6\n"
     ]
    }
   ],
   "source": [
    "## Third created file  -> writelines1.txt\n",
    "file_read3 = open(\"file_writelines1.txt\",\"r\")\n",
    "print(file_read3.read())\n",
    "file_read3.close()"
   ],
   "metadata": {
    "collapsed": false,
    "pycharm": {
     "name": "#%%\n"
    }
   }
  },
  {
   "cell_type": "code",
   "execution_count": 117,
   "outputs": [
    {
     "name": "stdout",
     "output_type": "stream",
     "text": [
      "['Hey hi \\n', 'Entha chadhivina mind loki ekkani vallake idhi \\n', 'so ippudaina concentrate\\n', 'Chadhuvu kondi firstu..']\n"
     ]
    }
   ],
   "source": [
    "## ReadLine Method\n",
    "# This method reads one complete line from a file where each line terminates with a newline (\\n) character\n",
    "# let's see the example\n",
    "file_readline1 = open(\"file_writelines.txt\",'r')\n",
    "print(file_readline1.readlines())  # when we read a file using read lines() function, lines in the file become members of a list\n",
    "file_readline1.close()               #  where each list element ends with a newline character (‘\\n’)."
   ],
   "metadata": {
    "collapsed": false,
    "pycharm": {
     "name": "#%%\n"
    }
   }
  },
  {
   "cell_type": "code",
   "execution_count": 120,
   "outputs": [
    {
     "name": "stdout",
     "output_type": "stream",
     "text": [
      "['Hey', 'hi']\n",
      "['Entha', 'chadhivina', 'mind', 'loki', 'ekkani', 'vallake', 'idhi']\n",
      "['so', 'ippudaina', 'concentrate']\n",
      "['Chadhuvu', 'kondi', 'firstu..']\n"
     ]
    }
   ],
   "source": [
    "# In case we want to display each word of a line separately as an element of a list\n",
    "# then we can use split() function. The following code demonstrates the use of split() function.\n",
    "file_readline2 = open(\"file_writelines.txt\",'r')\n",
    "for i in file_readline2:\n",
    "    print(i.split())\n",
    "file_readline2.close()"
   ],
   "metadata": {
    "collapsed": false,
    "pycharm": {
     "name": "#%%\n"
    }
   }
  },
  {
   "cell_type": "code",
   "execution_count": 127,
   "outputs": [
    {
     "name": "stdout",
     "output_type": "stream",
     "text": [
      "['Hey hi ']\n",
      "['Entha chadhivina mind loki ekkani vallake idhi ']\n",
      "['so ippudaina concentrate']\n",
      "['Chadhuvu kondi firstu..']\n"
     ]
    }
   ],
   "source": [
    "## splitlines()   -> display each line as list\n",
    "file_readline2 = open(\"file_writelines.txt\",'r')\n",
    "for i in file_readline2:\n",
    "    print(i.splitlines())\n",
    "file_readline2.close()"
   ],
   "metadata": {
    "collapsed": false,
    "pycharm": {
     "name": "#%%\n"
    }
   }
  },
  {
   "cell_type": "code",
   "execution_count": 126,
   "outputs": [
    {
     "name": "stdout",
     "output_type": "stream",
     "text": [
      "['H', 'e', 'y'] ['h', 'i'] ['E', 'n', 't', 'h', 'a'] ['c', 'h', 'a', 'd', 'h', 'i', 'v', 'i', 'n', 'a'] ['m', 'i', 'n', 'd'] ['l', 'o', 'k', 'i'] ['e', 'k', 'k', 'a', 'n', 'i'] ['v', 'a', 'l', 'l', 'a', 'k', 'e'] ['i', 'd', 'h', 'i'] ['s', 'o'] ['i', 'p', 'p', 'u', 'd', 'a', 'i', 'n', 'a'] ['c', 'o', 'n', 'c', 'e', 'n', 't', 'r', 'a', 't', 'e'] ['C', 'h', 'a', 'd', 'h', 'u', 'v', 'u'] ['k', 'o', 'n', 'd', 'i'] ['f', 'i', 'r', 's', 't', 'u', '.', '.'] "
     ]
    }
   ],
   "source": [
    "# In case we want to display each character of a line separately as an element of a list\n",
    "# then use another for loop and one list function\n",
    "file_readline2 = open(\"file_writelines.txt\", 'r')\n",
    "for i in file_readline2:\n",
    "        for j in i.split():             ## This help's us to find the number of characters,word,lines\n",
    "            print(list(j),end = ' ')\n",
    "file_readline2.close()"
   ],
   "metadata": {
    "collapsed": false,
    "pycharm": {
     "name": "#%%\n"
    }
   }
  },
  {
   "cell_type": "code",
   "execution_count": 131,
   "outputs": [
    {
     "name": "stdout",
     "output_type": "stream",
     "text": [
      "Matti burrallara ippudaina ardhamavuthundha \n"
     ]
    }
   ],
   "source": [
    "## Writing and reading the files\n",
    "file_read_write_w = open(\"file_read_write.txt\",\"w\")\n",
    "file_read_write_w.write(\"Matti burrallara ippudaina ardhamavuthundha \")\n",
    "file_read_write_w.close()\n",
    "file_read_write_r = open(\"file_read_write.txt\",\"r\")\n",
    "print(file_read_write_r.read())\n",
    "file_read_write_r.close()"
   ],
   "metadata": {
    "collapsed": false,
    "pycharm": {
     "name": "#%%\n"
    }
   }
  },
  {
   "cell_type": "code",
   "execution_count": 150,
   "outputs": [],
   "source": [
    "## Append the data to existing file\n",
    "file_append = open(\"file_writelines.txt\",'a')\n",
    "file_append.write(\"\\nbottle ni paina kindha oppu enthaina maa balayya baabu thopu..\")\n",
    "file_append.close()"
   ],
   "metadata": {
    "collapsed": false,
    "pycharm": {
     "name": "#%%\n"
    }
   }
  },
  {
   "cell_type": "code",
   "execution_count": 152,
   "outputs": [
    {
     "name": "stdout",
     "output_type": "stream",
     "text": [
      "Hey hi \n",
      "Entha chadhivina mind loki ekkani vallake idhi \n",
      "so ippudaina concentrate\n",
      "Chadhuvu kondi firstu..\n",
      "bottle ni paina kindha oppu enthaina maa balayya baabu thopu..\n"
     ]
    }
   ],
   "source": [
    "print(open(\"file_writelines.txt\").read())"
   ],
   "metadata": {
    "collapsed": false,
    "pycharm": {
     "name": "#%%\n"
    }
   }
  },
  {
   "cell_type": "code",
   "execution_count": 132,
   "outputs": [],
   "source": [
    "# SETTING OFFSETS IN A FILE\n",
    "# The functions that we have learnt till now are used to access the data sequentially from a file.\n",
    "# But if we want to access data in a random fashion, then Python gives us seek() and tell() functions to do so."
   ],
   "metadata": {
    "collapsed": false,
    "pycharm": {
     "name": "#%%\n"
    }
   }
  },
  {
   "cell_type": "code",
   "execution_count": 133,
   "outputs": [],
   "source": [
    "# tell()  -> This function returns an integer that specifies the current position of the file object in the file.\n",
    "#  The syntax of using tell() ->  file_object.tell()\n",
    "# seek()  -> This method is used to position the file object at a particular position in a file.\n",
    "#  The syntax of using seek() -> file_object.seek(offset [, reference_point])"
   ],
   "metadata": {
    "collapsed": false,
    "pycharm": {
     "name": "#%%\n"
    }
   }
  },
  {
   "cell_type": "code",
   "execution_count": 134,
   "outputs": [],
   "source": [
    "# In the above syntax, offset is the number of bytes by which the file object is to be moved.\n",
    "# reference_point indicates the starting position of the file object.\n",
    "# That is, with reference to which position, the offset has to be counted.\n",
    "# It can have any of the following values:\n",
    "# 0   -     beginning of the file\n",
    "# 1   -     current position of the file\n",
    "# 2   -     end of file By default\n",
    "# the value of reference_point is 0, i.e. the offset is counted from the beginning of the file"
   ],
   "metadata": {
    "collapsed": false,
    "pycharm": {
     "name": "#%%\n"
    }
   }
  },
  {
   "cell_type": "code",
   "execution_count": 140,
   "outputs": [
    {
     "name": "stdout",
     "output_type": "stream",
     "text": [
      "Cursor at -->  0\n",
      "Contents are \n",
      " Hey hi \n",
      "Entha chadhivina mind loki ekkani vallake idhi \n",
      "so ippudaina concentrate\n",
      "Chadhuvu kondi firstu..\n"
     ]
    }
   ],
   "source": [
    "## Let's see examples\n",
    "file_tell = open(\"file_writelines.txt\",'r+')\n",
    "print(\"Cursor at --> \",file_tell.tell())   #--> below output says that cursor is at starting position\n",
    "print(\"Contents are \\n\",file_tell.read())\n",
    "file_tell.close()"
   ],
   "metadata": {
    "collapsed": false,
    "pycharm": {
     "name": "#%%\n"
    }
   }
  },
  {
   "cell_type": "code",
   "execution_count": 146,
   "outputs": [
    {
     "name": "stdout",
     "output_type": "stream",
     "text": [
      "Moved Cursor Successfully..\n",
      "Now Cursor is at -->  60\n",
      "As cursor is at 60  contents start from there itself..\n",
      "Contents are \n",
      "\n",
      "   ippudaina concentrate\n",
      "Chadhuvu kondi firstu..\n"
     ]
    }
   ],
   "source": [
    "# with the help of seek I can move the cursor to wherever the position i want to move\n",
    "file_seek=open(\"file_writelines.txt\",'r+')\n",
    "file_seek.seek(60)      # I want to move cursor to 10th position\n",
    "print(\"Moved Cursor Successfully..\")\n",
    "print(\"Now Cursor is at --> \",file_seek.tell())\n",
    "print(f\"As cursor is at {file_seek.tell()}  contents start from there itself..\")\n",
    "print(\"Contents are \\n\\n \",file_seek.read())\n",
    "file_seek.close()"
   ],
   "metadata": {
    "collapsed": false,
    "pycharm": {
     "name": "#%%\n"
    }
   }
  },
  {
   "cell_type": "markdown",
   "source": [
    "## So far this knowlegde is enough if you are still interested\n",
    "## velli google lo vetthukko po           -< eeeee"
   ],
   "metadata": {
    "collapsed": false,
    "pycharm": {
     "name": "#%% md\n"
    }
   }
  },
  {
   "cell_type": "markdown",
   "source": [
    "## Just kidding ......\n"
   ],
   "metadata": {
    "collapsed": false,
    "pycharm": {
     "name": "#%% md\n"
    }
   }
  },
  {
   "cell_type": "code",
   "execution_count": null,
   "outputs": [],
   "source": [],
   "metadata": {
    "collapsed": false,
    "pycharm": {
     "name": "#%%\n"
    }
   }
  }
 ],
 "metadata": {
  "kernelspec": {
   "display_name": "Python 3",
   "language": "python",
   "name": "python3"
  },
  "language_info": {
   "codemirror_mode": {
    "name": "ipython",
    "version": 2
   },
   "file_extension": ".py",
   "mimetype": "text/x-python",
   "name": "python",
   "nbconvert_exporter": "python",
   "pygments_lexer": "ipython2",
   "version": "2.7.6"
  }
 },
 "nbformat": 4,
 "nbformat_minor": 0
}