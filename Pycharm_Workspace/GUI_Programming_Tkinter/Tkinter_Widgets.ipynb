{
 "cells": [
  {
   "cell_type": "code",
   "execution_count": 1,
   "outputs": [],
   "source": [
    "# Tkinter\n",
    "\n",
    "# It is standard python interface to Tk GUI toolkit\n",
    "# It is most commonly used method for Graphical Programming\n",
    "# Tkinter is GUI Application  (Graphical User Interface)\n",
    "# It is fastest and easiest way to create gui applications"
   ],
   "metadata": {
    "collapsed": false,
    "pycharm": {
     "name": "#%%\n"
    }
   }
  },
  {
   "cell_type": "code",
   "execution_count": 3,
   "outputs": [],
   "source": [
    "# I. Before creating application we need to import tkinter library\n",
    "from tkinter import *"
   ],
   "metadata": {
    "collapsed": false,
    "pycharm": {
     "name": "#%%\n"
    }
   }
  },
  {
   "cell_type": "code",
   "execution_count": 3,
   "outputs": [],
   "source": [
    "# II. For creating application we need to create a main window after importing library\n",
    "\n",
    "# The foundational element of a Tkinter GUI is the window. Windows are the containers in which all other GUI elements live\n",
    "\n",
    "# So we need to remember two methods while creating any python application with GUI\n",
    "# 1. Tk()    -->  Creates a main window\n",
    "# 2. mainloop()   --> It is an infinite loop for running application and also waits for an event to occur and process the event as long as window is closed"
   ],
   "metadata": {
    "collapsed": false,
    "pycharm": {
     "name": "#%%\n"
    }
   }
  },
  {
   "cell_type": "code",
   "execution_count": 4,
   "outputs": [],
   "source": [
    "# To create a main window tkinter offers a method Tk()\n",
    "main_window = Tk()"
   ],
   "metadata": {
    "collapsed": false,
    "pycharm": {
     "name": "#%%\n"
    }
   }
  },
  {
   "cell_type": "code",
   "execution_count": 5,
   "outputs": [],
   "source": [
    "main_window.mainloop()    # After running this you will be popped with an empty window and runs infinitely until we close the window"
   ],
   "metadata": {
    "collapsed": false,
    "pycharm": {
     "name": "#%%\n"
    }
   }
  },
  {
   "cell_type": "code",
   "execution_count": 9,
   "outputs": [],
   "source": [
    "# III. Now we can add widgets to the main window\n",
    "# Before Implementing widgets we need to know about layout management\n",
    "# so for organizing widgets we use specialized non_visible objects called layout managers\n",
    "\n",
    "# Tkinter has 3 built in layout managers\n",
    "\n",
    "# 1. pack  -> It is a geometry manager organizes widgets in horizontal and vertical boxes\n",
    "\n",
    "# 2. grid  -> It is a geometry manager which places the widgets in two dimensional grid\n",
    "\n",
    "# 3. place -> It is a geometry manager positions widgets using absolute positioning"
   ],
   "metadata": {
    "collapsed": false,
    "pycharm": {
     "name": "#%%\n"
    }
   }
  },
  {
   "cell_type": "code",
   "execution_count": 10,
   "outputs": [],
   "source": [
    "# Widgets\n",
    "# To interact with Operating system and illustrate or display an information then there is an element called widget\n",
    "# Each widget is a python object\n",
    "# When creating a widget, you must pass its parent as a parameter to the widget creation function.\n",
    "# parent is main_window that I have created"
   ],
   "metadata": {
    "collapsed": false,
    "pycharm": {
     "name": "#%%\n"
    }
   }
  },
  {
   "cell_type": "code",
   "execution_count": 6,
   "outputs": [],
   "source": [
    "# 1.Buttons\n",
    "main_window = Tk()\n",
    "main_window.title(\"Button Widgets\")\n",
    "main_window.geometry('400x200')\n",
    "# Button(main_window,text=\"Click Me\").pack(padx=100,pady=100)  # alternative for main_window.geometry  is padx -> horizontal width  and pady -> Vertical Width\n",
    "Button(main_window,text=\"Click Me\").pack()\n",
    "main_window.mainloop()"
   ],
   "metadata": {
    "collapsed": false,
    "pycharm": {
     "name": "#%%\n"
    }
   }
  },
  {
   "cell_type": "code",
   "execution_count": 12,
   "outputs": [],
   "source": [
    "# adding color to button"
   ],
   "metadata": {
    "collapsed": false,
    "pycharm": {
     "name": "#%%\n"
    }
   }
  },
  {
   "cell_type": "code",
   "execution_count": 7,
   "outputs": [],
   "source": [
    "main_window = Tk()\n",
    "Button(main_window,text=\"Click Me\",activebackground=\"blue\",activeforeground=\"black\",bg=\"red\").pack()\n",
    "main_window.mainloop()"
   ],
   "metadata": {
    "collapsed": false,
    "pycharm": {
     "name": "#%%\n"
    }
   }
  },
  {
   "cell_type": "code",
   "execution_count": 8,
   "outputs": [],
   "source": [
    "## adding width height font\n",
    "main_window = Tk()\n",
    "Button(main_window, text=\"Click Me\",width=10,height=1,font=\"TimesRoman\",bg=\"blue\").pack()\n",
    "main_window.mainloop()"
   ],
   "metadata": {
    "collapsed": false,
    "pycharm": {
     "name": "#%%\n"
    }
   }
  },
  {
   "cell_type": "code",
   "execution_count": 34,
   "outputs": [],
   "source": [
    "main_window = Tk()\n",
    "Button(main_window, text=\"Click Me\",font=\"TimesRoman\",bg=\"blue\",padx=50,pady=10).pack()\n",
    "main_window.mainloop()"
   ],
   "metadata": {
    "collapsed": false,
    "pycharm": {
     "name": "#%%\n"
    }
   }
  },
  {
   "cell_type": "code",
   "execution_count": null,
   "outputs": [],
   "source": [
    "# 2.Label\n",
    "# It is used to display text or image on the screen"
   ],
   "metadata": {
    "collapsed": false,
    "pycharm": {
     "name": "#%%\n"
    }
   }
  },
  {
   "cell_type": "code",
   "execution_count": 9,
   "outputs": [],
   "source": [
    "main_window = Tk()\n",
    "Label(main_window,text=\"Welcome to Tkinter Graphical User Interface Programming !!!...\").pack()\n",
    "main_window.mainloop()"
   ],
   "metadata": {
    "collapsed": false,
    "pycharm": {
     "name": "#%%\n"
    }
   }
  },
  {
   "cell_type": "code",
   "execution_count": 10,
   "outputs": [],
   "source": [
    "main_window = Tk()\n",
    "Label(main_window,text=\"Welcome to Tkinter Graphical User Interface Programming !!!...\",font=25).pack(padx=100,pady=100)\n",
    "main_window.mainloop()"
   ],
   "metadata": {
    "collapsed": false,
    "pycharm": {
     "name": "#%%\n"
    }
   }
  },
  {
   "cell_type": "code",
   "execution_count": 11,
   "outputs": [],
   "source": [
    "# How to display image on window\n",
    "# Import Pillow Package\n",
    "from PIL import Image,ImageTk"
   ],
   "metadata": {
    "collapsed": false,
    "pycharm": {
     "name": "#%%\n"
    }
   }
  },
  {
   "cell_type": "code",
   "execution_count": 12,
   "outputs": [],
   "source": [
    "main_window = Tk()\n",
    "img = Image.open('Aakash_New_PassportPhoto.jpg')  # --> Specify the path where you image exists\n",
    "                                                  # Note : Do not define img1 before declaring main_window\n",
    "img1 = ImageTk.PhotoImage(img)\n",
    "main_window.title('Image Display')\n",
    "main_window.geometry(\"1200x600\")\n",
    "Label(main_window,image=img1).pack()\n",
    "main_window.mainloop()"
   ],
   "metadata": {
    "collapsed": false,
    "pycharm": {
     "name": "#%%\n"
    }
   }
  },
  {
   "cell_type": "code",
   "execution_count": 15,
   "outputs": [],
   "source": [
    "# As button does not give you anything after clicking but what if we want to click that button and make it responsive\n",
    "# there is an argument for button called command\n",
    "\n",
    "def after_click():\n",
    "    Label(main_window,text=\"   Welcome to Tkinter Graphical User Interface Programming !!!...\",font=50).pack()\n",
    "\n",
    "main_window = Tk()\n",
    "main_window.geometry(\"800x100\")\n",
    "# Note :  Make sure to write function name like after_click not with parentheses after_click()\n",
    "# The above difference tells that if you specify after_click() then without clicking the button result will be appeared\n",
    "# As we want to display the result only when we click the button not before clicking , we need to pass command as after_click\n",
    "Button(main_window, text=\"Click Me\", font=\"TimesRoman\", bg=\"blue\",command=after_click).pack()\n",
    "main_window.mainloop()"
   ],
   "metadata": {
    "collapsed": false,
    "pycharm": {
     "name": "#%%\n"
    }
   }
  },
  {
   "cell_type": "code",
   "execution_count": 16,
   "outputs": [],
   "source": [
    "# 3. Canvas  -> It is used to draw pictures and others layouts like texts, graphics etc.\n",
    "main_window = Tk()\n",
    "main_window.title(\"Canvas\")\n",
    "main_window.geometry(\"800x300\")\n",
    "Cn = Canvas(main_window)\n",
    "Cn.create_rectangle(140,140,250,250)\n",
    "Cn.create_text(200,100,text=\" Created Rectangle Using Canvas\",fill='black')\n",
    "Cn.pack()\n",
    "main_window.mainloop()"
   ],
   "metadata": {
    "collapsed": false,
    "pycharm": {
     "name": "#%%\n"
    }
   }
  },
  {
   "cell_type": "code",
   "execution_count": 142,
   "outputs": [],
   "source": [
    "# 4. CheckButton  -> It displays a number of options to the user as toggle buttons from which user can select any number of options.\n",
    "\n",
    "main_window = Tk()\n",
    "main_window.title(\"Check Button\")\n",
    "main_window.geometry(\"800x300\")\n",
    "al =[\"A\",\"B\",\"C\",\"D\"]\n",
    "lst = [\"Nitrogen\",\"Oxygen\",\"Carbondioxide\",\"Magnesium\"]\n",
    "Label(main_window,text=\"1. What is the key Element in Plant Growth\").grid(row=0,column=0,columnspan=10,sticky=E)\n",
    "for i in range(len(al)):\n",
    "    cb = Checkbutton(main_window,text=al[i])\n",
    "    cb.grid(row=i+1,column=4)\n",
    "    Label(main_window,text=lst[i]).grid(row=i+1,column=5)\n",
    "main_window.mainloop()"
   ],
   "metadata": {
    "collapsed": false,
    "pycharm": {
     "name": "#%%\n"
    }
   }
  },
  {
   "cell_type": "code",
   "execution_count": 182,
   "outputs": [],
   "source": [
    "# 5. Entry  -> To display a single-line text field that accepts values from the user Entry widget will be used.\n",
    "main_window = Tk()\n",
    "main_window.title(\"Entry\")\n",
    "main_window.geometry(\"800x300\")\n",
    "e = Entry(main_window,width=30)\n",
    "# e.insert(0,\"Enter Value : \")\n",
    "e.grid(row=2,column=4,columnspan=10)\n",
    "lb = Label(main_window,text=\"Enter Value : \")\n",
    "lb.grid(row = 2,column=2)\n",
    "\n",
    "def my_click():\n",
    "    Label(main_window,text=f'You Entered is {e.get()}').grid(row = 5,column=5)\n",
    "Button(main_window,text=\"Click Me\",command=my_click).grid(row = 3,column=5)\n",
    "main_window.mainloop()"
   ],
   "metadata": {
    "collapsed": false,
    "pycharm": {
     "name": "#%%\n"
    }
   }
  },
  {
   "cell_type": "code",
   "execution_count": 65,
   "outputs": [],
   "source": [
    "## Let's Create a simple calculator using above widgets"
   ],
   "metadata": {
    "collapsed": false,
    "pycharm": {
     "name": "#%%\n"
    }
   }
  },
  {
   "cell_type": "code",
   "execution_count": 192,
   "outputs": [],
   "source": [
    "main_window = Tk()\n",
    "main_window.title(\"STANDARD CALCULATOR\")\n",
    "main_window.geometry('330x380')\n",
    "def button_click(number):\n",
    "    current = e.get()\n",
    "    e.delete(0,END)\n",
    "    e.insert(0,str(current)+str(number))\n",
    "ns,numbers,col,row =  [0,'.','%','/',1,2,3,'*',4,5,6,'-',7,8,9,'+'],[i for i in range(10)],[0,1,2,3]*4,[6]*4+[5]*4+[4]*4+[3]*4\n",
    "e = Entry(main_window,width=35,borderwidth=3,font=25)\n",
    "e.grid(row=0,column=0,columnspan=4)\n",
    "Button(main_window,text=\"Clear\",padx=50,pady=20,font=15).grid(row=7,column=0,columnspan=2)\n",
    "# Button(main_window,text=\"=\",padx=70,pady=20,font=15).grid(row=7,column=2,columnspan=2)\n",
    "Button(main_window,text=\"=\",padx=70,pady=20,font=15).place(x=160,y=308)\n",
    "# [str(type(ns[i]))][0][6:][1:][1:4] =='int'\n",
    "for i in range(len(ns)):\n",
    "    if ns[i] in numbers:\n",
    "        bt = Button(main_window,text=ns[i],padx=30,pady=20,font=15,command=lambda : button_click(ns[i]))\n",
    "        bt.grid(row=row[i],column=col[i])\n",
    "    else:\n",
    "        bt = Button(main_window,text=ns[i],padx=30,pady=20,font=15,command=lambda : button_click)\n",
    "        bt.grid(row=row[i],column=col[i])\n",
    "main_window.mainloop()"
   ],
   "metadata": {
    "collapsed": false,
    "pycharm": {
     "name": "#%%\n"
    }
   }
  },
  {
   "cell_type": "code",
   "execution_count": 304,
   "outputs": [
    {
     "data": {
      "text/plain": "{'bt0': [],\n 'bt1': [],\n 'bt2': [],\n 'bt3': [],\n 'bt4': [],\n 'bt5': [],\n 'bt6': [],\n 'bt7': [],\n 'bt8': [],\n 'bt9': []}"
     },
     "execution_count": 304,
     "metadata": {},
     "output_type": "execute_result"
    }
   ],
   "source": [
    "\n",
    "{f'bt{i}':[] for i in numbers}"
   ],
   "metadata": {
    "collapsed": false,
    "pycharm": {
     "name": "#%%\n"
    }
   }
  },
  {
   "cell_type": "code",
   "execution_count": 312,
   "outputs": [
    {
     "data": {
      "text/plain": "0"
     },
     "execution_count": 312,
     "metadata": {},
     "output_type": "execute_result"
    }
   ],
   "source": [
    "eval('4%2')"
   ],
   "metadata": {
    "collapsed": false,
    "pycharm": {
     "name": "#%%\n"
    }
   }
  },
  {
   "cell_type": "code",
   "execution_count": 289,
   "outputs": [],
   "source": [
    "main_window = Tk()\n",
    "main_window.title(\"Factorial Calculator\")\n",
    "main_window.geometry('1000x200')\n",
    "def fact(n):\n",
    "    if n<=1:\n",
    "        return 1\n",
    "    else:\n",
    "        return n*fact(n-1)\n",
    "\n",
    "def show_output():\n",
    "    inpt = input_txt.get(\"1.0\",\"end-1c\")\n",
    "    if inpt.isnumeric():\n",
    "        output_txt.delete('1.0',END)\n",
    "        output_txt.insert(END,fact(int(inpt)))\n",
    "    else:\n",
    "        output_txt.delete('1.0',END)\n",
    "        output_txt.insert(END,'invalid literal for int() with base 10...  Enter Only Integers...')\n",
    "Label(main_window,text=\"Enter Number \",font=20).pack()\n",
    "input_txt = Text(main_window,height=3,width=100)\n",
    "bt = Button(main_window,text=\"Compute\",font=20,command=show_output)\n",
    "output_txt = Text(main_window,height=3,width=100)\n",
    "input_txt.pack()\n",
    "bt.pack(pady=10)\n",
    "output_txt.pack()\n",
    "main_window.mainloop()"
   ],
   "metadata": {
    "collapsed": false,
    "pycharm": {
     "name": "#%%\n"
    }
   }
  },
  {
   "cell_type": "code",
   "execution_count": 240,
   "outputs": [
    {
     "data": {
      "text/plain": "30414093201713378043612608166064768844377641568960512000000000000"
     },
     "execution_count": 240,
     "metadata": {},
     "output_type": "execute_result"
    }
   ],
   "source": [
    "fact(50)"
   ],
   "metadata": {
    "collapsed": false,
    "pycharm": {
     "name": "#%%\n"
    }
   }
  },
  {
   "cell_type": "code",
   "execution_count": 296,
   "outputs": [
    {
     "data": {
      "text/plain": "True"
     },
     "execution_count": 296,
     "metadata": {},
     "output_type": "execute_result"
    }
   ],
   "source": [
    "isinstance(125887569500000000.225852,float)"
   ],
   "metadata": {
    "collapsed": false,
    "pycharm": {
     "name": "#%%\n"
    }
   }
  },
  {
   "cell_type": "code",
   "execution_count": 297,
   "outputs": [
    {
     "data": {
      "text/plain": "1"
     },
     "execution_count": 297,
     "metadata": {},
     "output_type": "execute_result"
    }
   ],
   "source": [
    "eval('-2 + 3')"
   ],
   "metadata": {
    "collapsed": false,
    "pycharm": {
     "name": "#%%\n"
    }
   }
  },
  {
   "cell_type": "code",
   "execution_count": 299,
   "outputs": [
    {
     "data": {
      "text/plain": "True"
     },
     "execution_count": 299,
     "metadata": {},
     "output_type": "execute_result"
    }
   ],
   "source": [
    "x = '2'\n",
    "x.isdigit()"
   ],
   "metadata": {
    "collapsed": false,
    "pycharm": {
     "name": "#%%\n"
    }
   }
  },
  {
   "cell_type": "code",
   "execution_count": null,
   "outputs": [],
   "source": [],
   "metadata": {
    "collapsed": false,
    "pycharm": {
     "name": "#%%\n"
    }
   }
  }
 ],
 "metadata": {
  "kernelspec": {
   "display_name": "Python 3",
   "language": "python",
   "name": "python3"
  },
  "language_info": {
   "codemirror_mode": {
    "name": "ipython",
    "version": 2
   },
   "file_extension": ".py",
   "mimetype": "text/x-python",
   "name": "python",
   "nbconvert_exporter": "python",
   "pygments_lexer": "ipython2",
   "version": "2.7.6"
  }
 },
 "nbformat": 4,
 "nbformat_minor": 0
}