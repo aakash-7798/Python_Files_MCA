{
 "cells": [
  {
   "cell_type": "code",
   "execution_count": 231,
   "outputs": [],
   "source": [
    "class Employee:\n",
    "    def __init__(self,employee_name,designation,salary,over_timecontribution,overtime_status):\n",
    "        self.ename = employee_name\n",
    "        self.dsg = designation\n",
    "        self.slry = salary\n",
    "        self.otctr = over_timecontribution\n",
    "        self.otst = overtime_status\n",
    "\n",
    "\n",
    "\n",
    "class Organization(Employee):\n",
    "    ttl_bns = 0\n",
    "    def __init__(self,*args,**kwargs):\n",
    "        super(Organization,self).__init__(*args,**kwargs)\n",
    "        self.employee_list =[self.ename,self.dsg,self.slry,self.otctr,self.otst]\n",
    "\n",
    "\n",
    "    def sum_hours(self):\n",
    "        summ=0\n",
    "        for i in self.otctr.keys():\n",
    "            summ+=self.otctr[i]\n",
    "        return summ\n",
    "\n",
    "    def eligible_overtime_bonus(self,overtime_threshold):\n",
    "        summ = self.sum_hours()\n",
    "        if summ>overtime_threshold:\n",
    "            self.otst = True\n",
    "        else:\n",
    "            self.otst = False\n",
    "        return self.otst\n",
    "\n",
    "    def total_bonus(self,num):\n",
    "        if self.otst is True:\n",
    "            self.ttl_bns += (num*self.sum_hours())\n",
    "            return self.ttl_bns\n",
    "        else:\n",
    "            return self.ttl_bns"
   ],
   "metadata": {
    "collapsed": false,
    "pycharm": {
     "name": "#%%\n"
    }
   }
  },
  {
   "cell_type": "code",
   "execution_count": 232,
   "outputs": [],
   "source": [
    "\n",
    "with open(\"tcs_xplore_sampleinput.txt\",'r') as f1:\n",
    "    employee_list = []\n",
    "    tt = int(f1.readline())\n",
    "    for i in range(tt):\n",
    "        name = f1.readline().strip('\\n')\n",
    "        dsg  = f1.readline().strip('\\n')\n",
    "        slry = int(f1.readline())\n",
    "        tc = int(f1.readline())\n",
    "        dt = []\n",
    "        dt1 = {}\n",
    "        for j in range(tc*2):\n",
    "            dt.append(f1.readline().strip('\\n'))\n",
    "        for k in range(0,len(dt),2):\n",
    "            dt1[dt[k]] = int(dt[k+1])\n",
    "        employee_list.append([name,dsg,slry,dt1,False])\n",
    "    overtime_threshold = int(f1.readline())\n",
    "    rate_per_hour = int(f1.readline())\n"
   ],
   "metadata": {
    "collapsed": false,
    "pycharm": {
     "name": "#%%\n"
    }
   }
  },
  {
   "cell_type": "code",
   "execution_count": 233,
   "outputs": [
    {
     "data": {
      "text/plain": "18"
     },
     "execution_count": 233,
     "metadata": {},
     "output_type": "execute_result"
    }
   ],
   "source": [
    "overtime_threshold"
   ],
   "metadata": {
    "collapsed": false,
    "pycharm": {
     "name": "#%%\n"
    }
   }
  },
  {
   "cell_type": "code",
   "execution_count": 234,
   "outputs": [],
   "source": [
    "# org = Organization(employee_list[0])\n",
    "# emp = Employee(employee_list[0][0],employee_list[0][1],employee_list[0][2],employee_list[0][3],employee_list[0][4])"
   ],
   "metadata": {
    "collapsed": false,
    "pycharm": {
     "name": "#%%\n"
    }
   }
  },
  {
   "cell_type": "code",
   "execution_count": 235,
   "outputs": [],
   "source": [
    "# org = Organization(emp.ename,emp.dsg,emp.slry,emp.otctr,emp.otst)\n",
    "org  = Organization(employee_list[0][0],employee_list[0][1],employee_list[0][2],employee_list[0][3],employee_list[0][4])"
   ],
   "metadata": {
    "collapsed": false,
    "pycharm": {
     "name": "#%%\n"
    }
   }
  },
  {
   "cell_type": "code",
   "execution_count": 236,
   "outputs": [
    {
     "data": {
      "text/plain": "['Sunita', 'Faculty', 23000, {'jan': 4, 'March': 6}, False]"
     },
     "execution_count": 236,
     "metadata": {},
     "output_type": "execute_result"
    }
   ],
   "source": [
    "org.employee_list"
   ],
   "metadata": {
    "collapsed": false,
    "pycharm": {
     "name": "#%%\n"
    }
   }
  },
  {
   "cell_type": "code",
   "execution_count": 237,
   "outputs": [
    {
     "data": {
      "text/plain": "10"
     },
     "execution_count": 237,
     "metadata": {},
     "output_type": "execute_result"
    }
   ],
   "source": [
    "org.sum_hours()"
   ],
   "metadata": {
    "collapsed": false,
    "pycharm": {
     "name": "#%%\n"
    }
   }
  },
  {
   "cell_type": "code",
   "execution_count": 238,
   "outputs": [
    {
     "data": {
      "text/plain": "False"
     },
     "execution_count": 238,
     "metadata": {},
     "output_type": "execute_result"
    }
   ],
   "source": [
    "org.eligible_overtime_bonus(overtime_threshold)"
   ],
   "metadata": {
    "collapsed": false,
    "pycharm": {
     "name": "#%%\n"
    }
   }
  },
  {
   "cell_type": "code",
   "execution_count": 239,
   "outputs": [
    {
     "name": "stdout",
     "output_type": "stream",
     "text": [
      "0\n"
     ]
    }
   ],
   "source": [
    "print(org.ttl_bns)"
   ],
   "metadata": {
    "collapsed": false,
    "pycharm": {
     "name": "#%%\n"
    }
   }
  },
  {
   "cell_type": "code",
   "execution_count": 244,
   "outputs": [
    {
     "name": "stdout",
     "output_type": "stream",
     "text": [
      "Sunita   False\n",
      "Arun   True\n",
      "Dipak   True\n",
      "Balen   True\n",
      "Tarun   True\n",
      "8600\n"
     ]
    }
   ],
   "source": [
    "totalbonus = 0\n",
    "for i in range(len(employee_list)):\n",
    "    org = Organization(employee_list[i][0],employee_list[i][1],employee_list[i][2],employee_list[i][3],employee_list[i][4])\n",
    "    org.eligible_overtime_bonus(overtime_threshold)\n",
    "    totalbonus+=org.total_bonus(rate_per_hour)\n",
    "    print(org.ename,\" \",org.otst)\n",
    "print(totalbonus)"
   ],
   "metadata": {
    "collapsed": false,
    "pycharm": {
     "name": "#%%\n"
    }
   }
  },
  {
   "cell_type": "code",
   "execution_count": null,
   "outputs": [],
   "source": [],
   "metadata": {
    "collapsed": false,
    "pycharm": {
     "name": "#%%\n"
    }
   }
  },
  {
   "cell_type": "code",
   "execution_count": 243,
   "outputs": [],
   "source": [
    "# for i in range(len(employee_list)):\n",
    "#     emp = Employee(employee_list[i][0],employee_list[i][1],employee_list[i][2],employee_list[i][3],employee_list[i][4])\n",
    "#     org = Organization(emp.ename,emp.dsg,emp.slry,emp.otctr,emp.otst)\n",
    "#     print(org.ename,\" \",org.otst)\n",
    "#     print(org.ttl_bns)"
   ],
   "metadata": {
    "collapsed": false,
    "pycharm": {
     "name": "#%%\n"
    }
   }
  },
  {
   "cell_type": "code",
   "execution_count": 19,
   "outputs": [
    {
     "data": {
      "text/plain": "[['Sunita', 'Faculty', 23000, {'jan': 4, 'March': 6}, False],\n ['Arun', 'Admin', 30000, {'Feb': 4, 'March': 12, 'June': 10}, False],\n ['Dipak', 'Admin', 25000, {'Jan': 12, 'July': 5, 'Aug': 3}, False],\n ['Balen', 'HR', 12000, {'Jan': 12, 'July': 5, 'Aug': 3}, False],\n ['Tarun', 'HR', 78000, {'Jan': 12, 'July': 5, 'Aug': 3}, False]]"
     },
     "execution_count": 19,
     "metadata": {},
     "output_type": "execute_result"
    }
   ],
   "source": [
    "employee_list"
   ],
   "metadata": {
    "collapsed": false,
    "pycharm": {
     "name": "#%%\n"
    }
   }
  },
  {
   "cell_type": "code",
   "execution_count": null,
   "outputs": [],
   "source": [
    "# employee_list = []\n",
    "# tt = f1.readline()\n",
    "# for i in range(tt):\n",
    "#     name = f1.readline()\n",
    "#     dsg  = f1.readline()\n",
    "#     slry = f1.readline()\n",
    "#     tc = f1.readline()\n",
    "#     dt = []\n",
    "#     dt1 = {}\n",
    "#     for j in range(tc*2):\n",
    "#         dt.append(f1.readline())\n",
    "#     for k in range(0,len(dt)//2,2):\n",
    "#         dt1[dt[k]] = dt[k+1]\n",
    "#     employee_list.append([name,dsg,slry,dt1,False])\n",
    "# threshold = f1.readline()\n",
    "# rate_per_hour = f1.readline()"
   ],
   "metadata": {
    "collapsed": false,
    "pycharm": {
     "name": "#%%\n"
    }
   }
  },
  {
   "cell_type": "code",
   "execution_count": null,
   "outputs": [],
   "source": [],
   "metadata": {
    "collapsed": false,
    "pycharm": {
     "name": "#%%\n"
    }
   }
  },
  {
   "cell_type": "code",
   "execution_count": 9,
   "outputs": [
    {
     "data": {
      "text/plain": "{'jan': 4, 'March': 6}"
     },
     "execution_count": 9,
     "metadata": {},
     "output_type": "execute_result"
    }
   ],
   "source": [
    "dt = [\"jan\",4,\"March\",6]\n",
    "dt1 = {}\n",
    "for i in range(0,len(dt),2):\n",
    "    dt1[dt[i]] = dt[i+1]\n",
    "dt1"
   ],
   "metadata": {
    "collapsed": false,
    "pycharm": {
     "name": "#%%\n"
    }
   }
  },
  {
   "cell_type": "code",
   "execution_count": 66,
   "outputs": [
    {
     "name": "stdout",
     "output_type": "stream",
     "text": [
      "\n",
      "Count of Valid Strings = 0\n",
      "Count of Invalid Strings = 1\n",
      "\n"
     ]
    }
   ],
   "source": [
    "import re\n",
    "n = int(input())\n",
    "\n",
    "count_valid = 0\n",
    "count_invalid = 0\n",
    "\n",
    "\n",
    "for i in range(n):\n",
    "    string = input()\n",
    "    regex_eqn = \"[^a-z ]\"\n",
    "    if(re.search(regex_eqn, string, re.IGNORECASE)) == None:\n",
    "        count_valid += 1\n",
    "    else:\n",
    "        count_invalid += 1\n",
    "\n",
    "print(f\"\"\"\n",
    "Count of Valid Strings = {count_valid}\n",
    "Count of Invalid Strings = {count_invalid}\n",
    "\"\"\")"
   ],
   "metadata": {
    "collapsed": false,
    "pycharm": {
     "name": "#%%\n"
    }
   }
  },
  {
   "cell_type": "code",
   "execution_count": null,
   "outputs": [],
   "source": [],
   "metadata": {
    "collapsed": false,
    "pycharm": {
     "name": "#%%\n"
    }
   }
  }
 ],
 "metadata": {
  "kernelspec": {
   "display_name": "Python 3",
   "language": "python",
   "name": "python3"
  },
  "language_info": {
   "codemirror_mode": {
    "name": "ipython",
    "version": 2
   },
   "file_extension": ".py",
   "mimetype": "text/x-python",
   "name": "python",
   "nbconvert_exporter": "python",
   "pygments_lexer": "ipython2",
   "version": "2.7.6"
  }
 },
 "nbformat": 4,
 "nbformat_minor": 0
}