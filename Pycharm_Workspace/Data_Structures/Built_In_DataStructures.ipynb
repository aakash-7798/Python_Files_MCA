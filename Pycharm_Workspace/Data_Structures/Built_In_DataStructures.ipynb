{
 "cells": [
  {
   "cell_type": "code",
   "execution_count": 19,
   "outputs": [
    {
     "name": "stdout",
     "output_type": "stream",
     "text": [
      "\n",
      "--------------------------------------------------------------LIST DATA STRUCTURE--------------------------------------------------------------\n",
      "\n"
     ]
    }
   ],
   "source": [
    "print(\n",
    "    \"\\n--------------------------------------------------------------LIST DATA STRUCTURE--------------------------------------------------------------\\n\")"
   ],
   "metadata": {
    "collapsed": false,
    "pycharm": {
     "name": "#%%\n"
    }
   }
  },
  {
   "cell_type": "code",
   "execution_count": 1,
   "outputs": [],
   "source": [
    "# Python has four basic inbuilt data structures namely Lists, Dictionary, Tuple and Set.\n",
    "# let's discuss above built in data structures with examples\n",
    "\n",
    "# 1.Lists.. > lists are collection of item's of all types , and they are just like dynamically sized array\n",
    "# and variable-length (size increases automatically as you add data)\n",
    "# Lists are mutable( means you can modify the data even after creation )\n",
    "# (Mutable objects can be modified, added, or deleted after they’ve been created)\n",
    "\n",
    "# Let's see how we implement list\n",
    "\n",
    "# list is created by specifying square brackets --> [] -  which is assigned to variable\n",
    "# let's see the implementation"
   ],
   "metadata": {
    "collapsed": false,
    "pycharm": {
     "name": "#%%\n"
    }
   }
  },
  {
   "cell_type": "code",
   "execution_count": 3,
   "outputs": [],
   "source": [
    "lst = []  # this is assignment"
   ],
   "metadata": {
    "collapsed": false,
    "pycharm": {
     "name": "#%%\n"
    }
   }
  },
  {
   "cell_type": "code",
   "execution_count": 4,
   "outputs": [],
   "source": [
    " # Now we see different ways to add an element into list\n",
    "#  Here element can be any data structure also (list,tuple,set,dictionary  etc..)\n",
    "\n",
    "# 1. Providing directly\n",
    "# 2. append function\n",
    "# 3. with  += operator\n",
    "# 4. list comprehension\n",
    "# 5. List and Integer Multiplication\n",
    "# 6. list function\n",
    "# 7. extend function\n",
    "# 8. insert function\n",
    "\n",
    "# let's see above methods implementation"
   ],
   "metadata": {
    "collapsed": false,
    "pycharm": {
     "name": "#%%\n"
    }
   }
  },
  {
   "cell_type": "code",
   "execution_count": 89,
   "outputs": [
    {
     "name": "stdout",
     "output_type": "stream",
     "text": [
      "List with Multiple data ->  [1, 2.0, 585555.7995421, 3, True, 'name', 'address']\n",
      "List with Numeric data ->  [1, 2, 3, 4, 5]\n",
      "List with Strings ->  ['aak', 'pak', 'carve', 'pak']\n",
      "List within Lists -> [[1, 2, 3], ['a', 'b', 'c'], [1, '21031F0000']]\n"
     ]
    }
   ],
   "source": [
    "# 1.Providing directly\n",
    "lst_mul = [1, 2.0,585555.7995421, 3,True,\"name\",\"address\"]  # Multiple data types\n",
    "print(\"List with Multiple data -> \", lst_mul)\n",
    "\n",
    "lst_num = [1, 2, 3, 4, 5]  # Numeric data\n",
    "print(\"List with Numeric data -> \", lst_num)\n",
    "\n",
    "lst_str = [\"aak\", \"pak\", \"carve\", 'pak']  # Strings\n",
    "print(\"List with Strings -> \", lst_str)\n",
    "\n",
    "# Nested List\n",
    "lst_lst = [[1, 2, 3], [\"a\", \"b\", \"c\"], [1, \"21031F0000\"]]  # lists within list\n",
    "print(\"List within Lists ->\", lst_lst)"
   ],
   "metadata": {
    "collapsed": false,
    "pycharm": {
     "name": "#%%\n"
    }
   }
  },
  {
   "cell_type": "code",
   "execution_count": 6,
   "outputs": [
    {
     "name": "stdout",
     "output_type": "stream",
     "text": [
      "Added elements using inbuilt function append ->  [1, 2, 3, 4, 5, 6, 7, 8, 9, 10]\n"
     ]
    }
   ],
   "source": [
    "# 2. append function\n",
    "# Suppose if we want huge data to be added then we cannot keep on writing into list by providing directly\n",
    "# so for adding data, so quickly we use append function with the help of looping  see following implementation\n",
    "lst_append = []\n",
    "for i in range(1, 11):  # you can also append already defined lists  , range() takes start,stop,step as arguments\n",
    "    lst_append.append(i)\n",
    "print(\"Added elements using inbuilt function append -> \", lst_append)"
   ],
   "metadata": {
    "collapsed": false,
    "pycharm": {
     "name": "#%%\n"
    }
   }
  },
  {
   "cell_type": "code",
   "execution_count": 7,
   "outputs": [
    {
     "name": "stdout",
     "output_type": "stream",
     "text": [
      "Added elements using += operator ->  [100, 101, 102, 103, 104, 105, 106, 107, 108, 109, 110]\n"
     ]
    }
   ],
   "source": [
    "# 3. plus equal (+=) operator\n",
    "lst_plus_equal_to = []\n",
    "for i in range(100, 111):\n",
    "    lst_plus_equal_to += [i]  # specifying square bracket is must as list always takes elements as list itself\n",
    "print(\"Added elements using += operator -> \", lst_plus_equal_to)"
   ],
   "metadata": {
    "collapsed": false,
    "pycharm": {
     "name": "#%%\n"
    }
   }
  },
  {
   "cell_type": "code",
   "execution_count": 8,
   "outputs": [
    {
     "name": "stdout",
     "output_type": "stream",
     "text": [
      "Added Elements using list comprehension ->  [50, 51, 52, 53, 54, 55, 56, 57, 58, 59, 60]\n"
     ]
    }
   ],
   "source": [
    "# 4. List Comprehension\n",
    "# As this actually performs with the help of above two 2,3\n",
    "# but with fewer codes of lines and for best time efficiency I am using this.\n",
    "# consider same above example\n",
    "\n",
    "lst_lst_cmph = [i for i in range(50, 61)]  # this requires fewer lines and better space efficiency\n",
    "print(\"Added Elements using list comprehension -> \", lst_lst_cmph)"
   ],
   "metadata": {
    "collapsed": false,
    "pycharm": {
     "name": "#%%\n"
    }
   }
  },
  {
   "cell_type": "code",
   "execution_count": 9,
   "outputs": [
    {
     "name": "stdout",
     "output_type": "stream",
     "text": [
      "Added Elements using Integer Multiplication ->  [1, 2, 1, 2, 1, 2, 1, 2, 1, 2]\n",
      "Added Elements using Integer Multiplication ->  [[1, 2, 1, 2, 1, 2], ['a', 'b', 'c', 'a', 'b', 'c'], ['21031F0000', 'abcd', '21031F0000', 'abcd']]\n"
     ]
    }
   ],
   "source": [
    "# 5. List and Integer Multiplication\n",
    "# for duplication or continuation of same data etc.  we use this method\n",
    "lst_IM = [1, 2] * 5\n",
    "print(\"Added Elements using Integer Multiplication -> \", lst_IM)\n",
    "lst_IM1 = [[1, 2] * 3, [\"a\", \"b\", \"c\"] * 2, [\"21031F0000\", \"abcd\"] * 2]\n",
    "print(\"Added Elements using Integer Multiplication -> \", lst_IM1)"
   ],
   "metadata": {
    "collapsed": false,
    "pycharm": {
     "name": "#%%\n"
    }
   }
  },
  {
   "cell_type": "code",
   "execution_count": 10,
   "outputs": [
    {
     "name": "stdout",
     "output_type": "stream",
     "text": [
      "Added elements using list function ->  [2, 3, 4, 5, 6, 7]\n",
      "Added elements using list function with step ->  [2, 4, 6, 8, 10, 12, 14, 16, 18]\n"
     ]
    }
   ],
   "source": [
    "# 6. list builtin function\n",
    "lst_list = list(range(2,8))\n",
    "print(\"Added elements using list function -> \",lst_list)\n",
    "\n",
    "lst_list1 = list(range(2,20,2))  # used step argument\n",
    "print(\"Added elements using list function with step -> \",lst_list1)"
   ],
   "metadata": {
    "collapsed": false,
    "pycharm": {
     "name": "#%%\n"
    }
   }
  },
  {
   "cell_type": "code",
   "execution_count": 12,
   "outputs": [
    {
     "name": "stdout",
     "output_type": "stream",
     "text": [
      "Append vs Extend Comparision..\n",
      "List Elements before append ->  [1, 2, 'a', 'b', 'c', 4, 5, 6]\n",
      "List Elements before extend ->  [1, 2, 'a', 'b', 'c', 4, 5, 6]\n",
      "List Elements after append ->  [1, 2, 'a', 'b', 'c', 4, 5, 6, [7, 8, 9, 10]] Length =  9\n",
      "So after appending a list it took that list as an element..\n",
      "List Elements after extend ->  [1, 2, 'a', 'b', 'c', 4, 5, 6, 7, 8, 9, 10] Length =  12\n",
      "So after extending a list it took that list elements as an individual element in list..\n",
      "\n"
     ]
    }
   ],
   "source": [
    "# 7. extend is a builtin function\n",
    "# the main difference between append and extend is\n",
    "\n",
    "# append function appends only the incoming element to the end of the list as a single new element.\n",
    "# Even if the incoming element is itself a list\n",
    "\n",
    "# whereas extends Iterates over its argument and adding each element to the list and extending the list.\n",
    "# The length of the list increases by a number of elements in its argument.\n",
    "\n",
    "lst_ap_ext1 = [1,2,\"a\",\"b\",\"c\",4,5,6]\n",
    "lst_ap_ext2 = [1,2,\"a\",\"b\",\"c\",4,5,6]\n",
    "\n",
    "print(\"Append vs Extend Comparision..\")\n",
    "print(\"List Elements before append -> \",lst_ap_ext1)\n",
    "print(\"List Elements before extend -> \",lst_ap_ext2)\n",
    "\n",
    "# let's see difference when we add\n",
    "\n",
    "lst_ap_ext1.append([7,8,9,10])\n",
    "lst_ap_ext2.extend([7,8,9,10])\n",
    "\n",
    "print(\"List Elements after append -> \",lst_ap_ext1,\"Length = \",len(lst_ap_ext1))\n",
    "print(\"So after appending a list it took that list as an element..\")\n",
    "print(\"List Elements after extend -> \",lst_ap_ext2,\"Length = \",len(lst_ap_ext2))\n",
    "print(\"So after extending a list it took that list elements as an individual element in list..\\n\")"
   ],
   "metadata": {
    "collapsed": false,
    "pycharm": {
     "name": "#%%\n"
    }
   }
  },
  {
   "cell_type": "code",
   "execution_count": 21,
   "outputs": [
    {
     "name": "stdout",
     "output_type": "stream",
     "text": [
      "List Elements before insert ->  [1, 2, 11, 'a', 'b', 'c', 4, 5, 6, [7, 8, 9, 10]] Length =  10\n",
      "List Elements before insert ->  [1, 2, 11, 11, 'a', 'b', 'c', 4, 5, 6, [7, 8, 9, 10]] Length =  11\n"
     ]
    }
   ],
   "source": [
    "# 8. insert function\n",
    "# if we want to add at particular position(index) we go with insert function\n",
    "# Suppose i want to insert element 11 at position 2 in above list\n",
    "print(\"List Elements before insert -> \",lst_ap_ext1,\"Length = \",len(lst_ap_ext1))\n",
    "lst_ap_ext1.insert(2,11)\n",
    "print(\"List Elements before insert -> \",lst_ap_ext1,\"Length = \",len(lst_ap_ext1))"
   ],
   "metadata": {
    "collapsed": false,
    "pycharm": {
     "name": "#%%\n"
    }
   }
  },
  {
   "cell_type": "code",
   "execution_count": 22,
   "outputs": [],
   "source": [
    "# Ways of Deleting Elements from list\n",
    "# 1. remove function\n",
    "# 2. del function\n",
    "# 3. pop function"
   ],
   "metadata": {
    "collapsed": false,
    "pycharm": {
     "name": "#%%\n"
    }
   }
  },
  {
   "cell_type": "code",
   "execution_count": 26,
   "outputs": [
    {
     "name": "stdout",
     "output_type": "stream",
     "text": [
      "Before deleting using remove function  [1, 2, 'a', 'b', 2, 2, 4, 'b', 'a']\n",
      "After deleting using remove function  [1, 'a', 'b', 2, 2, 4, 'b', 'a']\n",
      "After deleting using remove function  [1, 'b', 2, 2, 4, 'b', 'a']\n"
     ]
    }
   ],
   "source": [
    "#1.remove()\n",
    "# remove() deletes the first instance of a value in a list.\n",
    "# This method should be used when one knows exactly which value they want to delete regardless of the index.\n",
    "lst_remove = [1,2,\"a\",\"b\",2,2,4,\"b\",\"a\"]\n",
    "print(\"Before deleting using remove function \",lst_remove)\n",
    "lst_remove.remove(2)  # here 2 is the element in list not index\n",
    "                      # so don't confuse here that we might think of index and put 2 , so remove function asks which item to delete -->!.. not index\n",
    "print(\"After deleting 2 using remove function \",lst_remove)\n",
    "lst_remove.remove(\"a\")\n",
    "print(\"After deleting a using remove function \",lst_remove)"
   ],
   "metadata": {
    "collapsed": false,
    "pycharm": {
     "name": "#%%\n"
    }
   }
  },
  {
   "cell_type": "code",
   "execution_count": 33,
   "outputs": [
    {
     "name": "stdout",
     "output_type": "stream",
     "text": [
      "      Removing using index        \n",
      "Before deleting using del function  [1, 2, 'a', 'b', 2, 2, 4, 'b', 'a']\n",
      "After deleting using del function  [1, 2, 'b', 2, 2, 4, 'b', 'a'] \n",
      "\n",
      "      Removing using slicing        \n",
      "Before deleting using del function  [1, 2, 'b', 2, 2, 4, 'b', 'a']\n",
      "After deleting using del function  [1, 2, 4, 'b', 'a']\n",
      "      Removing Whole List        \n",
      "Before deleting using del function  [1, 2, 4, 'b', 'a']\n"
     ]
    },
    {
     "ename": "NameError",
     "evalue": "name 'lst_del' is not defined",
     "output_type": "error",
     "traceback": [
      "\u001B[1;31m---------------------------------------------------------------------------\u001B[0m",
      "\u001B[1;31mNameError\u001B[0m                                 Traceback (most recent call last)",
      "Input \u001B[1;32mIn [33]\u001B[0m, in \u001B[0;36m<cell line: 22>\u001B[1;34m()\u001B[0m\n\u001B[0;32m     20\u001B[0m \u001B[38;5;28mprint\u001B[39m(\u001B[38;5;124m\"\u001B[39m\u001B[38;5;124mBefore deleting using del function \u001B[39m\u001B[38;5;124m\"\u001B[39m,lst_del)\n\u001B[0;32m     21\u001B[0m \u001B[38;5;28;01mdel\u001B[39;00m(lst_del)  \u001B[38;5;66;03m# Whole list will be deleted \u001B[39;00m\n\u001B[1;32m---> 22\u001B[0m \u001B[38;5;28mprint\u001B[39m(\u001B[38;5;124m\"\u001B[39m\u001B[38;5;124mAfter deleting using del function \u001B[39m\u001B[38;5;124m\"\u001B[39m,\u001B[43mlst_del\u001B[49m)\n",
      "\u001B[1;31mNameError\u001B[0m: name 'lst_del' is not defined"
     ]
    }
   ],
   "source": [
    "# 2.del\n",
    "# del can be used to delete a single index of a list, a slice of a list, or the complete list.\n",
    "lst_del = [1,2,\"a\",\"b\",2,2,4,\"b\",\"a\"]\n",
    "\n",
    "## removing using index\n",
    "print(\"      Removing using index        \")\n",
    "print(\"Before deleting using del function \",lst_del)\n",
    "del(lst_del[2])  # Here 2 is the index not the element which is present in the list\n",
    "                 # so elelemt at index 2 is deleted from list\n",
    "print(\"After deleting using del function \",lst_del,'\\n')\n",
    "\n",
    "## removing using slicing\n",
    "print(\"      Removing using slicing        \")\n",
    "print(\"Before deleting using del function \",lst_del)\n",
    "del(lst_del[2:5])  # Here I want sublist to be deleted specifying that I want to remove elements present from index 2 to 5 (includes 2 excludes 5 i.e 2,3,4)\n",
    "print(\"After deleting using del function \",lst_del)\n",
    "\n",
    "## removing entire list with signature\n",
    "print(\"      Removing Whole List        \")\n",
    "print(\"Before deleting using del function \",lst_del)\n",
    "del(lst_del)  # Whole list will be deleted  --> after this step you get ---> ....  NameError: name 'lst_del' is not defined which means our list is deleted\n",
    "print(\"After deleting using del function \",lst_del)\n"
   ],
   "metadata": {
    "collapsed": false,
    "pycharm": {
     "name": "#%%\n"
    }
   }
  },
  {
   "cell_type": "code",
   "execution_count": 34,
   "outputs": [
    {
     "name": "stdout",
     "output_type": "stream",
     "text": [
      "Elements Before deleting -> [1, 2, 'a', 'b', 2, 2, 4, 'b', 'a']\n",
      "Elements After deleting -> [1, 2, 'b', 2, 2, 4, 'b', 'a']\n"
     ]
    }
   ],
   "source": [
    "# 3.pop\n",
    "# The pop method removes an element at a given index and returns its value.\n",
    "lst_pop = [1,2,\"a\",\"b\",2,2,4,\"b\",\"a\"]\n",
    "print(\"Elements Before deleting ->\",lst_pop)\n",
    "lst_pop.pop(2)  # here 2 is index not item in list\n",
    "print(\"Elements After deleting ->\",lst_pop)"
   ],
   "metadata": {
    "collapsed": false,
    "pycharm": {
     "name": "#%%\n"
    }
   }
  },
  {
   "cell_type": "code",
   "execution_count": 56,
   "outputs": [],
   "source": [
    "# Accessing of Lists\n",
    "# Retrieve elements from lists\n",
    "# which can be done by indexing or slicing\n",
    "# basically indexing starts from 0\n",
    "\n",
    "#Indexing --> Positive(forward) and Negative(backward)\n",
    "\n",
    "# Syntax:\n",
    "# Lst[ Initial : End : IndexJump ]\n",
    "\n",
    "# for positive indexing initial is included and end is not included in slicing\n",
    "# note always initial <- should be always less than -> end    lst_access[6:2]--> not acceptable\n",
    "# if initial =2 and end = 6 then slicing is done by considering 2,3,4,5 not index 6\n",
    "\n",
    "# for negative indexing also initial is included and end is not included in slicing\n",
    "# note always initial <- should be always less than -> end    lst_access[-2:-6]--> not acceptable\n",
    "# if initial =-6 and end = -2 then slicing is done by considering -6,-5,-4,-3 not index -2\n",
    "\n",
    "# if initial is specified and end is not specified then list prints from initial to last eg. lst_access[3:]\n",
    "# if both is not specified  then whole list is printed  eg. lst_access[:]\n",
    "\n",
    "# IndexJump\n",
    "# it is similarly like step in range function\n",
    "# if you specify index-jump then it skips that many elements\n",
    "# eg. lst_access[2:8:2] initial = 2 ,end=8,indexjump = 2  it prints elements of indices 2,4,6 as end=8 which is not included\n",
    "\n",
    "# if initial and end is not included and want to only get elements based on index-jump (positive indexing)\n",
    "# then syntax is lst_access[::2] here initial and end elements will be printed\n",
    "\n",
    "# if initial and end is not included and want to only get elements based on index-jump (negative indexing)\n",
    "# then syntax is lst_access[::-1] here initial and end elements will be printed reverse"
   ],
   "metadata": {
    "collapsed": false,
    "pycharm": {
     "name": "#%%\n"
    }
   }
  },
  {
   "cell_type": "code",
   "execution_count": 61,
   "outputs": [
    {
     "name": "stdout",
     "output_type": "stream",
     "text": [
      "List Elements ->  [100, 101, 102, 103, 104, 105, 106, 107, 108, 109, 110]\n",
      "Initial = 2 and end = 6  Sliced Elements ->  [102, 103, 104, 105]\n",
      "Initial = -6 and end = -2  Sliced Elements ->  [105, 106, 107, 108]\n",
      "Initial = -6 and end not specified so it prints from initial to upto last elements . Sliced Elements ->  [105, 106, 107, 108, 109, 110]\n",
      "Initial and end not specified so it prints  full list . Sliced Elements ->  [100, 101, 102, 103, 104, 105, 106, 107, 108, 109, 110]\n",
      "Initial =2 ,end = 8,indexjump = 2  Sliced Elements with indexjump ->  [102, 104, 106]\n",
      "Initial and end not specified index-jump is 2. Sliced Elements ->  [100, 102, 104, 106, 108, 110]\n",
      "Initial and end not specified index-jump is -2. Sliced Elements ->  [110, 108, 106, 104, 102, 100]\n"
     ]
    }
   ],
   "source": [
    "lst_access = [100, 101, 102, 103, 104, 105, 106, 107, 108, 109, 110]\n",
    "print(\"List Elements -> \",lst_access)\n",
    "print(\"Initial = 2 and end = 6  Sliced Elements -> \",lst_access[2:6])\n",
    "print(\"Initial = -6 and end = -2  Sliced Elements -> \",lst_access[-6:-2])\n",
    "print(\"Initial = -6 and end not specified so it prints from initial to upto last elements . Sliced Elements -> \",lst_access[-6:])\n",
    "print(\"Initial and end not specified so it prints  full list . Sliced Elements -> \",lst_access[:])\n",
    "print(\"Initial =2 ,end = 8,indexjump = 2  Sliced Elements with indexjump -> \",lst_access[2:8:2])\n",
    "print(\"Initial and end not specified index-jump is 2. Sliced Elements -> \",lst_access[::2])\n",
    "print(\"Initial and end not specified index-jump is -2. Sliced Elements -> \",lst_access[::-2])"
   ],
   "metadata": {
    "collapsed": false,
    "pycharm": {
     "name": "#%%\n"
    }
   }
  },
  {
   "cell_type": "code",
   "execution_count": 35,
   "outputs": [
    {
     "name": "stdout",
     "output_type": "stream",
     "text": [
      "\n",
      "--------------------------------------------------------------TUPLE DATA STRUCTURE--------------------------------------------------------------\n",
      "\n"
     ]
    }
   ],
   "source": [
    "print(\n",
    "    \"\\n--------------------------------------------------------------TUPLE DATA STRUCTURE--------------------------------------------------------------\\n\")"
   ],
   "metadata": {
    "collapsed": false,
    "pycharm": {
     "name": "#%%\n"
    }
   }
  },
  {
   "cell_type": "code",
   "execution_count": 62,
   "outputs": [],
   "source": [
    "# 1.Tuples are basically a data type in python.\n",
    "# 2.These tuples are an ordered collection of elements of different data types.\n",
    "# 3.We can also define tuples as lists that we cannot change.\n",
    "# 4.Therefore, we can call them immutable tuples. Hence, tuples are not modifiable in nature\n",
    "# 5.Moreover, we access elements by using the index starting from zero.\n",
    "\n",
    "# The primary differing characteristic between lists and tuples is mutability.\n",
    "# Lists are mutable, whereas tuples are immutable.\n",
    "# Tuples cannot be modified, added, or deleted once they’ve been created.\n",
    "# Tuples are defined by using parentheses to enclose the elements, which are separated by commas.\n",
    "\n",
    "# tuple is created by specifying open parentheses --> () -  which is assigned to variable\n",
    "# let's see the implementation\n",
    "# tup = ()"
   ],
   "metadata": {
    "collapsed": false,
    "pycharm": {
     "name": "#%%\n"
    }
   }
  },
  {
   "cell_type": "code",
   "execution_count": 74,
   "outputs": [
    {
     "name": "stdout",
     "output_type": "stream",
     "text": [
      "Tuple items with numbers ->  (1, 2, 3)\n",
      "Tuple items with numbers and strings ->  ('abcd', 2, 3, 4, 'efg')\n",
      "Tuple with single item  without comma ->  klmn  type =  <class 'str'>\n",
      "Tuple with single item comma ->  ('klmn',)  type =  <class 'tuple'>\n"
     ]
    }
   ],
   "source": [
    "tup = (1,2,3)\n",
    "print(\"Tuple items with numbers -> \",tup)\n",
    "tup_mul = ('abcd',2,3,4,'efg')\n",
    "print(\"Tuple items with numbers and strings -> \",tup_mul)\n",
    "\n",
    "# Suppose if you want to have tuple with only one item then we must use a comma after the item.\n",
    "# For list, I can specify like   lt = [\"klmn\"] -> which is acceptable and type is also list\n",
    "# whereas in tuple lt=(\"klmn\") -> considers as normal type so klmn is str so its type is also str  but we want that to be tuple item then see following\n",
    "# lt=(\"klmn\",)-> this accepts as tuple item\n",
    "# This is done to enable Python to differentiate between the tuple and the parentheses surrounding the object in the equation.\n",
    "\n",
    "tup_sgl_without_comma = (\"klmn\")\n",
    "print(\"Tuple with single item  without comma -> \",tup_sgl_without_comma,\" type = \",type(tup_sgl_without_comma))\n",
    "\n",
    "tup_sgl_with_comma = (\"klmn\",)\n",
    "print(\"Tuple with single item comma -> \",tup_sgl_with_comma,\" type = \",type(tup_sgl_with_comma))"
   ],
   "metadata": {
    "collapsed": false,
    "pycharm": {
     "name": "#%%\n"
    }
   }
  },
  {
   "cell_type": "code",
   "execution_count": 101,
   "outputs": [
    {
     "name": "stdout",
     "output_type": "stream",
     "text": [
      "Added element using += oprator tuple elements ->  (22.546, 2578, 'akjef', 'rtgs', 'neft')\n",
      "Added element using tuple function tuple elements ->  (22.546, 2578, 'akjef', 'rtgs', 'neft', 'smps')\n",
      "Tuple new -> (1, 2, 3, 4, (5, 6, 7))\n",
      "Tuple new 1 treated as individual items -> ((1, 2, 3, 4, 5, 6, 7),)\n"
     ]
    }
   ],
   "source": [
    "# Adding an item to tuple\n",
    "# item should also be tuple to be added into another tuple\n",
    "# unlike lists tuples have less functionality\n",
    "# There are two ways of adding\n",
    "# 1. with += operator\n",
    "# 2. with tuple function\n",
    "\n",
    "# Note if you want to add a single element into tuple always mention in tuple format - (\"abcd\",)    -> don't forget to mention comma\n",
    "# if you specify \"abcd\" then it is of not type tuple  i will show with an example\n",
    "\n",
    "# 1. with += operator\n",
    "# let's see the implementation details\n",
    "tup_plus_equal = (22.546,2578,\"akjef\",\"rtgs\")\n",
    "tup_plus_equal+=(\"neft\",)\n",
    "print(\"Added element using += oprator tuple elements -> \",tup_plus_equal)\n",
    "\n",
    "# with tuple function\n",
    "tup_tuple = tup_plus_equal+tuple((\"smps\",))\n",
    "print(\"Added element using tuple function tuple elements -> \",tup_tuple)\n",
    "\n",
    "# following is also acceptable\n",
    "tup_new = (1,2,3,4) +((5,6,7),)\n",
    "print(\"Tuple new ->\",tup_new)\n",
    "\n",
    "# but don't  mention as follows if you want 5,6,7 as one tuple object\n",
    "# if you mention as follows then 5,6,7  is added as individual item\n",
    "# this is because +(plus) has higher priority than ,(comma)\n",
    "tup_new1 = (1,2,3,4) + (5,6,7),\n",
    "print(\"Tuple new 1 treated as individual items ->\",tup_new1)"
   ],
   "metadata": {
    "collapsed": false,
    "pycharm": {
     "name": "#%%\n"
    }
   }
  },
  {
   "cell_type": "code",
   "execution_count": 96,
   "outputs": [
    {
     "name": "stdout",
     "output_type": "stream",
     "text": [
      "(22.546, 2578)\n"
     ]
    }
   ],
   "source": [
    "# Accessing elements in tuple is exactly like list indexing\n",
    "# don't mention parentheses for indexing\n",
    "# square brackets are only used for indexing  tuple items\n",
    "print(tup_plus_equal[0:2])"
   ],
   "metadata": {
    "collapsed": false,
    "pycharm": {
     "name": "#%%\n"
    }
   }
  },
  {
   "cell_type": "code",
   "execution_count": 102,
   "outputs": [
    {
     "name": "stdout",
     "output_type": "stream",
     "text": [
      "Tuple converted to list ->  [22.546, 2578, 'akjef', 'rtgs', 'neft']\n"
     ]
    }
   ],
   "source": [
    "# For better functionality you can convert tuple to list with list function and perform all functionality provided for list\n",
    "# and reconvert it to tuple\n",
    "tuple_converted_to_list = list(tup_plus_equal)\n",
    "print(\"Tuple converted to list -> \",tuple_converted_to_list)"
   ],
   "metadata": {
    "collapsed": false,
    "pycharm": {
     "name": "#%%\n"
    }
   }
  },
  {
   "cell_type": "code",
   "execution_count": 103,
   "outputs": [
    {
     "name": "stdout",
     "output_type": "stream",
     "text": [
      "\n",
      "--------------------------------------------------------------DICTIONARY DATA STRUCTURE--------------------------------------------------------------\n",
      "\n"
     ]
    }
   ],
   "source": [
    "print(\n",
    "    \"\\n--------------------------------------------------------------DICTIONARY DATA STRUCTURE--------------------------------------------------------------\\n\")"
   ],
   "metadata": {
    "collapsed": false,
    "pycharm": {
     "name": "#%%\n"
    }
   }
  },
  {
   "cell_type": "code",
   "execution_count": 105,
   "outputs": [],
   "source": [
    "# The dictionary (or dict in short) is a core data structure in Python\n",
    "# It stores key-value pairs and handles data efficiently.\n",
    "# Dictionaries are sometimes found in other languages as “associative memories” or “associative arrays”.\n",
    "# Unlike sequences, which are indexed by a range of numbers, dictionaries are indexed by keys,\n",
    "# which can be any immutable type; strings and numbers can always be keys.\n",
    "# Tuples can be used as keys if they contain only strings, numbers, or tuples;\n",
    "# if a tuple contains any mutable object either directly or indirectly, it cannot be used as a key.\n",
    "# You can’t use lists as keys, since lists can be modified in place using index assignments, slice assignments, or methods like append() and extend().\n",
    "# Creating dictionaries is the first step to take advantage of the powerful data structure\n",
    "# Creating a dictionary looks like a simple task.\n",
    "# However, the real data could be very complicated. One method may not be appropriate for all situations."
   ],
   "metadata": {
    "collapsed": false,
    "pycharm": {
     "name": "#%%\n"
    }
   }
  },
  {
   "cell_type": "code",
   "execution_count": 106,
   "outputs": [],
   "source": [
    "# Implementation of dictionary\n",
    "# A pair of braces creates an empty dictionary -> {}\n",
    "# Placing a comma-separated list of key:value pairs within the braces adds initial key:value pairs to the dictionary\n",
    "\n",
    "# dt = {} --> this assignment tells it is empty dictionary"
   ],
   "metadata": {
    "collapsed": false,
    "pycharm": {
     "name": "#%%\n"
    }
   }
  },
  {
   "cell_type": "code",
   "execution_count": 120,
   "outputs": [
    {
     "name": "stdout",
     "output_type": "stream",
     "text": [
      "Dictionary items with key as string and value as string ->  {'21031F031': 'suresh', '21031F032': 'ramesh', '21031F033': 'mahesh'}\n",
      "\n",
      "Dictionary items with key as string and values as list\n",
      " {'21031F031': ['ramesh', 'cgpa', 9.2, 'passed'], '21031F033': ['mahesh', 'cgpa', 9.3, 'passed']}\n",
      "\n",
      "Dictionary items with key as numbers and values as tuple\n",
      " {123457: ('suresh', 'cgpa', 9.0, 'passed'), 123458: ('ramesh', 'cgpa', 9.2, 'passed'), 123459: ('mahesh', 'cgpa', 9.3, 'passed')}\n",
      "\n",
      "Dictionary items with key as string and values as dictionary\n",
      " {'MCA_2021_Records': {'21031F031': ['ramesh', 'cgpa', 9.2, 'passed'], '21031F033': ['mahesh', 'cgpa', 9.3, 'passed']}}\n"
     ]
    }
   ],
   "source": [
    "dt = {\"21031F031\":\"suresh\",\"21031F032\":\"ramesh\",\"21031F033\":\"mahesh\"} # key and value is seperated by colon and pairs are seperated by commas\n",
    "                                                                      # key is always unique and key can be number ,string and only tuple\n",
    "                                                                      # values can be lists,tuples,dictionaries... anything.\n",
    "print(\"Dictionary items with key as string and value as string -> \",dt)\n",
    "\n",
    "dt_value_list = {\"21031F031\":[\"suresh\",\"cgpa\",9.0,\"passed\"],\"21031F032\":[\"ramesh\",\"cgpa\",9.2,\"passed\"],\"21031F033\":[\"mahesh\",\"cgpa\",9.3,\"passed\"]}\n",
    "print(\"\\nDictionary items with key as string and values as list\\n\",dt_value_list)\n",
    "\n",
    "dt_value_tuple = {123457:(\"suresh\",\"cgpa\",9.0,\"passed\"),123458:(\"ramesh\",\"cgpa\",9.2,\"passed\"),123459:(\"mahesh\",\"cgpa\",9.3,\"passed\")}\n",
    "print(\"\\nDictionary items with key as numbers and values as tuple\\n\",dt_value_tuple)\n",
    "\n",
    "dt_value_dict = {\"MCA_2021_Records\":dt_value_list}  ## adding already defined dictionary\n",
    "print(\"\\nDictionary items with key as string and values as dictionary\\n\",dt_value_dict)"
   ],
   "metadata": {
    "collapsed": false,
    "pycharm": {
     "name": "#%%\n"
    }
   }
  },
  {
   "cell_type": "code",
   "execution_count": 123,
   "outputs": [
    {
     "name": "stdout",
     "output_type": "stream",
     "text": [
      "Dictionary with same key value is not accepted  ->  {123: 'ijkl', 234: 'efgh'}\n"
     ]
    }
   ],
   "source": [
    "## Suppose if you mention keys with same value what happens let's see\n",
    "dt_with_same_key = {123:\"abcd\",234:\"efgh\",123:\"ijkl\"}\n",
    "\n",
    "print(\"Dictionary with same key value is not accepted  -> \",dt_with_same_key)\n",
    "\n",
    "# so you can see from below that dictionaries does not allow duplicates and the value inserted last is taken into consideration"
   ],
   "metadata": {
    "collapsed": false,
    "pycharm": {
     "name": "#%%\n"
    }
   }
  },
  {
   "cell_type": "code",
   "execution_count": 124,
   "outputs": [],
   "source": [
    "# Adding items to dictionaries\n",
    "# 1. subscript notation\n",
    "# 2. update method\n",
    "# 3.  ** operator\n",
    "# 4. dictionary comprehension\n",
    "# 5. dict function\n",
    "# 6. merge operator"
   ],
   "metadata": {
    "collapsed": false,
    "pycharm": {
     "name": "#%%\n"
    }
   }
  },
  {
   "cell_type": "code",
   "execution_count": 132,
   "outputs": [
    {
     "name": "stdout",
     "output_type": "stream",
     "text": [
      "Before adding using subscript notation dict elements ->  {'21031F031': 'suresh', '21031F032': 'ramesh', '21031F033': 'mahesh'}\n",
      "\n",
      "After adding using subscript notation dict elements \n",
      " {'21031F031': 'suresh', '21031F032': 'ramesh', '21031F033': 'mahesh', '21031F034': 'somesh', '21031F035': 'naresh'}\n"
     ]
    }
   ],
   "source": [
    "# 1. subscript notation\n",
    "dt_add ={\"21031F031\":\"suresh\",\n",
    "         \"21031F032\":\"ramesh\",\n",
    "         \"21031F033\":\"mahesh\"}\n",
    "\n",
    "print(\"Before adding using subscript notation dict elements -> \",dt_add)\n",
    "\n",
    "dt_add[\"21031F034\"] = \"somesh\"                                              ## with the help of looping it will be much more efficient\n",
    "dt_add[\"21031F035\"] = \"naresh\"\n",
    "\n",
    "print(\"\\nAfter adding using subscript notation dict elements \\n\",dt_add)"
   ],
   "metadata": {
    "collapsed": false,
    "pycharm": {
     "name": "#%%\n"
    }
   }
  },
  {
   "cell_type": "code",
   "execution_count": 133,
   "outputs": [
    {
     "name": "stdout",
     "output_type": "stream",
     "text": [
      "\n",
      "Before adding using update dict elements\n",
      " {'21031F031': 'suresh', '21031F032': 'ramesh', '21031F033': 'mahesh', '21031F034': 'somesh', '21031F035': 'naresh'}\n",
      "\n",
      "After adding using update dict elements\n",
      " {'21031F031': 'suresh', '21031F032': 'ramesh', '21031F033': 'mahesh', '21031F034': 'somesh', '21031F035': 'naresh', '21031F036': 'umesh', '21031F037': 'rajesh'}\n"
     ]
    }
   ],
   "source": [
    "# 2. update method  (symbol ->  |=)\n",
    "print(\"\\nBefore adding using update dict elements\\n\",dt_add)\n",
    "\n",
    "add_elements = {'21031F036': 'umesh','21031F037': 'rajesh'}    ## values can also be lists,tuples,dictionaries etc..\n",
    "\n",
    "dt_add.update(add_elements)\n",
    "# or add_elements |= dt_add\n",
    "\n",
    "print(\"\\nAfter adding using update dict elements\\n\",dt_add)"
   ],
   "metadata": {
    "collapsed": false,
    "pycharm": {
     "name": "#%%\n"
    }
   }
  },
  {
   "cell_type": "code",
   "execution_count": 135,
   "outputs": [
    {
     "name": "stdout",
     "output_type": "stream",
     "text": [
      "\n",
      "Before adding using **operator dict elements\n",
      " {'21031F031': 'suresh', '21031F032': 'ramesh', '21031F033': 'mahesh', '21031F034': 'somesh', '21031F035': 'naresh', '21031F036': 'umesh', '21031F037': 'rajesh'}\n",
      "\n",
      "After adding using ** dict elements\n",
      " {'21031F031': 'suresh', '21031F032': 'ramesh', '21031F033': 'mahesh', '21031F034': 'somesh', '21031F035': 'naresh', '21031F036': 'umesh', '21031F037': 'rajesh', '21031F038': 'praanesh'}\n"
     ]
    }
   ],
   "source": [
    "# 3. ** operator\n",
    "# We can merge the old dictionary  -- here dt_add -- and new key/value pair in another dictionary.\n",
    "# Using ** in front of key-value pairs  will unpack it as a new dictionary object.\n",
    "\n",
    "print(\"\\nBefore adding using **operator dict elements\\n\",dt_add)\n",
    "\n",
    "new_dt = {**dt_add,**{\"21031F038\":\"praanesh\"}}\n",
    "\n",
    "print(\"\\nAfter adding using ** operator dict elements\\n\",new_dt)"
   ],
   "metadata": {
    "collapsed": false,
    "pycharm": {
     "name": "#%%\n"
    }
   }
  },
  {
   "cell_type": "code",
   "execution_count": 137,
   "outputs": [
    {
     "name": "stdout",
     "output_type": "stream",
     "text": [
      "Dictionary Comprehension Creating ->  {1: 1, 2: 4, 3: 9, 4: 16, 5: 25, 6: 36, 7: 49, 8: 64, 9: 81, 10: 100}\n",
      "\n",
      "Dictionary Comprehension by using created dictionary\n",
      " {'21031F031': 'suresh', '21031F032': 'ramesh', '21031F033': 'mahesh', '21031F034': 'somesh', '21031F035': 'naresh', '21031F036': 'umesh', '21031F037': 'rajesh'}\n"
     ]
    }
   ],
   "source": [
    "# 4. dictionary comprehension\n",
    "dt_comp = {i:i**2 for i in range(1,11)}   # creating from start\n",
    "print(\"Dictionary Comprehension Creating -> \",dt_comp)\n",
    "\n",
    "dt_comp1 = {k:v for k,v in dt_add.items()}\n",
    "print(\"\\nDictionary Comprehension by using created dictionary\\n\",dt_comp1)"
   ],
   "metadata": {
    "collapsed": false,
    "pycharm": {
     "name": "#%%\n"
    }
   }
  },
  {
   "cell_type": "code",
   "execution_count": 142,
   "outputs": [
    {
     "name": "stdout",
     "output_type": "stream",
     "text": [
      "Dictionary Values using dict function  ->  {1: 'a', 2: 'b', 3: 'c'}\n"
     ]
    }
   ],
   "source": [
    "# 5.dict function\n",
    "dt_dict = dict( ((1,\"a\"),(2,\"b\"),(3,\"c\")) )   # As already mentioned dict takes tuple values as key\n",
    "print(\"Dictionary Values using dict function  -> \",dt_dict)"
   ],
   "metadata": {
    "collapsed": false,
    "pycharm": {
     "name": "#%%\n"
    }
   }
  },
  {
   "cell_type": "code",
   "execution_count": 143,
   "outputs": [
    {
     "name": "stdout",
     "output_type": "stream",
     "text": [
      "Dictionary Values using merge operator ->  {1: 'a', 2: 'b', 3: 'c', 4: 'd', 5: 'e', 6: 'f'}\n"
     ]
    }
   ],
   "source": [
    "# 6. merge operator  (symbol -> | )\n",
    "add_ele = {4:\"d\",5:\"e\",6:\"f\"}\n",
    "dt_merge = dt | add_ele\n",
    "print(\"Dictionary Values using merge operator -> \",dt_merge)"
   ],
   "metadata": {
    "collapsed": false,
    "pycharm": {
     "name": "#%%\n"
    }
   }
  },
  {
   "cell_type": "code",
   "execution_count": 146,
   "outputs": [],
   "source": [
    "# Accessing Dictionary items\n",
    "# 1. using in operator  (with subscript notation)\n",
    "# 2. dict.items()   ## here dict is not inbuilt function , the function you created\n",
    "                    # so generally syntax is dict_you_created.item()  eg. above one dt_merge.items()\n",
    "# 3. get method\n",
    "# 4. keys         ## this helps to get value based on key --  which is similar to subscript notation\n",
    "# 5. dictionary comprehension is also useful for accessing"
   ],
   "metadata": {
    "collapsed": false,
    "pycharm": {
     "name": "#%%\n"
    }
   }
  },
  {
   "cell_type": "code",
   "execution_count": 150,
   "outputs": [
    {
     "name": "stdout",
     "output_type": "stream",
     "text": [
      "1 a\n",
      "2 b\n",
      "3 c\n",
      "4 d\n",
      "5 e\n",
      "6 f\n"
     ]
    }
   ],
   "source": [
    "# considering above example dt_merge\n",
    "# 1. in operator\n",
    "for i in dt_merge:\n",
    "    print(i,dt_merge[i])    # using subscript notation  , left are keys and right are values"
   ],
   "metadata": {
    "collapsed": false,
    "pycharm": {
     "name": "#%%\n"
    }
   }
  },
  {
   "cell_type": "code",
   "execution_count": 157,
   "outputs": [
    {
     "name": "stdout",
     "output_type": "stream",
     "text": [
      "21031F031 suresh\n",
      "21031F032 ramesh\n",
      "21031F033 mahesh\n",
      "21031F034 somesh\n",
      "21031F035 naresh\n",
      "21031F036 umesh\n",
      "21031F037 rajesh\n",
      "dict_items([('21031F031', 'suresh'), ('21031F032', 'ramesh'), ('21031F033', 'mahesh'), (4, 'd'), (5, 'e'), (6, 'f')])\n"
     ]
    }
   ],
   "source": [
    "# 2. dict.items() --->  this prints all keys and their values present in dictionary as tuples and collection of pairs as list\n",
    "for k,v in dt_add.items():\n",
    "    print(k,v)\n",
    "print(dt.items())"
   ],
   "metadata": {
    "collapsed": false,
    "pycharm": {
     "name": "#%%\n"
    }
   }
  },
  {
   "cell_type": "code",
   "execution_count": 161,
   "outputs": [
    {
     "name": "stdout",
     "output_type": "stream",
     "text": [
      "ramesh\n",
      "['ramesh', 'cgpa', 9.2, 'passed'] Not Present\n",
      "Not present\n"
     ]
    }
   ],
   "source": [
    "# 3. get method   --> this method is one of the best choices you can make when dealing with a dictionary.\n",
    "# This method has 2 parameters, the first 1 is required while the second one is optional.\n",
    "# However, to use the full potential of the get() method, I suggest you fill both parameters.\n",
    "\n",
    "# First: the name of the key which value you want to retrieve\n",
    "# Second: the value used if the key we are searching does not exist in the\n",
    "\n",
    "print(dt.get(\"21031F032\",\"Not Present\"))\n",
    "# --> the above is telling that search for roll_number 21031F032   if not present print  Not Present --> this is second argument\n",
    "# here second argument is optional    you can specify or not   whereas default is None\n",
    "\n",
    "print(dt_value_list.get('21031F031'),\"Not Present\")\n",
    "\n",
    "print(dt.get(\"21031F042\",\"Not present\"))"
   ],
   "metadata": {
    "collapsed": false,
    "pycharm": {
     "name": "#%%\n"
    }
   }
  },
  {
   "cell_type": "code",
   "execution_count": 156,
   "outputs": [
    {
     "name": "stdout",
     "output_type": "stream",
     "text": [
      "dict_keys(['21031F031', '21031F032', '21031F033', '21031F034', '21031F035', '21031F036', '21031F037'])\n",
      "dict_items([('21031F031', 'suresh'), ('21031F032', 'ramesh'), ('21031F033', 'mahesh'), (4, 'd'), (5, 'e'), (6, 'f')])\n"
     ]
    }
   ],
   "source": [
    "# 4. keys  --->  this prints all keys present in dictionary as list\n",
    "print(dt_add.keys())"
   ],
   "metadata": {
    "collapsed": false,
    "pycharm": {
     "name": "#%%\n"
    }
   }
  },
  {
   "cell_type": "code",
   "execution_count": 158,
   "outputs": [
    {
     "name": "stdout",
     "output_type": "stream",
     "text": [
      "{'21031F031': ['ramesh', 'cgpa', 9.2, 'passed'], '21031F033': ['mahesh', 'cgpa', 9.3, 'passed']}\n"
     ]
    }
   ],
   "source": [
    "# 5. dictionary comprehension --> similar to like items()  but here this creates a new dictionary\n",
    "dt_cmp = {k:v for k,v in dt_value_list.items()}\n",
    "print(dt_cmp)"
   ],
   "metadata": {
    "collapsed": false,
    "pycharm": {
     "name": "#%%\n"
    }
   }
  },
  {
   "cell_type": "code",
   "execution_count": 162,
   "outputs": [
    {
     "name": "stdout",
     "output_type": "stream",
     "text": [
      "\n",
      "-------------------------------------------------------------- SET DATA STRUCTURE--------------------------------------------------------------\n",
      "\n"
     ]
    }
   ],
   "source": [
    "print(\n",
    "    \"\\n-------------------------------------------------------------- SET DATA STRUCTURE--------------------------------------------------------------\\n\")"
   ],
   "metadata": {
    "collapsed": false,
    "pycharm": {
     "name": "#%%\n"
    }
   }
  },
  {
   "cell_type": "code",
   "execution_count": 163,
   "outputs": [],
   "source": [
    "# Sets are unordered. This means that they do not preserve the original order in which they were created.\n",
    "# Set elements must be unique, as duplicates are not allowed. In case a duplicate value is added, it will be displayed only once.\n",
    "# The elements in a set must be of an immutable type. But the set itself can be modified by operations like union, intersection, and so on."
   ],
   "metadata": {
    "collapsed": false,
    "pycharm": {
     "name": "#%%\n"
    }
   }
  },
  {
   "cell_type": "code",
   "execution_count": 164,
   "outputs": [],
   "source": [
    "# How to Define a Set in Python\n",
    "# There are two main methods to create sets.\n",
    "# One is using the set function and the other is to use curly braces and add objects individually\n",
    "# 1. {} using curly braces --> don't confuse with dictionary because as both uses same curly braces but default curly braces is dictionary\n",
    "# if you specify elements in curly braces where every element is seperated by comma and element is not key value pair then  it is a set\n",
    "# 2. set() in built function ."
   ],
   "metadata": {
    "collapsed": false,
    "pycharm": {
     "name": "#%%\n"
    }
   }
  },
  {
   "cell_type": "code",
   "execution_count": 166,
   "outputs": [
    {
     "name": "stdout",
     "output_type": "stream",
     "text": [
      "Set elements ->  {False, 'b', 2, True, 'a', 10.25, 58795.5545}\n"
     ]
    }
   ],
   "source": [
    "# An interesting point about sets is that elements can be of different data types\n",
    "sett = {\"a\",\"b\",10.25,58795.5545,2,True,False}\n",
    "print(\"Set elements -> \",sett)    # result is unordered"
   ],
   "metadata": {
    "collapsed": false,
    "pycharm": {
     "name": "#%%\n"
    }
   }
  },
  {
   "cell_type": "code",
   "execution_count": 175,
   "outputs": [
    {
     "name": "stdout",
     "output_type": "stream",
     "text": [
      "Set elements  sending only string ->  {'b', 'a', 'c', 'd'}\n",
      "Set elements sending list  ->  {1234, 'sfs', 'fsgd', 1487}\n",
      "Set elements sending tuple  ->  {1234, 'sfs', 'fsgd', 1487}\n",
      "Set elements sending dictionary  ->  {1234, 1487}\n",
      "Set elements sending set  ->  {1234, 'sfs', 'fsgd', 1487}\n"
     ]
    }
   ],
   "source": [
    "sett_set = set(\"abcd\")   # -> here i can pass element as string ,list,tuple,dictionary even set also but not number\n",
    "print(\"Set elements  sending only string -> \",sett_set)\n",
    "\n",
    "sett_set1 = set([1234,\"sfs\",1487,\"fsgd\"])\n",
    "print(\"Set elements sending list  -> \",sett_set1)\n",
    "\n",
    "sett_set2 = set((1234,\"sfs\",1487,\"fsgd\"))\n",
    "print(\"Set elements sending tuple  -> \",sett_set2)\n",
    "\n",
    "sett_set3 = set({1234:\"sfs\",1487:\"fsgd\"})    # this only takes keys\n",
    "print(\"Set elements sending dictionary  -> \",sett_set3)\n",
    "\n",
    "sett_set4 = set({1234,\"sfs\",1487,\"fsgd\"})\n",
    "print(\"Set elements sending set  -> \",sett_set4)"
   ],
   "metadata": {
    "collapsed": false,
    "pycharm": {
     "name": "#%%\n"
    }
   }
  },
  {
   "cell_type": "code",
   "execution_count": 179,
   "outputs": [
    {
     "name": "stdout",
     "output_type": "stream",
     "text": [
      "{'sfs', 'fsgd', 1487, 'e', 1234}\n",
      "{False, 'b', 2, True, 10.25, 58795.5545, 'sfs', 'fsgd', 1487, 'e', 1234, 'a'}\n"
     ]
    }
   ],
   "source": [
    "# Elements can be added using add function and update function\n",
    "sett_set1.add(\"e\")\n",
    "print(sett_set1)\n",
    "\n",
    "sett_set1.update(sett)    # this is similar to extend function  in list\n",
    "print(sett_set1)"
   ],
   "metadata": {
    "collapsed": false,
    "pycharm": {
     "name": "#%%\n"
    }
   }
  },
  {
   "cell_type": "code",
   "execution_count": 183,
   "outputs": [
    {
     "ename": "TypeError",
     "evalue": "unhashable type: 'list'",
     "output_type": "error",
     "traceback": [
      "\u001B[1;31m---------------------------------------------------------------------------\u001B[0m",
      "\u001B[1;31mTypeError\u001B[0m                                 Traceback (most recent call last)",
      "Input \u001B[1;32mIn [183]\u001B[0m, in \u001B[0;36m<cell line: 3>\u001B[1;34m()\u001B[0m\n\u001B[0;32m      1\u001B[0m \u001B[38;5;66;03m# Remember one thing the set elements must be immutable. As tuples are immutable, we can include them in sets:\u001B[39;00m\n\u001B[0;32m      2\u001B[0m \u001B[38;5;66;03m# we cannot include lists and dictionaries in sets as they are mutable.\u001B[39;00m\n\u001B[1;32m----> 3\u001B[0m sett_will_not_include_list \u001B[38;5;241m=\u001B[39m {[\u001B[38;5;241m1\u001B[39m,\u001B[38;5;241m2\u001B[39m,\u001B[38;5;241m3\u001B[39m,\u001B[38;5;241m5\u001B[39m],\u001B[38;5;241m7\u001B[39m,\u001B[38;5;241m78\u001B[39m,\u001B[38;5;241m8\u001B[39m,\u001B[38;5;241m2\u001B[39m}\n\u001B[0;32m      4\u001B[0m \u001B[38;5;28mprint\u001B[39m(sett_will_not_include_list)\n",
      "\u001B[1;31mTypeError\u001B[0m: unhashable type: 'list'"
     ]
    }
   ],
   "source": [
    "# Remember one thing the set elements must be immutable. As tuples are immutable, we can include them in sets:\n",
    "# we cannot include lists and dictionaries in sets as they are mutable.\n",
    "sett_will_not_include_list = {[1,2,3,5],7,78,8,2}\n",
    "print(sett_will_not_include_list)"
   ],
   "metadata": {
    "collapsed": false,
    "pycharm": {
     "name": "#%%\n"
    }
   }
  },
  {
   "cell_type": "code",
   "execution_count": 184,
   "outputs": [
    {
     "ename": "TypeError",
     "evalue": "unhashable type: 'dict'",
     "output_type": "error",
     "traceback": [
      "\u001B[1;31m---------------------------------------------------------------------------\u001B[0m",
      "\u001B[1;31mTypeError\u001B[0m                                 Traceback (most recent call last)",
      "Input \u001B[1;32mIn [184]\u001B[0m, in \u001B[0;36m<cell line: 1>\u001B[1;34m()\u001B[0m\n\u001B[1;32m----> 1\u001B[0m sett_will_not_include_dictionary \u001B[38;5;241m=\u001B[39m {{\u001B[38;5;124m\"\u001B[39m\u001B[38;5;124m21031F031\u001B[39m\u001B[38;5;124m\"\u001B[39m:\u001B[38;5;124m\"\u001B[39m\u001B[38;5;124mmadhesh\u001B[39m\u001B[38;5;124m\"\u001B[39m}}\n\u001B[0;32m      2\u001B[0m \u001B[38;5;28mprint\u001B[39m(sett_will_not_include_list)\n",
      "\u001B[1;31mTypeError\u001B[0m: unhashable type: 'dict'"
     ]
    }
   ],
   "source": [
    "sett_will_not_include_dictionary = {{\"21031F031\":\"madhesh\"}}\n",
    "print(sett_will_not_include_list)"
   ],
   "metadata": {
    "collapsed": false,
    "pycharm": {
     "name": "#%%\n"
    }
   }
  },
  {
   "cell_type": "code",
   "execution_count": 186,
   "outputs": [
    {
     "ename": "TypeError",
     "evalue": "unhashable type: 'list'",
     "output_type": "error",
     "traceback": [
      "\u001B[1;31m---------------------------------------------------------------------------\u001B[0m",
      "\u001B[1;31mTypeError\u001B[0m                                 Traceback (most recent call last)",
      "Input \u001B[1;32mIn [186]\u001B[0m, in \u001B[0;36m<cell line: 3>\u001B[1;34m()\u001B[0m\n\u001B[0;32m      1\u001B[0m \u001B[38;5;66;03m## Another is we cannot make a list as set and dictionary as set\u001B[39;00m\n\u001B[0;32m      2\u001B[0m lt \u001B[38;5;241m=\u001B[39m [\u001B[38;5;241m1\u001B[39m,\u001B[38;5;241m2\u001B[39m,\u001B[38;5;241m3\u001B[39m,\u001B[38;5;241m4\u001B[39m,\u001B[38;5;241m5\u001B[39m]\n\u001B[1;32m----> 3\u001B[0m list_cannot_convert_to_set \u001B[38;5;241m=\u001B[39m {lt}\n\u001B[0;32m      4\u001B[0m \u001B[38;5;28mprint\u001B[39m(list_cannot_convert_to_set)\n",
      "\u001B[1;31mTypeError\u001B[0m: unhashable type: 'list'"
     ]
    }
   ],
   "source": [
    "## Another is we cannot make a list as set and dictionary as set\n",
    "lt = [1,2,3,4,5]\n",
    "list_cannot_convert_to_set = {lt}\n",
    "print(list_cannot_convert_to_set)"
   ],
   "metadata": {
    "collapsed": false,
    "pycharm": {
     "name": "#%%\n"
    }
   }
  },
  {
   "cell_type": "code",
   "execution_count": 187,
   "outputs": [
    {
     "ename": "TypeError",
     "evalue": "unhashable type: 'dict'",
     "output_type": "error",
     "traceback": [
      "\u001B[1;31m---------------------------------------------------------------------------\u001B[0m",
      "\u001B[1;31mTypeError\u001B[0m                                 Traceback (most recent call last)",
      "Input \u001B[1;32mIn [187]\u001B[0m, in \u001B[0;36m<cell line: 2>\u001B[1;34m()\u001B[0m\n\u001B[0;32m      1\u001B[0m dts \u001B[38;5;241m=\u001B[39m {\u001B[38;5;124m\"\u001B[39m\u001B[38;5;124m21031F041\u001B[39m\u001B[38;5;124m\"\u001B[39m:\u001B[38;5;124m\"\u001B[39m\u001B[38;5;124mlankesh\u001B[39m\u001B[38;5;124m\"\u001B[39m,\u001B[38;5;124m\"\u001B[39m\u001B[38;5;124m21031F042\u001B[39m\u001B[38;5;124m\"\u001B[39m:\u001B[38;5;124m\"\u001B[39m\u001B[38;5;124mvishwesh\u001B[39m\u001B[38;5;124m\"\u001B[39m}\n\u001B[1;32m----> 2\u001B[0m dict_cannot_convert_to_set \u001B[38;5;241m=\u001B[39m {dts}\n\u001B[0;32m      3\u001B[0m \u001B[38;5;28mprint\u001B[39m(dict_cannot_convert_to_set)\n",
      "\u001B[1;31mTypeError\u001B[0m: unhashable type: 'dict'"
     ]
    }
   ],
   "source": [
    "dts = {\"21031F041\":\"lankesh\",\"21031F042\":\"vishwesh\"}\n",
    "dict_cannot_convert_to_set = {dts}\n",
    "print(dict_cannot_convert_to_set)"
   ],
   "metadata": {
    "collapsed": false,
    "pycharm": {
     "name": "#%%\n"
    }
   }
  },
  {
   "cell_type": "markdown",
   "source": [
    "# Wrapping up\n",
    "# In this  we have learned the different methods to create lists,tuples,dictionaries,sets in Python.\n",
    "# I hope now you're comfortable with creating lists,tuples,dictionaries,sets in Python.\n",
    "# I hope you found this lecture helpful. Thank you for reading till the end. if not (read from first)\n",
    "# What’s your favorite thing you learned from this tutorial? Let me know on Insta,Twitter,Whatsapp (our unofficial group) or any other."
   ],
   "metadata": {
    "collapsed": false,
    "pycharm": {
     "name": "#%% md\n"
    }
   }
  },
  {
   "cell_type": "code",
   "execution_count": null,
   "outputs": [],
   "source": [],
   "metadata": {
    "collapsed": false,
    "pycharm": {
     "name": "#%%\n"
    }
   }
  }
 ],
 "metadata": {
  "kernelspec": {
   "display_name": "Python 3",
   "language": "python",
   "name": "python3"
  },
  "language_info": {
   "codemirror_mode": {
    "name": "ipython",
    "version": 2
   },
   "file_extension": ".py",
   "mimetype": "text/x-python",
   "name": "python",
   "nbconvert_exporter": "python",
   "pygments_lexer": "ipython2",
   "version": "2.7.6"
  }
 },
 "nbformat": 4,
 "nbformat_minor": 0
}